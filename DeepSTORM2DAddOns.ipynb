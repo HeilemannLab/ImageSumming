{
 "cells": [
  {
   "cell_type": "markdown",
   "metadata": {},
   "source": [
    "# DeepSTORM2D Add Ons\n",
    "(1) Convert Picasso csv file to DeepSTORM2D csv format: <br/>\n",
    "*Input file:* Picasso localization file csv, header = frame, x [nm], y [nm], sigma [nm], intensity [photon], offset [photon], bkgstd [photon], uncertainty_xy [nm] <br/>\n",
    "*Output file:* DeepSTORM2D file csv, header = ,frame,x [nm],y [nm],Photon #,Sigma [nm]; frame idx starts at 1 <br/>\n",
    "\n",
    "(2) Convert Picasso hdf5 file to DeepSTORM2D csv format: <br/>\n",
    "*Input file:* Picasso localization file hdf5, header = frame, x, y, photons, sx, sy, bg, lpx, lpy, ellipticity, net_gradient  <br/>\n",
    "*Output file:* DeepSTORM2D file csv, header = ,frame,x [nm],y [nm],Photon #,Sigma [nm]; frame idx starts at 1 <br/>\n",
    "\n",
    "(3) Split tif movie & corresponding localization file at defined frame. <br/>\n",
    "*Input file:* Tif movie & csv file (Picasso or DeepSTORM2D format). <br/>\n",
    "*Parameter split at frame:* Number of frames of the first file. <br/>\n",
    "*Output file:* Two tif movies & csv files, split at defined frame. <br/>\n",
    "\n",
    "(4) Merge multiple movies & localization files. <br/>\n",
    "*Input files:* Define multiple paths to movies and their localization files, adjust the number of files by deactivating \"hide codecell\" and adjusting the variable \"n_measurements\". Picasso or DeepSTORM2D csv formats are possible, but no mixing. <br/>\n",
    "*Output file:* Tif movie with frames of movies stacked and localization file with continous frame numbering. <br/>\n",
    "\n",
    "(5) Split into single frames. <br/>\n",
    "*Input file:* Tif movie & csv file  (Picasso or DeepSTORM2D format). <br/>\n",
    "*Output files:* Single frames of tif movies with corresponding csv file saved in defined directory. <br/>"
   ]
  },
  {
   "cell_type": "code",
   "execution_count": 1,
   "metadata": {},
   "outputs": [],
   "source": [
    "from ImageBinner.widgets import widgetsAddOns, loadAddOns\n",
    "from ImageBinner.tools import addOns\n",
    "from ImageBinner.save import saveAddOns\n",
    "import os\n",
    "import warnings\n",
    "warnings.filterwarnings(\"ignore\")"
   ]
  },
  {
   "cell_type": "markdown",
   "metadata": {
    "heading_collapsed": true
   },
   "source": [
    "## Convert localization file Picasso csv &rarr; DeepSTORM2D format"
   ]
  },
  {
   "cell_type": "markdown",
   "metadata": {
    "hidden": true
   },
   "source": [
    "### Load"
   ]
  },
  {
   "cell_type": "code",
   "execution_count": 2,
   "metadata": {
    "hidden": true
   },
   "outputs": [
    {
     "data": {
      "application/vnd.jupyter.widget-view+json": {
       "model_id": "fffc0999524a4f8f8c41efb7a5c5c51a",
       "version_major": 2,
       "version_minor": 0
      },
      "text/plain": [
       "Text(value='', description='Path to localizations ', placeholder='Insert path', style=DescriptionStyle(descrip…"
      ]
     },
     "metadata": {},
     "output_type": "display_data"
    },
    {
     "data": {
      "application/vnd.jupyter.widget-view+json": {
       "model_id": "34db550bdc954421ac35136ab70dee76",
       "version_major": 2,
       "version_minor": 0
      },
      "text/plain": [
       "Button(description='browse', style=ButtonStyle(), tooltip='browse for file')"
      ]
     },
     "metadata": {},
     "output_type": "display_data"
    }
   ],
   "source": [
    "loc_conv_widget = widgetsAddOns.DefineFiles(\"localizations\", title=\"Import *.csv file\", filetype=(\"csv files\", \"*.csv\"), idx=\"\")\n",
    "loc_conv_widget.file_button.on_click(loc_conv_widget.open_file)\n",
    "loc_conv_widget.file_text_box.observe(loc_conv_widget.change_file_path_box)\n",
    "display(loc_conv_widget.file_text_box, loc_conv_widget.file_button)"
   ]
  },
  {
   "cell_type": "markdown",
   "metadata": {
    "hidden": true
   },
   "source": [
    "### Convert & Save"
   ]
  },
  {
   "cell_type": "code",
   "execution_count": 3,
   "metadata": {
    "hidden": true
   },
   "outputs": [
    {
     "data": {
      "application/vnd.jupyter.widget-view+json": {
       "model_id": "b1d06bd172e44703bc7618287dc442d5",
       "version_major": 2,
       "version_minor": 0
      },
      "text/plain": [
       "Button(description='convert & save', style=ButtonStyle(), tooltip='convert localization file')"
      ]
     },
     "metadata": {},
     "output_type": "display_data"
    }
   ],
   "source": [
    "def run(event):\n",
    "    widget_run.create_clear_output()\n",
    "    display(widget_run.run_convert_button)\n",
    "    if (loc_conv_widget.file_text_box.value):\n",
    "        converter.convert(loc_conv_widget.file_text_box.value)\n",
    "        display(converter.converted_file)\n",
    "        saveAddOns.save_convert_file(loc_conv_widget.file_text_box.value, converter.converted_file)\n",
    "    else:\n",
    "        print(\"Please define a file to convert in the loading section.\")\n",
    "        \n",
    "converter = addOns.Converter()\n",
    "widget_run = widgetsAddOns.RunAnalysis()\n",
    "display(widget_run.run_convert_button)\n",
    "widget_run.run_convert_button.on_click(run)"
   ]
  },
  {
   "cell_type": "markdown",
   "metadata": {
    "heading_collapsed": true
   },
   "source": [
    "## Convert localization file Picasso hdf5 &rarr; DeepSTORM2D format"
   ]
  },
  {
   "cell_type": "markdown",
   "metadata": {
    "hidden": true
   },
   "source": [
    "### Load"
   ]
  },
  {
   "cell_type": "code",
   "execution_count": 4,
   "metadata": {
    "hidden": true
   },
   "outputs": [
    {
     "data": {
      "application/vnd.jupyter.widget-view+json": {
       "model_id": "0c6e455c38784919ba6eea52d5bfcaf4",
       "version_major": 2,
       "version_minor": 0
      },
      "text/plain": [
       "Text(value='', description='Path to localizations ', placeholder='Insert path', style=DescriptionStyle(descrip…"
      ]
     },
     "metadata": {},
     "output_type": "display_data"
    },
    {
     "data": {
      "application/vnd.jupyter.widget-view+json": {
       "model_id": "21dd1080bca443a78d16b77c0029cad6",
       "version_major": 2,
       "version_minor": 0
      },
      "text/plain": [
       "Button(description='browse', style=ButtonStyle(), tooltip='browse for file')"
      ]
     },
     "metadata": {},
     "output_type": "display_data"
    }
   ],
   "source": [
    "loc_conv_widget_h5 = widgetsAddOns.DefineFiles(\"localizations\", title=\"Import *.hdf5 file\", filetype=(\"hdf5 files\", \"*.hdf5\"), idx=\"\")\n",
    "loc_conv_widget_h5.file_button.on_click(loc_conv_widget_h5.open_file)\n",
    "loc_conv_widget_h5.file_text_box.observe(loc_conv_widget_h5.change_file_path_box)\n",
    "display(loc_conv_widget_h5.file_text_box, loc_conv_widget_h5.file_button)"
   ]
  },
  {
   "cell_type": "markdown",
   "metadata": {
    "hidden": true
   },
   "source": [
    "### Convert & Save"
   ]
  },
  {
   "cell_type": "code",
   "execution_count": 5,
   "metadata": {
    "hidden": true
   },
   "outputs": [
    {
     "data": {
      "application/vnd.jupyter.widget-view+json": {
       "model_id": "3308dd059b1844d5a3d903f217bcb7e5",
       "version_major": 2,
       "version_minor": 0
      },
      "text/plain": [
       "Button(description='convert & save', style=ButtonStyle(), tooltip='convert localization file')"
      ]
     },
     "metadata": {},
     "output_type": "display_data"
    }
   ],
   "source": [
    "def run(event):\n",
    "    widget_run_h5.create_clear_output()\n",
    "    display(widget_run_h5.run_convert_button)\n",
    "    if (loc_conv_widget_h5.file_text_box.value):\n",
    "        converter_h5.convert(loc_conv_widget_h5.file_text_box.value)\n",
    "        display(converter_h5.converted_file)\n",
    "        saveAddOns.save_convert_file(loc_conv_widget_h5.file_text_box.value, converter_h5.converted_file)\n",
    "    else:\n",
    "        print(\"Please define a file to convert in the loading section.\")\n",
    "        \n",
    "converter_h5 = addOns.ConverterH5()\n",
    "widget_run_h5 = widgetsAddOns.RunAnalysis()\n",
    "display(widget_run_h5.run_convert_button)\n",
    "widget_run_h5.run_convert_button.on_click(run)"
   ]
  },
  {
   "cell_type": "markdown",
   "metadata": {
    "hidden": true
   },
   "source": [
    "### Save"
   ]
  },
  {
   "cell_type": "markdown",
   "metadata": {
    "heading_collapsed": true
   },
   "source": [
    "## Split movie & localization file at defined frame"
   ]
  },
  {
   "cell_type": "markdown",
   "metadata": {
    "hidden": true
   },
   "source": [
    "### Load"
   ]
  },
  {
   "cell_type": "code",
   "execution_count": 6,
   "metadata": {
    "hidden": true
   },
   "outputs": [
    {
     "data": {
      "application/vnd.jupyter.widget-view+json": {
       "model_id": "7bbd81b09ec84309a09e3fec919292e8",
       "version_major": 2,
       "version_minor": 0
      },
      "text/plain": [
       "Text(value='', description='Path to movie ', placeholder='Insert path', style=DescriptionStyle(description_wid…"
      ]
     },
     "metadata": {},
     "output_type": "display_data"
    },
    {
     "data": {
      "application/vnd.jupyter.widget-view+json": {
       "model_id": "7fc4e9a3657442be9e75d8fa622dc564",
       "version_major": 2,
       "version_minor": 0
      },
      "text/plain": [
       "Button(description='browse', style=ButtonStyle(), tooltip='browse for file')"
      ]
     },
     "metadata": {},
     "output_type": "display_data"
    },
    {
     "data": {
      "application/vnd.jupyter.widget-view+json": {
       "model_id": "4ff23d1cd8fd4380a41437aa16f03c1e",
       "version_major": 2,
       "version_minor": 0
      },
      "text/plain": [
       "Text(value='', description='Path to localizations ', placeholder='Insert path', style=DescriptionStyle(descrip…"
      ]
     },
     "metadata": {},
     "output_type": "display_data"
    },
    {
     "data": {
      "application/vnd.jupyter.widget-view+json": {
       "model_id": "06ddbae1af234118bc94d1960dfc10ab",
       "version_major": 2,
       "version_minor": 0
      },
      "text/plain": [
       "Button(description='browse', style=ButtonStyle(), tooltip='browse for file')"
      ]
     },
     "metadata": {},
     "output_type": "display_data"
    }
   ],
   "source": [
    "movie_split_widget = widgetsAddOns.DefineFiles(\"movie\", title=\"Import *.tif file\", filetype=(\"tif files\", \"*.tif\"), idx=\"\")\n",
    "loc_split_widget = widgetsAddOns.DefineFiles(\"localizations\", title=\"Import *.csv file\", filetype=(\"csv files\", \"*.csv\"), idx=\"\")\n",
    "movie_split_widget.file_button.on_click(movie_split_widget.open_file)\n",
    "movie_split_widget.file_text_box.observe(movie_split_widget.change_file_path_box)\n",
    "loc_split_widget.file_button.on_click(loc_split_widget.open_file)\n",
    "loc_split_widget.file_text_box.observe(loc_split_widget.change_file_path_box)\n",
    "display(movie_split_widget.file_text_box, movie_split_widget.file_button, loc_split_widget.file_text_box, loc_split_widget.file_button)"
   ]
  },
  {
   "cell_type": "markdown",
   "metadata": {
    "hidden": true
   },
   "source": [
    "### Parameters"
   ]
  },
  {
   "cell_type": "code",
   "execution_count": 7,
   "metadata": {
    "hidden": true
   },
   "outputs": [
    {
     "data": {
      "application/vnd.jupyter.widget-view+json": {
       "model_id": "3d77e500fd1f4d34939aaa98609b30c2",
       "version_major": 2,
       "version_minor": 0
      },
      "text/plain": [
       "Text(value='', description='Split at frame', placeholder='Insert frame idx', style=DescriptionStyle(descriptio…"
      ]
     },
     "metadata": {},
     "output_type": "display_data"
    }
   ],
   "source": [
    "widget_split_params = widgetsAddOns.ParametersSplit()\n",
    "display(widget_split_params.frame_idx)"
   ]
  },
  {
   "cell_type": "markdown",
   "metadata": {
    "hidden": true
   },
   "source": [
    "### Split"
   ]
  },
  {
   "cell_type": "code",
   "execution_count": 8,
   "metadata": {
    "hidden": true,
    "scrolled": false
   },
   "outputs": [
    {
     "data": {
      "application/vnd.jupyter.widget-view+json": {
       "model_id": "1c8dbc6c5b9d4479bc41429ec3a9fdb2",
       "version_major": 2,
       "version_minor": 0
      },
      "text/plain": [
       "Button(description='split', style=ButtonStyle(), tooltip='split data at frame')"
      ]
     },
     "metadata": {},
     "output_type": "display_data"
    }
   ],
   "source": [
    "def run(event):\n",
    "    widget_split_run.create_clear_output()\n",
    "    display(widget_split_run.run_split_button)\n",
    "    data_split.load_data(movie_split_widget.file_text_box.value, loc_split_widget.file_text_box.value)\n",
    "    if len(data_split.loc_file[\"frame\"].unique()) != data_split.movie.shape[0]:\n",
    "        print(\"Defined movie and localization file differ in length, please make sure that they correspond.\")\n",
    "    else:\n",
    "        split.split(data_split.movie, data_split.loc_file, int(widget_split_params.frame_idx.value))\n",
    "data_split = loadAddOns.DataSplit()\n",
    "split = addOns.Splitter()\n",
    "widget_split_run = widgetsAddOns.RunAnalysis()\n",
    "display(widget_split_run.run_split_button)\n",
    "widget_split_run.run_split_button.on_click(run)"
   ]
  },
  {
   "cell_type": "markdown",
   "metadata": {
    "hidden": true
   },
   "source": [
    "### Save"
   ]
  },
  {
   "cell_type": "code",
   "execution_count": 9,
   "metadata": {
    "hidden": true,
    "scrolled": false
   },
   "outputs": [
    {
     "data": {
      "application/vnd.jupyter.widget-view+json": {
       "model_id": "555a5701707648949c0afd6930accb33",
       "version_major": 2,
       "version_minor": 0
      },
      "text/plain": [
       "Button(description='save', style=ButtonStyle(), tooltip='save the results')"
      ]
     },
     "metadata": {},
     "output_type": "display_data"
    }
   ],
   "source": [
    "def save_analysis(event):\n",
    "    widget_split_save.create_clear_output()\n",
    "    display(widget_split_save.save_button)\n",
    "    saveAddOns.save_split_files(movie_split_widget.file_text_box.value, loc_split_widget.file_text_box.value, split.split_movies, split.split_locs, int(widget_split_params.frame_idx.value))\n",
    "\n",
    "widget_split_save = widgetsAddOns.SaveResults()\n",
    "display(widget_split_save.save_button)\n",
    "widget_split_save.save_button.on_click(save_analysis)"
   ]
  },
  {
   "cell_type": "markdown",
   "metadata": {
    "heading_collapsed": true
   },
   "source": [
    "## Merge multiple movies & localization files"
   ]
  },
  {
   "cell_type": "code",
   "execution_count": 10,
   "metadata": {
    "hidden": true
   },
   "outputs": [
    {
     "name": "stdout",
     "output_type": "stream",
     "text": [
      "measurement 1\n"
     ]
    },
    {
     "data": {
      "application/vnd.jupyter.widget-view+json": {
       "model_id": "92c4fd1778154612a9a93dc3afbfdd03",
       "version_major": 2,
       "version_minor": 0
      },
      "text/plain": [
       "Text(value='', description='Path to movie 1', placeholder='Insert path', style=DescriptionStyle(description_wi…"
      ]
     },
     "metadata": {},
     "output_type": "display_data"
    },
    {
     "data": {
      "application/vnd.jupyter.widget-view+json": {
       "model_id": "0c131a0389a542a181ce5d07487be762",
       "version_major": 2,
       "version_minor": 0
      },
      "text/plain": [
       "Button(description='browse', style=ButtonStyle(), tooltip='browse for file')"
      ]
     },
     "metadata": {},
     "output_type": "display_data"
    },
    {
     "data": {
      "application/vnd.jupyter.widget-view+json": {
       "model_id": "7b2e9c9071e84ea197d8c5b023f557c6",
       "version_major": 2,
       "version_minor": 0
      },
      "text/plain": [
       "Text(value='', description='Path to localizations 1', placeholder='Insert path', style=DescriptionStyle(descri…"
      ]
     },
     "metadata": {},
     "output_type": "display_data"
    },
    {
     "data": {
      "application/vnd.jupyter.widget-view+json": {
       "model_id": "2787759a0b4941ffa426e8f55261a3c7",
       "version_major": 2,
       "version_minor": 0
      },
      "text/plain": [
       "Button(description='browse', style=ButtonStyle(), tooltip='browse for file')"
      ]
     },
     "metadata": {},
     "output_type": "display_data"
    },
    {
     "name": "stdout",
     "output_type": "stream",
     "text": [
      "measurement 2\n"
     ]
    },
    {
     "data": {
      "application/vnd.jupyter.widget-view+json": {
       "model_id": "4cc01f4eb8e04ae68848982e00649fa6",
       "version_major": 2,
       "version_minor": 0
      },
      "text/plain": [
       "Text(value='', description='Path to movie 2', placeholder='Insert path', style=DescriptionStyle(description_wi…"
      ]
     },
     "metadata": {},
     "output_type": "display_data"
    },
    {
     "data": {
      "application/vnd.jupyter.widget-view+json": {
       "model_id": "378496706d19467b981b539f1bc6ad23",
       "version_major": 2,
       "version_minor": 0
      },
      "text/plain": [
       "Button(description='browse', style=ButtonStyle(), tooltip='browse for file')"
      ]
     },
     "metadata": {},
     "output_type": "display_data"
    },
    {
     "data": {
      "application/vnd.jupyter.widget-view+json": {
       "model_id": "42d63065f1ee4f178b2906fd0acbfe3d",
       "version_major": 2,
       "version_minor": 0
      },
      "text/plain": [
       "Text(value='', description='Path to localizations 2', placeholder='Insert path', style=DescriptionStyle(descri…"
      ]
     },
     "metadata": {},
     "output_type": "display_data"
    },
    {
     "data": {
      "application/vnd.jupyter.widget-view+json": {
       "model_id": "644577d89c74499d97a500ac698bb985",
       "version_major": 2,
       "version_minor": 0
      },
      "text/plain": [
       "Button(description='browse', style=ButtonStyle(), tooltip='browse for file')"
      ]
     },
     "metadata": {},
     "output_type": "display_data"
    }
   ],
   "source": [
    "n_measurements = 2  # vary the number of measurements here!\n",
    "movie_merge_widgets, loc_merge_widgets = [], []\n",
    "for i in range(1, n_measurements+1):\n",
    "    print(\"measurement\", i)\n",
    "    movie_widget = widgetsAddOns.DefineFiles(\"movie\", title=\"Import *.tif file\", filetype=(\"tif files\", \"*.tif\"), idx=i)\n",
    "    loc_widget = widgetsAddOns.DefineFiles(\"localizations\", title=\"Import *.csv file\", filetype=(\"csv files\", \"*.csv\"), idx=i)\n",
    "    movie_widget.file_button.on_click(movie_widget.open_file)\n",
    "    movie_widget.file_text_box.observe(movie_widget.change_file_path_box)\n",
    "    loc_widget.file_button.on_click(loc_widget.open_file)\n",
    "    loc_widget.file_text_box.observe(loc_widget.change_file_path_box)\n",
    "    movie_merge_widgets.append(movie_widget)\n",
    "    loc_merge_widgets.append(loc_widget)\n",
    "    display(movie_widget.file_text_box, movie_widget.file_button, loc_widget.file_text_box, loc_widget.file_button)"
   ]
  },
  {
   "cell_type": "code",
   "execution_count": 11,
   "metadata": {
    "hidden": true,
    "scrolled": false
   },
   "outputs": [
    {
     "data": {
      "application/vnd.jupyter.widget-view+json": {
       "model_id": "e494d188c66a44d598cacf688db14b4c",
       "version_major": 2,
       "version_minor": 0
      },
      "text/plain": [
       "Button(description='merge', style=ButtonStyle(), tooltip='merge files')"
      ]
     },
     "metadata": {},
     "output_type": "display_data"
    }
   ],
   "source": [
    "def run(event):\n",
    "    widget_merge_run.create_clear_output()\n",
    "    display(widget_merge_run.run_merge_button)\n",
    "    movie_dirs = [widget.file_text_box.value for widget in movie_merge_widgets if widget.file_text_box.value]\n",
    "    loc_dirs = [widget.file_text_box.value for widget in loc_merge_widgets if widget.file_text_box.value]\n",
    "    data_merge.load_data(movie_dirs, loc_dirs)\n",
    "    shapes = [movie.shape[1:] for movie in data_merge.movies]\n",
    "    if all(x==shapes[0] for x in shapes):\n",
    "        merge.merge(data_merge.movies, data_merge.loc_files)\n",
    "    else:\n",
    "        print(\"All movies must be of equal width and height.\") \n",
    "\n",
    "data_merge = loadAddOns.DataMerge()\n",
    "merge = addOns.Merger()\n",
    "widget_merge_run = widgetsAddOns.RunAnalysis()\n",
    "display(widget_merge_run.run_merge_button)\n",
    "widget_merge_run.run_merge_button.on_click(run)"
   ]
  },
  {
   "cell_type": "code",
   "execution_count": 12,
   "metadata": {
    "hidden": true,
    "scrolled": true
   },
   "outputs": [
    {
     "data": {
      "application/vnd.jupyter.widget-view+json": {
       "model_id": "803b62deeb1445a38f5278b1b0b9318b",
       "version_major": 2,
       "version_minor": 0
      },
      "text/plain": [
       "Text(value='', description='Filename', placeholder='name of folder', style=DescriptionStyle(description_width=…"
      ]
     },
     "metadata": {},
     "output_type": "display_data"
    },
    {
     "data": {
      "application/vnd.jupyter.widget-view+json": {
       "model_id": "ab798521637c42ccb56244f9d2b141fb",
       "version_major": 2,
       "version_minor": 0
      },
      "text/plain": [
       "Text(value='', description='Directory', placeholder='Directory to save', style=DescriptionStyle(description_wi…"
      ]
     },
     "metadata": {},
     "output_type": "display_data"
    },
    {
     "data": {
      "application/vnd.jupyter.widget-view+json": {
       "model_id": "390902895b7c43c5ab660cc59078fca8",
       "version_major": 2,
       "version_minor": 0
      },
      "text/plain": [
       "Button(description='browse', style=ButtonStyle(), tooltip='browse for directory')"
      ]
     },
     "metadata": {},
     "output_type": "display_data"
    }
   ],
   "source": [
    "widget_merge_save = widgetsAddOns.SaveResults()\n",
    "display(widget_merge_save.box_filename, widget_merge_save.dir_box, widget_merge_save.dir_button)\n",
    "widget_merge_save.dir_button.on_click(widget_merge_save.open_dir)\n",
    "widget_merge_save.dir_box.observe(widget_merge_save.change_dir_box)"
   ]
  },
  {
   "cell_type": "code",
   "execution_count": 13,
   "metadata": {
    "hidden": true,
    "scrolled": true
   },
   "outputs": [
    {
     "data": {
      "application/vnd.jupyter.widget-view+json": {
       "model_id": "379edc225b4d4d31800c2488e343cb1c",
       "version_major": 2,
       "version_minor": 0
      },
      "text/plain": [
       "Button(description='save', style=ButtonStyle(), tooltip='save the results')"
      ]
     },
     "metadata": {},
     "output_type": "display_data"
    }
   ],
   "source": [
    "display(widget_merge_save.save_button)\n",
    "def save_merge(event):\n",
    "    widget_merge_save.create_clear_output()\n",
    "    display(widget_merge_save.save_button)   \n",
    "    saveAddOns.save_merge_files(widget_merge_save.dir_box.value, widget_merge_save.box_filename.value, merge.merged_movies, merge.merged_locs)\n",
    "widget_merge_save.save_button.on_click(save_merge)"
   ]
  },
  {
   "cell_type": "markdown",
   "metadata": {},
   "source": [
    "## Split into single frames"
   ]
  },
  {
   "cell_type": "code",
   "execution_count": 14,
   "metadata": {},
   "outputs": [
    {
     "data": {
      "application/vnd.jupyter.widget-view+json": {
       "model_id": "ee9e8cb5f6c64914b83b059a45498b62",
       "version_major": 2,
       "version_minor": 0
      },
      "text/plain": [
       "Text(value='', description='Path to movie ', placeholder='Insert path', style=DescriptionStyle(description_wid…"
      ]
     },
     "metadata": {},
     "output_type": "display_data"
    },
    {
     "data": {
      "application/vnd.jupyter.widget-view+json": {
       "model_id": "aa913ffef1e64e31beabf8610752aee1",
       "version_major": 2,
       "version_minor": 0
      },
      "text/plain": [
       "Button(description='browse', style=ButtonStyle(), tooltip='browse for file')"
      ]
     },
     "metadata": {},
     "output_type": "display_data"
    },
    {
     "data": {
      "application/vnd.jupyter.widget-view+json": {
       "model_id": "ea2a29bc5c7f4ead9f62af08aabeef55",
       "version_major": 2,
       "version_minor": 0
      },
      "text/plain": [
       "Text(value='', description='Path to localizations ', placeholder='Insert path', style=DescriptionStyle(descrip…"
      ]
     },
     "metadata": {},
     "output_type": "display_data"
    },
    {
     "data": {
      "application/vnd.jupyter.widget-view+json": {
       "model_id": "f2fd325324504006b0c28bd28e89a2e8",
       "version_major": 2,
       "version_minor": 0
      },
      "text/plain": [
       "Button(description='browse', style=ButtonStyle(), tooltip='browse for file')"
      ]
     },
     "metadata": {},
     "output_type": "display_data"
    }
   ],
   "source": [
    "movie_single_split_widget = widgetsAddOns.DefineFiles(\"movie\", title=\"Import *.tif file\", filetype=(\"tif files\", \"*.tif\"), idx=\"\")\n",
    "loc_single_split_widget = widgetsAddOns.DefineFiles(\"localizations\", title=\"Import *.csv file\", filetype=(\"csv files\", \"*.csv\"), idx=\"\")\n",
    "movie_single_split_widget.file_button.on_click(movie_single_split_widget.open_file)\n",
    "movie_single_split_widget.file_text_box.observe(movie_single_split_widget.change_file_path_box)\n",
    "loc_single_split_widget.file_button.on_click(loc_single_split_widget.open_file)\n",
    "loc_single_split_widget.file_text_box.observe(loc_single_split_widget.change_file_path_box)\n",
    "display(movie_single_split_widget.file_text_box, movie_single_split_widget.file_button, loc_single_split_widget.file_text_box, loc_single_split_widget.file_button)"
   ]
  },
  {
   "cell_type": "code",
   "execution_count": 15,
   "metadata": {
    "scrolled": true
   },
   "outputs": [
    {
     "data": {
      "application/vnd.jupyter.widget-view+json": {
       "model_id": "27725a2d0b7e423da0f36fa69810a16e",
       "version_major": 2,
       "version_minor": 0
      },
      "text/plain": [
       "Button(description='split', style=ButtonStyle(), tooltip='split data at every frame')"
      ]
     },
     "metadata": {},
     "output_type": "display_data"
    }
   ],
   "source": [
    "def run_single_split(event):\n",
    "    widget_single_split_run.create_clear_output()\n",
    "    display(widget_single_split_run.run_single_split_button)\n",
    "    data_single_split.load_data(movie_single_split_widget.file_text_box.value, loc_single_split_widget.file_text_box.value)\n",
    "    if len(data_single_split.loc_file[\"frame\"].unique()) != data_single_split.movie.shape[0]:\n",
    "        print(\"Defined movie and localization file differ in length, please make sure that they correspond.\")\n",
    "    else:\n",
    "        single_split.split(data_single_split.movie, data_single_split.loc_file)\n",
    "        \n",
    "data_single_split = loadAddOns.DataSplit()\n",
    "single_split = addOns.SingleSplitter()\n",
    "widget_single_split_run = widgetsAddOns.RunAnalysis()\n",
    "display(widget_single_split_run.run_single_split_button)\n",
    "widget_single_split_run.run_single_split_button.on_click(run_single_split)"
   ]
  },
  {
   "cell_type": "code",
   "execution_count": 16,
   "metadata": {},
   "outputs": [
    {
     "data": {
      "application/vnd.jupyter.widget-view+json": {
       "model_id": "5a843c285a2444f7985560157351046c",
       "version_major": 2,
       "version_minor": 0
      },
      "text/plain": [
       "Text(value='', description='Directory', placeholder='Directory to save', style=DescriptionStyle(description_wi…"
      ]
     },
     "metadata": {},
     "output_type": "display_data"
    },
    {
     "data": {
      "application/vnd.jupyter.widget-view+json": {
       "model_id": "d80a2636e40c4d669a81b746f29fa395",
       "version_major": 2,
       "version_minor": 0
      },
      "text/plain": [
       "Button(description='browse', style=ButtonStyle(), tooltip='browse for directory')"
      ]
     },
     "metadata": {},
     "output_type": "display_data"
    }
   ],
   "source": [
    "widget_single_split_save = widgetsAddOns.SaveResults()\n",
    "display(widget_single_split_save.dir_box, widget_single_split_save.dir_button)\n",
    "widget_single_split_save.dir_button.on_click(widget_single_split_save.open_dir)\n",
    "widget_single_split_save.dir_box.observe(widget_single_split_save.change_dir_box)"
   ]
  },
  {
   "cell_type": "code",
   "execution_count": 17,
   "metadata": {
    "scrolled": true
   },
   "outputs": [
    {
     "data": {
      "application/vnd.jupyter.widget-view+json": {
       "model_id": "b20cc01c8a89433caef6939e41e5232a",
       "version_major": 2,
       "version_minor": 0
      },
      "text/plain": [
       "Button(description='save', style=ButtonStyle(), tooltip='save the results')"
      ]
     },
     "metadata": {},
     "output_type": "display_data"
    }
   ],
   "source": [
    "display(widget_single_split_save.save_button)\n",
    "def save_single_split(event):\n",
    "    widget_single_split_save.create_clear_output()\n",
    "    display(widget_single_split_save.save_button)   \n",
    "    saveAddOns.save_single_split_files(widget_single_split_save.dir_box.value, os.path.splitext(os.path.split(loc_single_split_widget.file_text_box.value)[1])[0], single_split.single_frame_movies, single_split.single_frame_locs)\n",
    "widget_single_split_save.save_button.on_click(save_single_split)"
   ]
  },
  {
   "cell_type": "code",
   "execution_count": 18,
   "metadata": {},
   "outputs": [
    {
     "name": "stdout",
     "output_type": "stream",
     "text": [
      "[[0. 0.]\n",
      " [0. 0.]]\n"
     ]
    }
   ],
   "source": [
    "import numpy as np\n",
    "\n",
    "x = np.zeros((2,2))\n",
    "print(x)"
   ]
  }
 ],
 "metadata": {
  "hide_input": true,
  "kernelspec": {
   "display_name": "Python 3",
   "language": "python",
   "name": "python3"
  },
  "language_info": {
   "codemirror_mode": {
    "name": "ipython",
    "version": 3
   },
   "file_extension": ".py",
   "mimetype": "text/x-python",
   "name": "python",
   "nbconvert_exporter": "python",
   "pygments_lexer": "ipython3",
   "version": "3.7.6"
  }
 },
 "nbformat": 4,
 "nbformat_minor": 2
}
