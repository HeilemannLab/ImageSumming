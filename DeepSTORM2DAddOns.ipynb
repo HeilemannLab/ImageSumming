{
 "cells": [
  {
   "cell_type": "markdown",
   "metadata": {},
   "source": [
    "# DeepSTORM2D Add Ons\n",
    "(1) Convert Picasso csv file to DeepSTORM2D csv format: <br/>\n",
    "*Input file:* Picasso localization file csv, header = frame, x [nm], y [nm], sigma [nm], intensity [photon], offset [photon], bkgstd [photon], uncertainty_xy [nm] <br/>\n",
    "*Output file:* DeepSTORM2D file csv, header = ,frame,x [nm],y [nm],Photon #,Sigma [nm]; frame idx starts at 1 <br/>\n",
    "\n",
    "(2) Split tif movie & corresponding localization file at defined frame. <br/>\n",
    "*Input file:* Tif movie & csv file (Picasso or DeepSTORM2D format). <br/>\n",
    "*Parameter split at frame:* Number of frames of the first file. <br/>\n",
    "*Output file:* Two tif movies & csv files, split at defined frame. <br/>\n",
    "\n",
    "(3) Merge multiple movies & localization files. <br/>\n",
    "*Input files:* Define multiple paths to movies and their localization files, adjust the number of files by deactivating \"hide codecell\" and adjusting the variable \"n_measurements\". Picasso or DeepSTORM2D csv formats are possible, but no mixing. <br/>\n",
    "*Output file:* Tif movie with frames of movies stacked and localization file with continous frame numbering. <br/>\n",
    "\n",
    "(4) Split into single frames. <br/>\n",
    "*Input file:* Tif movie & csv file  (Picasso or DeepSTORM2D format). <br/>\n",
    "*Output files:* Single frames of tif movies with corresponding csv file saved in defined directory. <br/>"
   ]
  },
  {
   "cell_type": "code",
   "execution_count": 1,
   "metadata": {},
   "outputs": [],
   "source": [
    "from ImageBinner.widgets import widgetsAddOns, loadAddOns\n",
    "from ImageBinner.tools import addOns\n",
    "from ImageBinner.save import saveAddOns\n",
    "import os\n",
    "import warnings\n",
    "warnings.filterwarnings(\"ignore\")"
   ]
  },
  {
   "cell_type": "markdown",
   "metadata": {
    "heading_collapsed": true
   },
   "source": [
    "## Convert localization file Picasso -> DeepSTORM2D format"
   ]
  },
  {
   "cell_type": "markdown",
   "metadata": {
    "hidden": true
   },
   "source": [
    "### Load"
   ]
  },
  {
   "cell_type": "code",
   "execution_count": 2,
   "metadata": {
    "hidden": true
   },
   "outputs": [
    {
     "data": {
      "application/vnd.jupyter.widget-view+json": {
       "model_id": "ea94756eb3a74076956f2f62b0519f96",
       "version_major": 2,
       "version_minor": 0
      },
      "text/plain": [
       "Text(value='', description='Path to localizations ', placeholder='Insert path', style=DescriptionStyle(descrip…"
      ]
     },
     "metadata": {},
     "output_type": "display_data"
    },
    {
     "data": {
      "application/vnd.jupyter.widget-view+json": {
       "model_id": "228a6c0086e045b58edf48c147892eb8",
       "version_major": 2,
       "version_minor": 0
      },
      "text/plain": [
       "Button(description='browse', style=ButtonStyle(), tooltip='browse for file')"
      ]
     },
     "metadata": {},
     "output_type": "display_data"
    }
   ],
   "source": [
    "loc_conv_widget = widgetsAddOns.DefineFiles(\"localizations\", title=\"Import *.csv file\", filetype=(\"csv files\", \"*.csv\"), idx=\"\")\n",
    "loc_conv_widget.file_button.on_click(loc_conv_widget.open_file)\n",
    "loc_conv_widget.file_text_box.observe(loc_conv_widget.change_file_path_box)\n",
    "display(loc_conv_widget.file_text_box, loc_conv_widget.file_button)"
   ]
  },
  {
   "cell_type": "markdown",
   "metadata": {
    "hidden": true
   },
   "source": [
    "### Convert"
   ]
  },
  {
   "cell_type": "code",
   "execution_count": 3,
   "metadata": {
    "hidden": true
   },
   "outputs": [
    {
     "data": {
      "application/vnd.jupyter.widget-view+json": {
       "model_id": "10c3db38d5f4467f9021134c7ef8ebb8",
       "version_major": 2,
       "version_minor": 0
      },
      "text/plain": [
       "Button(description='convert', style=ButtonStyle(), tooltip='convert localization file')"
      ]
     },
     "metadata": {},
     "output_type": "display_data"
    }
   ],
   "source": [
    "def run(event):\n",
    "    widget_run.create_clear_output()\n",
    "    display(widget_run.run_convert_button)\n",
    "    if (loc_conv_widget.file_text_box.value):\n",
    "        converter.convert(loc_conv_widget.file_text_box.value)\n",
    "        display(converter.converted_file)\n",
    "    else:\n",
    "        print(\"Please define a file to convert in the loading section.\")\n",
    "        \n",
    "converter = addOns.Converter()\n",
    "widget_run = widgetsAddOns.RunAnalysis()\n",
    "display(widget_run.run_convert_button)\n",
    "widget_run.run_convert_button.on_click(run)"
   ]
  },
  {
   "cell_type": "markdown",
   "metadata": {
    "hidden": true
   },
   "source": [
    "### Save"
   ]
  },
  {
   "cell_type": "code",
   "execution_count": 4,
   "metadata": {
    "hidden": true
   },
   "outputs": [
    {
     "data": {
      "application/vnd.jupyter.widget-view+json": {
       "model_id": "3fd332c7e3d641cea2d787b163d96a2d",
       "version_major": 2,
       "version_minor": 0
      },
      "text/plain": [
       "Button(description='save', style=ButtonStyle(), tooltip='save the results')"
      ]
     },
     "metadata": {},
     "output_type": "display_data"
    }
   ],
   "source": [
    "def save_analysis(event):\n",
    "    widget_conv_save.create_clear_output()\n",
    "    display(widget_conv_save.save_button)\n",
    "    saveAddOns.save_convert_file(loc_conv_widget.file_text_box.value, converter.converted_file)\n",
    "    \n",
    "widget_conv_save = widgetsAddOns.SaveResults()\n",
    "display(widget_conv_save.save_button)\n",
    "widget_conv_save.save_button.on_click(save_analysis)"
   ]
  },
  {
   "cell_type": "markdown",
   "metadata": {
    "heading_collapsed": true
   },
   "source": [
    "## Split movie & localization file at defined frame"
   ]
  },
  {
   "cell_type": "markdown",
   "metadata": {
    "hidden": true
   },
   "source": [
    "### Load"
   ]
  },
  {
   "cell_type": "code",
   "execution_count": 5,
   "metadata": {
    "hidden": true
   },
   "outputs": [
    {
     "data": {
      "application/vnd.jupyter.widget-view+json": {
       "model_id": "8ca1fba5334945c2ae2a2e813e4f8dd2",
       "version_major": 2,
       "version_minor": 0
      },
      "text/plain": [
       "Text(value='', description='Path to movie ', placeholder='Insert path', style=DescriptionStyle(description_wid…"
      ]
     },
     "metadata": {},
     "output_type": "display_data"
    },
    {
     "data": {
      "application/vnd.jupyter.widget-view+json": {
       "model_id": "43b12f663b7f44b9a737df5d58efa90d",
       "version_major": 2,
       "version_minor": 0
      },
      "text/plain": [
       "Button(description='browse', style=ButtonStyle(), tooltip='browse for file')"
      ]
     },
     "metadata": {},
     "output_type": "display_data"
    },
    {
     "data": {
      "application/vnd.jupyter.widget-view+json": {
       "model_id": "c7502eb0355f4a1084d0ec436298fc34",
       "version_major": 2,
       "version_minor": 0
      },
      "text/plain": [
       "Text(value='', description='Path to localizations ', placeholder='Insert path', style=DescriptionStyle(descrip…"
      ]
     },
     "metadata": {},
     "output_type": "display_data"
    },
    {
     "data": {
      "application/vnd.jupyter.widget-view+json": {
       "model_id": "cf0578655d8c46588c93319a37fe3e21",
       "version_major": 2,
       "version_minor": 0
      },
      "text/plain": [
       "Button(description='browse', style=ButtonStyle(), tooltip='browse for file')"
      ]
     },
     "metadata": {},
     "output_type": "display_data"
    }
   ],
   "source": [
    "movie_split_widget = widgetsAddOns.DefineFiles(\"movie\", title=\"Import *.tif file\", filetype=(\"tif files\", \"*.tif\"), idx=\"\")\n",
    "loc_split_widget = widgetsAddOns.DefineFiles(\"localizations\", title=\"Import *.csv file\", filetype=(\"csv files\", \"*.csv\"), idx=\"\")\n",
    "movie_split_widget.file_button.on_click(movie_split_widget.open_file)\n",
    "movie_split_widget.file_text_box.observe(movie_split_widget.change_file_path_box)\n",
    "loc_split_widget.file_button.on_click(loc_split_widget.open_file)\n",
    "loc_split_widget.file_text_box.observe(loc_split_widget.change_file_path_box)\n",
    "display(movie_split_widget.file_text_box, movie_split_widget.file_button, loc_split_widget.file_text_box, loc_split_widget.file_button)"
   ]
  },
  {
   "cell_type": "markdown",
   "metadata": {
    "hidden": true
   },
   "source": [
    "### Parameters"
   ]
  },
  {
   "cell_type": "code",
   "execution_count": 6,
   "metadata": {
    "hidden": true
   },
   "outputs": [
    {
     "data": {
      "application/vnd.jupyter.widget-view+json": {
       "model_id": "7db6b0846829457f8dc8a2bc0a4c4482",
       "version_major": 2,
       "version_minor": 0
      },
      "text/plain": [
       "Text(value='', description='Split at frame', placeholder='Insert frame idx', style=DescriptionStyle(descriptio…"
      ]
     },
     "metadata": {},
     "output_type": "display_data"
    }
   ],
   "source": [
    "widget_split_params = widgetsAddOns.ParametersSplit()\n",
    "display(widget_split_params.frame_idx)"
   ]
  },
  {
   "cell_type": "markdown",
   "metadata": {
    "hidden": true
   },
   "source": [
    "### Split"
   ]
  },
  {
   "cell_type": "code",
   "execution_count": 7,
   "metadata": {
    "hidden": true,
    "scrolled": false
   },
   "outputs": [
    {
     "data": {
      "application/vnd.jupyter.widget-view+json": {
       "model_id": "e9e7e7f725eb43339066e00813608539",
       "version_major": 2,
       "version_minor": 0
      },
      "text/plain": [
       "Button(description='split', style=ButtonStyle(), tooltip='split data at frame')"
      ]
     },
     "metadata": {},
     "output_type": "display_data"
    }
   ],
   "source": [
    "def run(event):\n",
    "    widget_split_run.create_clear_output()\n",
    "    display(widget_split_run.run_split_button)\n",
    "    data_split.load_data(movie_split_widget.file_text_box.value, loc_split_widget.file_text_box.value)\n",
    "    if len(data_split.loc_file[\"frame\"].unique()) != data_split.movie.shape[0]:\n",
    "        print(\"Defined movie and localization file differ in length, please make sure that they correspond.\")\n",
    "    else:\n",
    "        split.split(data_split.movie, data_split.loc_file, int(widget_split_params.frame_idx.value))\n",
    "data_split = loadAddOns.DataSplit()\n",
    "split = addOns.Splitter()\n",
    "widget_split_run = widgetsAddOns.RunAnalysis()\n",
    "display(widget_split_run.run_split_button)\n",
    "widget_split_run.run_split_button.on_click(run)"
   ]
  },
  {
   "cell_type": "markdown",
   "metadata": {
    "hidden": true
   },
   "source": [
    "### Save"
   ]
  },
  {
   "cell_type": "code",
   "execution_count": 8,
   "metadata": {
    "hidden": true,
    "scrolled": false
   },
   "outputs": [
    {
     "data": {
      "application/vnd.jupyter.widget-view+json": {
       "model_id": "17392432007f4d25b91d21deb582f0d7",
       "version_major": 2,
       "version_minor": 0
      },
      "text/plain": [
       "Button(description='save', style=ButtonStyle(), tooltip='save the results')"
      ]
     },
     "metadata": {},
     "output_type": "display_data"
    }
   ],
   "source": [
    "def save_analysis(event):\n",
    "    widget_split_save.create_clear_output()\n",
    "    display(widget_split_save.save_button)\n",
    "    saveAddOns.save_split_files(movie_split_widget.file_text_box.value, loc_split_widget.file_text_box.value, split.split_movies, split.split_locs, int(widget_split_params.frame_idx.value))\n",
    "\n",
    "widget_split_save = widgetsAddOns.SaveResults()\n",
    "display(widget_split_save.save_button)\n",
    "widget_split_save.save_button.on_click(save_analysis)"
   ]
  },
  {
   "cell_type": "markdown",
   "metadata": {
    "heading_collapsed": true
   },
   "source": [
    "## Merge multiple movies & localization files"
   ]
  },
  {
   "cell_type": "code",
   "execution_count": 9,
   "metadata": {
    "hidden": true
   },
   "outputs": [
    {
     "name": "stdout",
     "output_type": "stream",
     "text": [
      "measurement 1\n"
     ]
    },
    {
     "data": {
      "application/vnd.jupyter.widget-view+json": {
       "model_id": "ea75d936ebac4d7fa2610b6f0d390542",
       "version_major": 2,
       "version_minor": 0
      },
      "text/plain": [
       "Text(value='', description='Path to movie 1', placeholder='Insert path', style=DescriptionStyle(description_wi…"
      ]
     },
     "metadata": {},
     "output_type": "display_data"
    },
    {
     "data": {
      "application/vnd.jupyter.widget-view+json": {
       "model_id": "ad14a8bf921e41a5b27f62d879527397",
       "version_major": 2,
       "version_minor": 0
      },
      "text/plain": [
       "Button(description='browse', style=ButtonStyle(), tooltip='browse for file')"
      ]
     },
     "metadata": {},
     "output_type": "display_data"
    },
    {
     "data": {
      "application/vnd.jupyter.widget-view+json": {
       "model_id": "317a85c038fa44a1b9287d10a7bb12ea",
       "version_major": 2,
       "version_minor": 0
      },
      "text/plain": [
       "Text(value='', description='Path to localizations 1', placeholder='Insert path', style=DescriptionStyle(descri…"
      ]
     },
     "metadata": {},
     "output_type": "display_data"
    },
    {
     "data": {
      "application/vnd.jupyter.widget-view+json": {
       "model_id": "447752d00f394312a6fd77c69dc1cd62",
       "version_major": 2,
       "version_minor": 0
      },
      "text/plain": [
       "Button(description='browse', style=ButtonStyle(), tooltip='browse for file')"
      ]
     },
     "metadata": {},
     "output_type": "display_data"
    },
    {
     "name": "stdout",
     "output_type": "stream",
     "text": [
      "measurement 2\n"
     ]
    },
    {
     "data": {
      "application/vnd.jupyter.widget-view+json": {
       "model_id": "32aa05fefd654f7aaf56bde7ace85c17",
       "version_major": 2,
       "version_minor": 0
      },
      "text/plain": [
       "Text(value='', description='Path to movie 2', placeholder='Insert path', style=DescriptionStyle(description_wi…"
      ]
     },
     "metadata": {},
     "output_type": "display_data"
    },
    {
     "data": {
      "application/vnd.jupyter.widget-view+json": {
       "model_id": "d3869937cf3d4309bf0f6f7ed8a35a55",
       "version_major": 2,
       "version_minor": 0
      },
      "text/plain": [
       "Button(description='browse', style=ButtonStyle(), tooltip='browse for file')"
      ]
     },
     "metadata": {},
     "output_type": "display_data"
    },
    {
     "data": {
      "application/vnd.jupyter.widget-view+json": {
       "model_id": "c4510a1ea14544fe91c3601ec8a1ec50",
       "version_major": 2,
       "version_minor": 0
      },
      "text/plain": [
       "Text(value='', description='Path to localizations 2', placeholder='Insert path', style=DescriptionStyle(descri…"
      ]
     },
     "metadata": {},
     "output_type": "display_data"
    },
    {
     "data": {
      "application/vnd.jupyter.widget-view+json": {
       "model_id": "91e328254e764f8984bc1e864023c3b3",
       "version_major": 2,
       "version_minor": 0
      },
      "text/plain": [
       "Button(description='browse', style=ButtonStyle(), tooltip='browse for file')"
      ]
     },
     "metadata": {},
     "output_type": "display_data"
    }
   ],
   "source": [
    "n_measurements = 2  # vary the number of measurements here!\n",
    "movie_merge_widgets, loc_merge_widgets = [], []\n",
    "for i in range(1, n_measurements+1):\n",
    "    print(\"measurement\", i)\n",
    "    movie_widget = widgetsAddOns.DefineFiles(\"movie\", title=\"Import *.tif file\", filetype=(\"tif files\", \"*.tif\"), idx=i)\n",
    "    loc_widget = widgetsAddOns.DefineFiles(\"localizations\", title=\"Import *.csv file\", filetype=(\"csv files\", \"*.csv\"), idx=i)\n",
    "    movie_widget.file_button.on_click(movie_widget.open_file)\n",
    "    movie_widget.file_text_box.observe(movie_widget.change_file_path_box)\n",
    "    loc_widget.file_button.on_click(loc_widget.open_file)\n",
    "    loc_widget.file_text_box.observe(loc_widget.change_file_path_box)\n",
    "    movie_merge_widgets.append(movie_widget)\n",
    "    loc_merge_widgets.append(loc_widget)\n",
    "    display(movie_widget.file_text_box, movie_widget.file_button, loc_widget.file_text_box, loc_widget.file_button)"
   ]
  },
  {
   "cell_type": "code",
   "execution_count": 10,
   "metadata": {
    "hidden": true,
    "scrolled": false
   },
   "outputs": [
    {
     "data": {
      "application/vnd.jupyter.widget-view+json": {
       "model_id": "e5d2990298db4c9aad8ba2e0d50e5482",
       "version_major": 2,
       "version_minor": 0
      },
      "text/plain": [
       "Button(description='merge', style=ButtonStyle(), tooltip='merge files')"
      ]
     },
     "metadata": {},
     "output_type": "display_data"
    }
   ],
   "source": [
    "def run(event):\n",
    "    widget_merge_run.create_clear_output()\n",
    "    display(widget_merge_run.run_merge_button)\n",
    "    movie_dirs = [widget.file_text_box.value for widget in movie_merge_widgets if widget.file_text_box.value]\n",
    "    loc_dirs = [widget.file_text_box.value for widget in loc_merge_widgets if widget.file_text_box.value]\n",
    "    data_merge.load_data(movie_dirs, loc_dirs)\n",
    "    shapes = [movie.shape[1:] for movie in data_merge.movies]\n",
    "    if all(x==shapes[0] for x in shapes):\n",
    "        merge.merge(data_merge.movies, data_merge.loc_files)\n",
    "    else:\n",
    "        print(\"All movies must be of equal width and height.\") \n",
    "\n",
    "data_merge = loadAddOns.DataMerge()\n",
    "merge = addOns.Merger()\n",
    "widget_merge_run = widgetsAddOns.RunAnalysis()\n",
    "display(widget_merge_run.run_merge_button)\n",
    "widget_merge_run.run_merge_button.on_click(run)"
   ]
  },
  {
   "cell_type": "code",
   "execution_count": 11,
   "metadata": {
    "hidden": true,
    "scrolled": true
   },
   "outputs": [
    {
     "data": {
      "application/vnd.jupyter.widget-view+json": {
       "model_id": "5b18c0ca671c4ed09df44ac56d1133d2",
       "version_major": 2,
       "version_minor": 0
      },
      "text/plain": [
       "Text(value='', description='Filename', placeholder='name of folder', style=DescriptionStyle(description_width=…"
      ]
     },
     "metadata": {},
     "output_type": "display_data"
    },
    {
     "data": {
      "application/vnd.jupyter.widget-view+json": {
       "model_id": "ec70a1386b0c4e4b9ffb193bd5e18597",
       "version_major": 2,
       "version_minor": 0
      },
      "text/plain": [
       "Text(value='', description='Directory', placeholder='Directory to save', style=DescriptionStyle(description_wi…"
      ]
     },
     "metadata": {},
     "output_type": "display_data"
    },
    {
     "data": {
      "application/vnd.jupyter.widget-view+json": {
       "model_id": "079b089a81e647c1abad82b34d10bc7a",
       "version_major": 2,
       "version_minor": 0
      },
      "text/plain": [
       "Button(description='browse', style=ButtonStyle(), tooltip='browse for directory')"
      ]
     },
     "metadata": {},
     "output_type": "display_data"
    }
   ],
   "source": [
    "widget_merge_save = widgetsAddOns.SaveResults()\n",
    "display(widget_merge_save.box_filename, widget_merge_save.dir_box, widget_merge_save.dir_button)\n",
    "widget_merge_save.dir_button.on_click(widget_merge_save.open_dir)\n",
    "widget_merge_save.dir_box.observe(widget_merge_save.change_dir_box)"
   ]
  },
  {
   "cell_type": "code",
   "execution_count": 12,
   "metadata": {
    "hidden": true,
    "scrolled": true
   },
   "outputs": [
    {
     "data": {
      "application/vnd.jupyter.widget-view+json": {
       "model_id": "20222ae34a1f4243bb986cfd280f756b",
       "version_major": 2,
       "version_minor": 0
      },
      "text/plain": [
       "Button(description='save', style=ButtonStyle(), tooltip='save the results')"
      ]
     },
     "metadata": {},
     "output_type": "display_data"
    }
   ],
   "source": [
    "display(widget_merge_save.save_button)\n",
    "def save_merge(event):\n",
    "    widget_merge_save.create_clear_output()\n",
    "    display(widget_merge_save.save_button)   \n",
    "    saveAddOns.save_merge_files(widget_merge_save.dir_box.value, widget_merge_save.box_filename.value, merge.merged_movies, merge.merged_locs)\n",
    "widget_merge_save.save_button.on_click(save_merge)"
   ]
  },
  {
   "cell_type": "markdown",
   "metadata": {
    "heading_collapsed": true
   },
   "source": [
    "## Split into single frames"
   ]
  },
  {
   "cell_type": "code",
   "execution_count": 13,
   "metadata": {
    "hidden": true
   },
   "outputs": [
    {
     "data": {
      "application/vnd.jupyter.widget-view+json": {
       "model_id": "17d8cdb1123d4570b632f0a222534872",
       "version_major": 2,
       "version_minor": 0
      },
      "text/plain": [
       "Text(value='', description='Path to movie ', placeholder='Insert path', style=DescriptionStyle(description_wid…"
      ]
     },
     "metadata": {},
     "output_type": "display_data"
    },
    {
     "data": {
      "application/vnd.jupyter.widget-view+json": {
       "model_id": "bf9a0acfee4541e9a71935e2ac4e4045",
       "version_major": 2,
       "version_minor": 0
      },
      "text/plain": [
       "Button(description='browse', style=ButtonStyle(), tooltip='browse for file')"
      ]
     },
     "metadata": {},
     "output_type": "display_data"
    },
    {
     "data": {
      "application/vnd.jupyter.widget-view+json": {
       "model_id": "2e06a75cb7c64e3c85f3f94703aa2046",
       "version_major": 2,
       "version_minor": 0
      },
      "text/plain": [
       "Text(value='', description='Path to localizations ', placeholder='Insert path', style=DescriptionStyle(descrip…"
      ]
     },
     "metadata": {},
     "output_type": "display_data"
    },
    {
     "data": {
      "application/vnd.jupyter.widget-view+json": {
       "model_id": "b8823fcdc5ae4654a1a98112560d5f03",
       "version_major": 2,
       "version_minor": 0
      },
      "text/plain": [
       "Button(description='browse', style=ButtonStyle(), tooltip='browse for file')"
      ]
     },
     "metadata": {},
     "output_type": "display_data"
    }
   ],
   "source": [
    "movie_single_split_widget = widgetsAddOns.DefineFiles(\"movie\", title=\"Import *.tif file\", filetype=(\"tif files\", \"*.tif\"), idx=\"\")\n",
    "loc_single_split_widget = widgetsAddOns.DefineFiles(\"localizations\", title=\"Import *.csv file\", filetype=(\"csv files\", \"*.csv\"), idx=\"\")\n",
    "movie_single_split_widget.file_button.on_click(movie_single_split_widget.open_file)\n",
    "movie_single_split_widget.file_text_box.observe(movie_single_split_widget.change_file_path_box)\n",
    "loc_single_split_widget.file_button.on_click(loc_single_split_widget.open_file)\n",
    "loc_single_split_widget.file_text_box.observe(loc_single_split_widget.change_file_path_box)\n",
    "display(movie_single_split_widget.file_text_box, movie_single_split_widget.file_button, loc_single_split_widget.file_text_box, loc_single_split_widget.file_button)"
   ]
  },
  {
   "cell_type": "code",
   "execution_count": 14,
   "metadata": {
    "hidden": true,
    "scrolled": true
   },
   "outputs": [
    {
     "data": {
      "application/vnd.jupyter.widget-view+json": {
       "model_id": "15cf2e4a4b9c4edab316ff211ee6e078",
       "version_major": 2,
       "version_minor": 0
      },
      "text/plain": [
       "Button(description='split', style=ButtonStyle(), tooltip='split data at every frame')"
      ]
     },
     "metadata": {},
     "output_type": "display_data"
    }
   ],
   "source": [
    "def run_single_split(event):\n",
    "    widget_single_split_run.create_clear_output()\n",
    "    display(widget_single_split_run.run_single_split_button)\n",
    "    data_single_split.load_data(movie_single_split_widget.file_text_box.value, loc_single_split_widget.file_text_box.value)\n",
    "    if len(data_single_split.loc_file[\"frame\"].unique()) != data_single_split.movie.shape[0]:\n",
    "        print(\"Defined movie and localization file differ in length, please make sure that they correspond.\")\n",
    "    else:\n",
    "        single_split.split(data_single_split.movie, data_single_split.loc_file)\n",
    "        \n",
    "data_single_split = loadAddOns.DataSplit()\n",
    "single_split = addOns.SingleSplitter()\n",
    "widget_single_split_run = widgetsAddOns.RunAnalysis()\n",
    "display(widget_single_split_run.run_single_split_button)\n",
    "widget_single_split_run.run_single_split_button.on_click(run_single_split)"
   ]
  },
  {
   "cell_type": "code",
   "execution_count": 15,
   "metadata": {
    "hidden": true
   },
   "outputs": [
    {
     "data": {
      "application/vnd.jupyter.widget-view+json": {
       "model_id": "94ba5a966d0946379d2ee500eb16ab8e",
       "version_major": 2,
       "version_minor": 0
      },
      "text/plain": [
       "Text(value='', description='Directory', placeholder='Directory to save', style=DescriptionStyle(description_wi…"
      ]
     },
     "metadata": {},
     "output_type": "display_data"
    },
    {
     "data": {
      "application/vnd.jupyter.widget-view+json": {
       "model_id": "6aea5eda5303492d8cece51abf154562",
       "version_major": 2,
       "version_minor": 0
      },
      "text/plain": [
       "Button(description='browse', style=ButtonStyle(), tooltip='browse for directory')"
      ]
     },
     "metadata": {},
     "output_type": "display_data"
    }
   ],
   "source": [
    "widget_single_split_save = widgetsAddOns.SaveResults()\n",
    "display(widget_single_split_save.dir_box, widget_single_split_save.dir_button)\n",
    "widget_single_split_save.dir_button.on_click(widget_single_split_save.open_dir)\n",
    "widget_single_split_save.dir_box.observe(widget_single_split_save.change_dir_box)"
   ]
  },
  {
   "cell_type": "code",
   "execution_count": 16,
   "metadata": {
    "hidden": true,
    "scrolled": true
   },
   "outputs": [
    {
     "data": {
      "application/vnd.jupyter.widget-view+json": {
       "model_id": "737602ac8b064cc6bf6f0008bacccbec",
       "version_major": 2,
       "version_minor": 0
      },
      "text/plain": [
       "Button(description='save', style=ButtonStyle(), tooltip='save the results')"
      ]
     },
     "metadata": {},
     "output_type": "display_data"
    }
   ],
   "source": [
    "display(widget_single_split_save.save_button)\n",
    "def save_single_split(event):\n",
    "    widget_single_split_save.create_clear_output()\n",
    "    display(widget_single_split_save.save_button)   \n",
    "    saveAddOns.save_single_split_files(widget_single_split_save.dir_box.value, os.path.splitext(os.path.split(loc_single_split_widget.file_text_box.value)[1])[0], single_split.single_frame_movies, single_split.single_frame_locs)\n",
    "widget_single_split_save.save_button.on_click(save_single_split)"
   ]
  },
  {
   "cell_type": "code",
   "execution_count": 17,
   "metadata": {
    "hidden": true
   },
   "outputs": [
    {
     "name": "stdout",
     "output_type": "stream",
     "text": [
      "[[0. 0.]\n",
      " [0. 0.]]\n"
     ]
    }
   ],
   "source": [
    "import numpy as np\n",
    "\n",
    "x = np.zeros((2,2))\n",
    "print(x)"
   ]
  }
 ],
 "metadata": {
  "hide_input": true,
  "kernelspec": {
   "display_name": "Python 3",
   "language": "python",
   "name": "python3"
  },
  "language_info": {
   "codemirror_mode": {
    "name": "ipython",
    "version": 3
   },
   "file_extension": ".py",
   "mimetype": "text/x-python",
   "name": "python",
   "nbconvert_exporter": "python",
   "pygments_lexer": "ipython3",
   "version": "3.7.6"
  }
 },
 "nbformat": 4,
 "nbformat_minor": 2
}
