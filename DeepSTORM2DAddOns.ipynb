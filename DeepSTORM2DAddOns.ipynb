{
 "cells": [
  {
   "cell_type": "markdown",
   "metadata": {},
   "source": [
    "# DeepSTORM2D Add Ons\n",
    "(1) Convert Picasso csv file to DeepSTORM2D csv format <br/>\n",
    "*Input file:* Picasso localization file csv, header = frame, x [nm], y [nm], sigma [nm], intensity [photon], offset [photon], bkgstd [photon], uncertainty_xy [nm]. <br/>\n",
    "*Output file:* DeepSTORM2D file csv, header = ,frame,x [nm],y [nm],Photon #,Sigma [nm]; frame idx starts at 1. <br/>\n",
    "\n",
    "(2) Convert Picasso hdf5 file to DeepSTORM2D csv format <br/>\n",
    "*Input file:* Picasso localization file hdf5, header = frame, x, y, photons, sx, sy, bg, lpx, lpy, ellipticity, net_gradient.  <br/>\n",
    "*Output file:* DeepSTORM2D file csv, header = ,frame,x [nm],y [nm],Photon #,Sigma [nm]; frame idx starts at 1. <br/>\n",
    "\n",
    "(3) Split tif movie & corresponding localization file at defined frame <br/>\n",
    "*Input file:* Tif movie & csv file (Picasso or DeepSTORM2D format). <br/>\n",
    "*Parameter split at frame:* Number of frames of the first file. <br/>\n",
    "*Output file:* Two tif movies & csv files, split at defined frame. <br/>\n",
    "\n",
    "(4) Merge multiple movies & localization files <br/>\n",
    "*Input files:* Define multiple paths to movies and their localization files, adjust the number of files by deactivating \"hide codecell\" and adjusting the variable \"n_measurements\". Picasso or DeepSTORM2D csv formats are possible, but no mixing. <br/>\n",
    "*Output file:* Tif movie with frames of movies stacked and localization file with continous frame numbering. <br/>\n",
    "\n",
    "(5) Split into single frames <br/>\n",
    "*Input file:* Tif movie & csv file  (Picasso or DeepSTORM2D format). <br/>\n",
    "*Output files:* Single frames of tif movies with corresponding csv file saved in defined directory. <br/>\n",
    "\n",
    "(6) Sum frames to create high density movie <br/>\n",
    "*Input file:* Tif movie. <br/>\n",
    "*Parameter camera offset:* Camera offset in px intensitiy. The n summed frames are corrected for multiple camera offsets by subtracting the value n-1 times. <br/>\n",
    "*Parameter number of summing frames:* Define how many frames should be summed to create a high density frame. <br/>\n",
    "*Output files:* Summed frames, each frame corresponds to a high density frame, containing summed information from n frames. \\\\  <br/>"
   ]
  },
  {
   "cell_type": "code",
   "execution_count": 1,
   "metadata": {},
   "outputs": [],
   "source": [
    "from ImageBinner.widgets import widgetsAddOns, loadAddOns\n",
    "from ImageBinner.tools import addOns\n",
    "from ImageBinner.save import saveAddOns\n",
    "import os\n",
    "import warnings\n",
    "warnings.filterwarnings(\"ignore\")"
   ]
  },
  {
   "cell_type": "markdown",
   "metadata": {},
   "source": [
    "## Convert localization file Picasso csv &rarr; DeepSTORM2D format"
   ]
  },
  {
   "cell_type": "markdown",
   "metadata": {},
   "source": [
    "### Load"
   ]
  },
  {
   "cell_type": "code",
   "execution_count": 2,
   "metadata": {},
   "outputs": [
    {
     "data": {
      "application/vnd.jupyter.widget-view+json": {
       "model_id": "8269f04828824df39eb4fd7d31f37bc7",
       "version_major": 2,
       "version_minor": 0
      },
      "text/plain": [
       "Text(value='', description='Path to localizations ', placeholder='Insert path', style=DescriptionStyle(descrip…"
      ]
     },
     "metadata": {},
     "output_type": "display_data"
    },
    {
     "data": {
      "application/vnd.jupyter.widget-view+json": {
       "model_id": "9bb817a68b0d48d89e7ffd7e6c5a40bb",
       "version_major": 2,
       "version_minor": 0
      },
      "text/plain": [
       "Button(description='browse', style=ButtonStyle(), tooltip='browse for file')"
      ]
     },
     "metadata": {},
     "output_type": "display_data"
    }
   ],
   "source": [
    "loc_conv_widget = widgetsAddOns.DefineFiles(\"localizations\", title=\"Import *.csv file\", filetype=(\"csv files\", \"*.csv\"), idx=\"\")\n",
    "loc_conv_widget.file_button.on_click(loc_conv_widget.open_file)\n",
    "loc_conv_widget.file_text_box.observe(loc_conv_widget.change_file_path_box)\n",
    "display(loc_conv_widget.file_text_box, loc_conv_widget.file_button)"
   ]
  },
  {
   "cell_type": "markdown",
   "metadata": {},
   "source": [
    "### Convert & Save"
   ]
  },
  {
   "cell_type": "code",
   "execution_count": 3,
   "metadata": {},
   "outputs": [
    {
     "data": {
      "application/vnd.jupyter.widget-view+json": {
       "model_id": "bff7e810358547cba97d3630f47f6da5",
       "version_major": 2,
       "version_minor": 0
      },
      "text/plain": [
       "Button(description='convert & save', style=ButtonStyle(), tooltip='convert localization file')"
      ]
     },
     "metadata": {},
     "output_type": "display_data"
    }
   ],
   "source": [
    "def run(event):\n",
    "    widget_run.create_clear_output()\n",
    "    display(widget_run.run_button)\n",
    "    if (loc_conv_widget.file_text_box.value):\n",
    "        converter.convert(loc_conv_widget.file_text_box.value)\n",
    "        display(converter.converted_file)\n",
    "        saveAddOns.save_convert_file(loc_conv_widget.file_text_box.value, converter.converted_file)\n",
    "    else:\n",
    "        print(\"Please define a file to convert in the loading section.\")\n",
    "        \n",
    "converter = addOns.Converter()\n",
    "widget_run = widgetsAddOns.RunAnalysis(\"convert & save\", \"convert localization file\")\n",
    "display(widget_run.run_button)\n",
    "widget_run.run_button.on_click(run)"
   ]
  },
  {
   "cell_type": "markdown",
   "metadata": {},
   "source": [
    "## Convert localization file Picasso hdf5 &rarr; DeepSTORM2D format"
   ]
  },
  {
   "cell_type": "markdown",
   "metadata": {},
   "source": [
    "### Load"
   ]
  },
  {
   "cell_type": "code",
   "execution_count": 4,
   "metadata": {},
   "outputs": [
    {
     "data": {
      "application/vnd.jupyter.widget-view+json": {
       "model_id": "5b1a8c63aae44c4181a6bc450db5d093",
       "version_major": 2,
       "version_minor": 0
      },
      "text/plain": [
       "Text(value='', description='Path to localizations ', placeholder='Insert path', style=DescriptionStyle(descrip…"
      ]
     },
     "metadata": {},
     "output_type": "display_data"
    },
    {
     "data": {
      "application/vnd.jupyter.widget-view+json": {
       "model_id": "c162ac63fc234949bcc9f6e6d5331d68",
       "version_major": 2,
       "version_minor": 0
      },
      "text/plain": [
       "Button(description='browse', style=ButtonStyle(), tooltip='browse for file')"
      ]
     },
     "metadata": {},
     "output_type": "display_data"
    }
   ],
   "source": [
    "loc_conv_widget_h5 = widgetsAddOns.DefineFiles(\"localizations\", title=\"Import *.hdf5 file\", filetype=(\"hdf5 files\", \"*.hdf5\"), idx=\"\")\n",
    "loc_conv_widget_h5.file_button.on_click(loc_conv_widget_h5.open_file)\n",
    "loc_conv_widget_h5.file_text_box.observe(loc_conv_widget_h5.change_file_path_box)\n",
    "display(loc_conv_widget_h5.file_text_box, loc_conv_widget_h5.file_button)"
   ]
  },
  {
   "cell_type": "markdown",
   "metadata": {},
   "source": [
    "### Convert & Save"
   ]
  },
  {
   "cell_type": "code",
   "execution_count": 5,
   "metadata": {},
   "outputs": [
    {
     "data": {
      "application/vnd.jupyter.widget-view+json": {
       "model_id": "012393875f6c4a7a9c81901f82598938",
       "version_major": 2,
       "version_minor": 0
      },
      "text/plain": [
       "Button(description='convert & save', style=ButtonStyle(), tooltip='convert localization file')"
      ]
     },
     "metadata": {},
     "output_type": "display_data"
    }
   ],
   "source": [
    "def run(event):\n",
    "    widget_run_h5.create_clear_output()\n",
    "    display(widget_run_h5.run_button)\n",
    "    if (loc_conv_widget_h5.file_text_box.value):\n",
    "        converter_h5.convert(loc_conv_widget_h5.file_text_box.value)\n",
    "        display(converter_h5.converted_file)\n",
    "        saveAddOns.save_convert_file(loc_conv_widget_h5.file_text_box.value, converter_h5.converted_file)\n",
    "    else:\n",
    "        print(\"Please define a file to convert in the loading section.\")\n",
    "        \n",
    "converter_h5 = addOns.ConverterH5()\n",
    "widget_run_h5 = widgetsAddOns.RunAnalysis(\"convert & save\", \"convert localization file\")\n",
    "display(widget_run_h5.run_button)\n",
    "widget_run_h5.run_button.on_click(run)"
   ]
  },
  {
   "cell_type": "markdown",
   "metadata": {},
   "source": [
    "### Save"
   ]
  },
  {
   "cell_type": "markdown",
   "metadata": {},
   "source": [
    "## Split movie & localization file at defined frame"
   ]
  },
  {
   "cell_type": "markdown",
   "metadata": {},
   "source": [
    "### Load"
   ]
  },
  {
   "cell_type": "code",
   "execution_count": 6,
   "metadata": {},
   "outputs": [
    {
     "data": {
      "application/vnd.jupyter.widget-view+json": {
       "model_id": "02db7465c04948649177bcf9c9adadeb",
       "version_major": 2,
       "version_minor": 0
      },
      "text/plain": [
       "Text(value='', description='Path to movie ', placeholder='Insert path', style=DescriptionStyle(description_wid…"
      ]
     },
     "metadata": {},
     "output_type": "display_data"
    },
    {
     "data": {
      "application/vnd.jupyter.widget-view+json": {
       "model_id": "84ec11a8238f4c31a9700afa8546bab0",
       "version_major": 2,
       "version_minor": 0
      },
      "text/plain": [
       "Button(description='browse', style=ButtonStyle(), tooltip='browse for file')"
      ]
     },
     "metadata": {},
     "output_type": "display_data"
    },
    {
     "data": {
      "application/vnd.jupyter.widget-view+json": {
       "model_id": "25f5a331c94d487d87bae6231aefb72b",
       "version_major": 2,
       "version_minor": 0
      },
      "text/plain": [
       "Text(value='', description='Path to localizations ', placeholder='Insert path', style=DescriptionStyle(descrip…"
      ]
     },
     "metadata": {},
     "output_type": "display_data"
    },
    {
     "data": {
      "application/vnd.jupyter.widget-view+json": {
       "model_id": "2b3d3b4f487e467698b79fc764331a67",
       "version_major": 2,
       "version_minor": 0
      },
      "text/plain": [
       "Button(description='browse', style=ButtonStyle(), tooltip='browse for file')"
      ]
     },
     "metadata": {},
     "output_type": "display_data"
    }
   ],
   "source": [
    "movie_split_widget = widgetsAddOns.DefineFiles(\"movie\", title=\"Import *.tif file\", filetype=(\"tif files\", \"*.tif\"), idx=\"\")\n",
    "loc_split_widget = widgetsAddOns.DefineFiles(\"localizations\", title=\"Import *.csv file\", filetype=(\"csv files\", \"*.csv\"), idx=\"\")\n",
    "movie_split_widget.file_button.on_click(movie_split_widget.open_file)\n",
    "movie_split_widget.file_text_box.observe(movie_split_widget.change_file_path_box)\n",
    "loc_split_widget.file_button.on_click(loc_split_widget.open_file)\n",
    "loc_split_widget.file_text_box.observe(loc_split_widget.change_file_path_box)\n",
    "display(movie_split_widget.file_text_box, movie_split_widget.file_button, loc_split_widget.file_text_box, loc_split_widget.file_button)"
   ]
  },
  {
   "cell_type": "markdown",
   "metadata": {},
   "source": [
    "### Parameters"
   ]
  },
  {
   "cell_type": "code",
   "execution_count": 7,
   "metadata": {},
   "outputs": [
    {
     "data": {
      "application/vnd.jupyter.widget-view+json": {
       "model_id": "965824cbafea45a0b4e69ab8325cddad",
       "version_major": 2,
       "version_minor": 0
      },
      "text/plain": [
       "Text(value='', description='Split at frame', placeholder='Insert frame idx', style=DescriptionStyle(descriptio…"
      ]
     },
     "metadata": {},
     "output_type": "display_data"
    }
   ],
   "source": [
    "widget_split_params = widgetsAddOns.ParameterBox(\"Split at frame\", \"Insert frame idx\")\n",
    "display(widget_split_params.value_box)"
   ]
  },
  {
   "cell_type": "markdown",
   "metadata": {},
   "source": [
    "### Split"
   ]
  },
  {
   "cell_type": "code",
   "execution_count": 8,
   "metadata": {
    "scrolled": false
   },
   "outputs": [
    {
     "data": {
      "application/vnd.jupyter.widget-view+json": {
       "model_id": "41d4427a699b4d67acccd782ddf63112",
       "version_major": 2,
       "version_minor": 0
      },
      "text/plain": [
       "Button(description='split', style=ButtonStyle(), tooltip='split data at frame')"
      ]
     },
     "metadata": {},
     "output_type": "display_data"
    }
   ],
   "source": [
    "def run(event):\n",
    "    widget_split_run.create_clear_output()\n",
    "    display(widget_split_run.run_button)\n",
    "    data_split.load_data(movie_split_widget.file_text_box.value, loc_split_widget.file_text_box.value)\n",
    "    if len(data_split.loc_file[\"frame\"].unique()) != data_split.movie.shape[0]:\n",
    "        print(\"Defined movie and localization file differ in length, please make sure that they correspond.\")\n",
    "    else:\n",
    "        split.split(data_split.movie, data_split.loc_file, int(widget_split_params.value_box.value))\n",
    "data_split = loadAddOns.DataSplit()\n",
    "split = addOns.Splitter()\n",
    "widget_split_run = widgetsAddOns.RunAnalysis(\"split\", \"split data at frame\")\n",
    "display(widget_split_run.run_button)\n",
    "widget_split_run.run_button.on_click(run)"
   ]
  },
  {
   "cell_type": "markdown",
   "metadata": {},
   "source": [
    "### Save"
   ]
  },
  {
   "cell_type": "code",
   "execution_count": 9,
   "metadata": {
    "scrolled": false
   },
   "outputs": [
    {
     "data": {
      "application/vnd.jupyter.widget-view+json": {
       "model_id": "1516c0338f6a4179b73142873e30a55f",
       "version_major": 2,
       "version_minor": 0
      },
      "text/plain": [
       "Button(description='save', style=ButtonStyle(), tooltip='save the results')"
      ]
     },
     "metadata": {},
     "output_type": "display_data"
    }
   ],
   "source": [
    "def save_analysis(event):\n",
    "    widget_split_save.create_clear_output()\n",
    "    display(widget_split_save.save_button)\n",
    "    saveAddOns.save_split_files(movie_split_widget.file_text_box.value, loc_split_widget.file_text_box.value, split.split_movies, split.split_locs, int(widget_split_params.value_box.value))\n",
    "\n",
    "widget_split_save = widgetsAddOns.SaveResults()\n",
    "display(widget_split_save.save_button)\n",
    "widget_split_save.save_button.on_click(save_analysis)"
   ]
  },
  {
   "cell_type": "markdown",
   "metadata": {},
   "source": [
    "## Merge multiple movies & localization files"
   ]
  },
  {
   "cell_type": "code",
   "execution_count": 10,
   "metadata": {},
   "outputs": [
    {
     "name": "stdout",
     "output_type": "stream",
     "text": [
      "measurement 1\n"
     ]
    },
    {
     "data": {
      "application/vnd.jupyter.widget-view+json": {
       "model_id": "08434bfda6b74c828af99b467106c8e5",
       "version_major": 2,
       "version_minor": 0
      },
      "text/plain": [
       "Text(value='', description='Path to movie 1', placeholder='Insert path', style=DescriptionStyle(description_wi…"
      ]
     },
     "metadata": {},
     "output_type": "display_data"
    },
    {
     "data": {
      "application/vnd.jupyter.widget-view+json": {
       "model_id": "b91d71435a954eb493b941f947b65702",
       "version_major": 2,
       "version_minor": 0
      },
      "text/plain": [
       "Button(description='browse', style=ButtonStyle(), tooltip='browse for file')"
      ]
     },
     "metadata": {},
     "output_type": "display_data"
    },
    {
     "data": {
      "application/vnd.jupyter.widget-view+json": {
       "model_id": "046f625d2bdc4ca3957336cf017b10f2",
       "version_major": 2,
       "version_minor": 0
      },
      "text/plain": [
       "Text(value='', description='Path to localizations 1', placeholder='Insert path', style=DescriptionStyle(descri…"
      ]
     },
     "metadata": {},
     "output_type": "display_data"
    },
    {
     "data": {
      "application/vnd.jupyter.widget-view+json": {
       "model_id": "fd4c4edcf952487296798b718ab97808",
       "version_major": 2,
       "version_minor": 0
      },
      "text/plain": [
       "Button(description='browse', style=ButtonStyle(), tooltip='browse for file')"
      ]
     },
     "metadata": {},
     "output_type": "display_data"
    },
    {
     "name": "stdout",
     "output_type": "stream",
     "text": [
      "measurement 2\n"
     ]
    },
    {
     "data": {
      "application/vnd.jupyter.widget-view+json": {
       "model_id": "60e4e6430aaa4fe29e39b3dc6625a280",
       "version_major": 2,
       "version_minor": 0
      },
      "text/plain": [
       "Text(value='', description='Path to movie 2', placeholder='Insert path', style=DescriptionStyle(description_wi…"
      ]
     },
     "metadata": {},
     "output_type": "display_data"
    },
    {
     "data": {
      "application/vnd.jupyter.widget-view+json": {
       "model_id": "b5e66ea2d9ef4383bd5f493b4054a09f",
       "version_major": 2,
       "version_minor": 0
      },
      "text/plain": [
       "Button(description='browse', style=ButtonStyle(), tooltip='browse for file')"
      ]
     },
     "metadata": {},
     "output_type": "display_data"
    },
    {
     "data": {
      "application/vnd.jupyter.widget-view+json": {
       "model_id": "fd270a2dd93648de84f74bc43039626d",
       "version_major": 2,
       "version_minor": 0
      },
      "text/plain": [
       "Text(value='', description='Path to localizations 2', placeholder='Insert path', style=DescriptionStyle(descri…"
      ]
     },
     "metadata": {},
     "output_type": "display_data"
    },
    {
     "data": {
      "application/vnd.jupyter.widget-view+json": {
       "model_id": "6d15960c308e4aaa8e05a138b47569d9",
       "version_major": 2,
       "version_minor": 0
      },
      "text/plain": [
       "Button(description='browse', style=ButtonStyle(), tooltip='browse for file')"
      ]
     },
     "metadata": {},
     "output_type": "display_data"
    }
   ],
   "source": [
    "n_measurements = 2  # vary the number of measurements here!\n",
    "movie_merge_widgets, loc_merge_widgets = [], []\n",
    "for i in range(1, n_measurements+1):\n",
    "    print(\"measurement\", i)\n",
    "    movie_widget = widgetsAddOns.DefineFiles(\"movie\", title=\"Import *.tif file\", filetype=(\"tif files\", \"*.tif\"), idx=i)\n",
    "    loc_widget = widgetsAddOns.DefineFiles(\"localizations\", title=\"Import *.csv file\", filetype=(\"csv files\", \"*.csv\"), idx=i)\n",
    "    movie_widget.file_button.on_click(movie_widget.open_file)\n",
    "    movie_widget.file_text_box.observe(movie_widget.change_file_path_box)\n",
    "    loc_widget.file_button.on_click(loc_widget.open_file)\n",
    "    loc_widget.file_text_box.observe(loc_widget.change_file_path_box)\n",
    "    movie_merge_widgets.append(movie_widget)\n",
    "    loc_merge_widgets.append(loc_widget)\n",
    "    display(movie_widget.file_text_box, movie_widget.file_button, loc_widget.file_text_box, loc_widget.file_button)"
   ]
  },
  {
   "cell_type": "code",
   "execution_count": 11,
   "metadata": {
    "scrolled": false
   },
   "outputs": [
    {
     "data": {
      "application/vnd.jupyter.widget-view+json": {
       "model_id": "6323ad634b2e4c8e859db8d35a65e560",
       "version_major": 2,
       "version_minor": 0
      },
      "text/plain": [
       "Button(description='merge', style=ButtonStyle(), tooltip='merge files')"
      ]
     },
     "metadata": {},
     "output_type": "display_data"
    }
   ],
   "source": [
    "def run(event):\n",
    "    widget_merge_run.create_clear_output()\n",
    "    display(widget_merge_run.run_button)\n",
    "    movie_dirs = [widget.file_text_box.value for widget in movie_merge_widgets if widget.file_text_box.value]\n",
    "    loc_dirs = [widget.file_text_box.value for widget in loc_merge_widgets if widget.file_text_box.value]\n",
    "    data_merge.load_data(movie_dirs, loc_dirs)\n",
    "    shapes = [movie.shape[1:] for movie in data_merge.movies]\n",
    "    if all(x==shapes[0] for x in shapes):\n",
    "        merge.merge(data_merge.movies, data_merge.loc_files)\n",
    "    else:\n",
    "        print(\"All movies must be of equal width and height.\") \n",
    "\n",
    "data_merge = loadAddOns.DataMerge()\n",
    "merge = addOns.Merger()\n",
    "widget_merge_run = widgetsAddOns.RunAnalysis(\"merge\", \"merge files\")\n",
    "display(widget_merge_run.run_button)\n",
    "widget_merge_run.run_button.on_click(run)"
   ]
  },
  {
   "cell_type": "code",
   "execution_count": 12,
   "metadata": {
    "scrolled": true
   },
   "outputs": [
    {
     "data": {
      "application/vnd.jupyter.widget-view+json": {
       "model_id": "c4443fa35f1e47359e2edff8e2175eeb",
       "version_major": 2,
       "version_minor": 0
      },
      "text/plain": [
       "Text(value='', description='Filename', placeholder='name of folder', style=DescriptionStyle(description_width=…"
      ]
     },
     "metadata": {},
     "output_type": "display_data"
    },
    {
     "data": {
      "application/vnd.jupyter.widget-view+json": {
       "model_id": "deb82ada74a24c1d84cf8ede51ec3aef",
       "version_major": 2,
       "version_minor": 0
      },
      "text/plain": [
       "Text(value='', description='Directory', placeholder='Directory to save', style=DescriptionStyle(description_wi…"
      ]
     },
     "metadata": {},
     "output_type": "display_data"
    },
    {
     "data": {
      "application/vnd.jupyter.widget-view+json": {
       "model_id": "bf00d419669645978ebc94903e54f8f7",
       "version_major": 2,
       "version_minor": 0
      },
      "text/plain": [
       "Button(description='browse', style=ButtonStyle(), tooltip='browse for directory')"
      ]
     },
     "metadata": {},
     "output_type": "display_data"
    }
   ],
   "source": [
    "widget_merge_save = widgetsAddOns.SaveResults()\n",
    "display(widget_merge_save.box_filename, widget_merge_save.dir_box, widget_merge_save.dir_button)\n",
    "widget_merge_save.dir_button.on_click(widget_merge_save.open_dir)\n",
    "widget_merge_save.dir_box.observe(widget_merge_save.change_dir_box)"
   ]
  },
  {
   "cell_type": "code",
   "execution_count": 13,
   "metadata": {
    "scrolled": true
   },
   "outputs": [
    {
     "data": {
      "application/vnd.jupyter.widget-view+json": {
       "model_id": "3ae2f8a4343e4b5eb436662cf0d013e1",
       "version_major": 2,
       "version_minor": 0
      },
      "text/plain": [
       "Button(description='save', style=ButtonStyle(), tooltip='save the results')"
      ]
     },
     "metadata": {},
     "output_type": "display_data"
    }
   ],
   "source": [
    "display(widget_merge_save.save_button)\n",
    "def save_merge(event):\n",
    "    widget_merge_save.create_clear_output()\n",
    "    display(widget_merge_save.save_button)   \n",
    "    saveAddOns.save_merge_files(widget_merge_save.dir_box.value, widget_merge_save.box_filename.value, merge.merged_movies, merge.merged_locs)\n",
    "widget_merge_save.save_button.on_click(save_merge)"
   ]
  },
  {
   "cell_type": "markdown",
   "metadata": {},
   "source": [
    "## Split into single frames"
   ]
  },
  {
   "cell_type": "code",
   "execution_count": 14,
   "metadata": {},
   "outputs": [
    {
     "data": {
      "application/vnd.jupyter.widget-view+json": {
       "model_id": "be7c9e2730234a03b6ce9e0dc960d769",
       "version_major": 2,
       "version_minor": 0
      },
      "text/plain": [
       "Text(value='', description='Path to movie ', placeholder='Insert path', style=DescriptionStyle(description_wid…"
      ]
     },
     "metadata": {},
     "output_type": "display_data"
    },
    {
     "data": {
      "application/vnd.jupyter.widget-view+json": {
       "model_id": "fcd1db40452f48ef85475f037658e22b",
       "version_major": 2,
       "version_minor": 0
      },
      "text/plain": [
       "Button(description='browse', style=ButtonStyle(), tooltip='browse for file')"
      ]
     },
     "metadata": {},
     "output_type": "display_data"
    },
    {
     "data": {
      "application/vnd.jupyter.widget-view+json": {
       "model_id": "7dd80b99a0fc495180a6283dc0307868",
       "version_major": 2,
       "version_minor": 0
      },
      "text/plain": [
       "Text(value='', description='Path to localizations ', placeholder='Insert path', style=DescriptionStyle(descrip…"
      ]
     },
     "metadata": {},
     "output_type": "display_data"
    },
    {
     "data": {
      "application/vnd.jupyter.widget-view+json": {
       "model_id": "bdc36bcb2ad14541adffa55460187eb2",
       "version_major": 2,
       "version_minor": 0
      },
      "text/plain": [
       "Button(description='browse', style=ButtonStyle(), tooltip='browse for file')"
      ]
     },
     "metadata": {},
     "output_type": "display_data"
    }
   ],
   "source": [
    "movie_single_split_widget = widgetsAddOns.DefineFiles(\"movie\", title=\"Import *.tif file\", filetype=(\"tif files\", \"*.tif\"), idx=\"\")\n",
    "loc_single_split_widget = widgetsAddOns.DefineFiles(\"localizations\", title=\"Import *.csv file\", filetype=(\"csv files\", \"*.csv\"), idx=\"\")\n",
    "movie_single_split_widget.file_button.on_click(movie_single_split_widget.open_file)\n",
    "movie_single_split_widget.file_text_box.observe(movie_single_split_widget.change_file_path_box)\n",
    "loc_single_split_widget.file_button.on_click(loc_single_split_widget.open_file)\n",
    "loc_single_split_widget.file_text_box.observe(loc_single_split_widget.change_file_path_box)\n",
    "display(movie_single_split_widget.file_text_box, movie_single_split_widget.file_button, loc_single_split_widget.file_text_box, loc_single_split_widget.file_button)"
   ]
  },
  {
   "cell_type": "code",
   "execution_count": 15,
   "metadata": {
    "scrolled": true
   },
   "outputs": [
    {
     "data": {
      "application/vnd.jupyter.widget-view+json": {
       "model_id": "5c9bdf9000674a999b20f73c618823cc",
       "version_major": 2,
       "version_minor": 0
      },
      "text/plain": [
       "Button(description='split', style=ButtonStyle(), tooltip='split data at every frame')"
      ]
     },
     "metadata": {},
     "output_type": "display_data"
    }
   ],
   "source": [
    "def run_single_split(event):\n",
    "    widget_single_split_run.create_clear_output()\n",
    "    display(widget_single_split_run.run_button)\n",
    "    data_single_split.load_data(movie_single_split_widget.file_text_box.value, loc_single_split_widget.file_text_box.value)\n",
    "    if len(data_single_split.loc_file[\"frame\"].unique()) != data_single_split.movie.shape[0]:\n",
    "        print(\"Defined movie and localization file differ in length, please make sure that they correspond.\")\n",
    "    else:\n",
    "        single_split.split(data_single_split.movie, data_single_split.loc_file)\n",
    "        \n",
    "data_single_split = loadAddOns.DataSplit()\n",
    "single_split = addOns.SingleSplitter()\n",
    "widget_single_split_run = widgetsAddOns.RunAnalysis(\"split\", \"split data at every frame\")\n",
    "display(widget_single_split_run.run_button)\n",
    "widget_single_split_run.run_button.on_click(run_single_split)"
   ]
  },
  {
   "cell_type": "code",
   "execution_count": 16,
   "metadata": {},
   "outputs": [
    {
     "data": {
      "application/vnd.jupyter.widget-view+json": {
       "model_id": "ba7e932744c741d0bb34a3db39b6f561",
       "version_major": 2,
       "version_minor": 0
      },
      "text/plain": [
       "Text(value='', description='Directory', placeholder='Directory to save', style=DescriptionStyle(description_wi…"
      ]
     },
     "metadata": {},
     "output_type": "display_data"
    },
    {
     "data": {
      "application/vnd.jupyter.widget-view+json": {
       "model_id": "9b460a76833d4109854814c1dfac3e2f",
       "version_major": 2,
       "version_minor": 0
      },
      "text/plain": [
       "Button(description='browse', style=ButtonStyle(), tooltip='browse for directory')"
      ]
     },
     "metadata": {},
     "output_type": "display_data"
    }
   ],
   "source": [
    "widget_single_split_save = widgetsAddOns.SaveResults()\n",
    "display(widget_single_split_save.dir_box, widget_single_split_save.dir_button)\n",
    "widget_single_split_save.dir_button.on_click(widget_single_split_save.open_dir)\n",
    "widget_single_split_save.dir_box.observe(widget_single_split_save.change_dir_box)"
   ]
  },
  {
   "cell_type": "code",
   "execution_count": 17,
   "metadata": {
    "scrolled": true
   },
   "outputs": [
    {
     "data": {
      "application/vnd.jupyter.widget-view+json": {
       "model_id": "53142cf8a040469bbe0c0bde9d51896a",
       "version_major": 2,
       "version_minor": 0
      },
      "text/plain": [
       "Button(description='save', style=ButtonStyle(), tooltip='save the results')"
      ]
     },
     "metadata": {},
     "output_type": "display_data"
    }
   ],
   "source": [
    "display(widget_single_split_save.save_button)\n",
    "def save_single_split(event):\n",
    "    widget_single_split_save.create_clear_output()\n",
    "    display(widget_single_split_save.save_button)   \n",
    "    saveAddOns.save_single_split_files(widget_single_split_save.dir_box.value, os.path.splitext(os.path.split(loc_single_split_widget.file_text_box.value)[1])[0], single_split.single_frame_movies, single_split.single_frame_locs)\n",
    "widget_single_split_save.save_button.on_click(save_single_split)"
   ]
  },
  {
   "cell_type": "markdown",
   "metadata": {},
   "source": [
    "## Sum frames to create high density movie"
   ]
  },
  {
   "cell_type": "markdown",
   "metadata": {},
   "source": [
    "### Load"
   ]
  },
  {
   "cell_type": "code",
   "execution_count": 18,
   "metadata": {},
   "outputs": [
    {
     "data": {
      "application/vnd.jupyter.widget-view+json": {
       "model_id": "2e340dcf21e14d0cab4e56ccd8383fca",
       "version_major": 2,
       "version_minor": 0
      },
      "text/plain": [
       "Text(value='', description='Path to tif movie ', placeholder='Insert path', style=DescriptionStyle(description…"
      ]
     },
     "metadata": {},
     "output_type": "display_data"
    },
    {
     "data": {
      "application/vnd.jupyter.widget-view+json": {
       "model_id": "11a6083e2e0444fc9000078b208c1cb3",
       "version_major": 2,
       "version_minor": 0
      },
      "text/plain": [
       "Button(description='browse', style=ButtonStyle(), tooltip='browse for file')"
      ]
     },
     "metadata": {},
     "output_type": "display_data"
    }
   ],
   "source": [
    "widget_load_sum = widgetsAddOns.DefineFiles(\"tif movie\", title=\"Import *.tif file\", filetype=(\"tif files\", \"*.tif\"), idx=\"\")\n",
    "widget_load_sum.file_button.on_click(widget_load_sum.open_file)\n",
    "widget_load_sum.file_text_box.observe(widget_load_sum.change_file_path_box)\n",
    "display(widget_load_sum.file_text_box, widget_load_sum.file_button)"
   ]
  },
  {
   "cell_type": "markdown",
   "metadata": {},
   "source": [
    "### Parameter\n",
    "*Camera offset:* Camera offset in px intensitiy. The n summed frames are corrected for multiple camera offsets by subtracting the value n-1 times.\n",
    "*Number of summing frames:* Define how many frames should be summed to create a high density frame. "
   ]
  },
  {
   "cell_type": "code",
   "execution_count": 19,
   "metadata": {},
   "outputs": [
    {
     "data": {
      "application/vnd.jupyter.widget-view+json": {
       "model_id": "9a1aee10bc704b5d8240941a8861746a",
       "version_major": 2,
       "version_minor": 0
      },
      "text/plain": [
       "Text(value='', description='Camera offset [px intensity]', placeholder='Insert value', style=DescriptionStyle(…"
      ]
     },
     "metadata": {},
     "output_type": "display_data"
    },
    {
     "data": {
      "application/vnd.jupyter.widget-view+json": {
       "model_id": "b063a01352294f23a0483262cea38b33",
       "version_major": 2,
       "version_minor": 0
      },
      "text/plain": [
       "Text(value='', description='Number of frames to sum together', placeholder='Insert value', style=DescriptionSt…"
      ]
     },
     "metadata": {},
     "output_type": "display_data"
    }
   ],
   "source": [
    "widget_sum_params_camera = widgetsAddOns.ParameterBox(\"Camera offset [px intensity]\", \"Insert value\")\n",
    "widget_sum_params_sum = widgetsAddOns.ParameterBox(\"Number of frames to sum together\", \"Insert value\")\n",
    "display(widget_sum_params_camera.value_box)\n",
    "display(widget_sum_params_sum.value_box)"
   ]
  },
  {
   "cell_type": "markdown",
   "metadata": {},
   "source": [
    "### Save"
   ]
  },
  {
   "cell_type": "code",
   "execution_count": 20,
   "metadata": {
    "scrolled": false
   },
   "outputs": [
    {
     "data": {
      "application/vnd.jupyter.widget-view+json": {
       "model_id": "be96f23ac9844160b967e6a517fcee40",
       "version_major": 2,
       "version_minor": 0
      },
      "text/plain": [
       "Button(description='sum & save', style=ButtonStyle(), tooltip='sum frames to one')"
      ]
     },
     "metadata": {},
     "output_type": "display_data"
    }
   ],
   "source": [
    "def run(event):\n",
    "    widget_sum_run.create_clear_output()\n",
    "    display(widget_sum_run.run_button)\n",
    "    if (widget_load_sum.file_text_box.value):\n",
    "        movie = loader_sum.load_movie(widget_load_sum.file_text_box.value)\n",
    "        summer.sum_movie(loader_sum.movie, int(widget_sum_params_sum.value_box.value), int(widget_sum_params_camera.value_box.value))\n",
    "        save_path = os.path.splitext(widget_load_sum.file_text_box.value)[0] + \"_n_sum\" + widget_sum_params_sum.value_box.value + \"_offset\" + widget_sum_params_camera.value_box.value + \".tif\"\n",
    "        saveAddOns.save_sum_frames(save_path, summer.summed_frames)\n",
    "    else:\n",
    "        print(\"Please define a file in the loading section.\")\n",
    "\n",
    "loader_sum = loadAddOns.SumFrames()\n",
    "summer = addOns.SumFrames()\n",
    "widget_sum_run = widgetsAddOns.RunAnalysis(\"sum & save\", \"sum frames to one\")\n",
    "display(widget_sum_run.run_button)\n",
    "widget_sum_run.run_button.on_click(run)"
   ]
  }
 ],
 "metadata": {
  "hide_input": true,
  "kernelspec": {
   "display_name": "Python 3 (ipykernel)",
   "language": "python",
   "name": "python3"
  },
  "language_info": {
   "codemirror_mode": {
    "name": "ipython",
    "version": 3
   },
   "file_extension": ".py",
   "mimetype": "text/x-python",
   "name": "python",
   "nbconvert_exporter": "python",
   "pygments_lexer": "ipython3",
   "version": "3.9.7"
  }
 },
 "nbformat": 4,
 "nbformat_minor": 2
}
