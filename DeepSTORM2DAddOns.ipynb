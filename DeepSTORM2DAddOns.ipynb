{
 "cells": [
  {
   "cell_type": "markdown",
   "metadata": {},
   "source": [
    "# DeepSTORM2D Add Ons\n",
    "(1) Convert Picasso csv file to DeepSTORM2D csv format: <br/>\n",
    "*Input file:* Picasso localization file csv, header = frame, x [nm], y [nm], sigma [nm], intensity [photon], offset [photon], bkgstd [photon], uncertainty_xy [nm] <br/>\n",
    "*Output file:* DeepSTORM2D file csv, header = ,frame,x [nm],y [nm],Photon #,Sigma [nm]; frame idx starts at 1 <br/>\n",
    "\n",
    "(2) Convert Picasso hdf5 file to DeepSTORM2D csv format: <br/>\n",
    "*Input file:* Picasso localization file hdf5, header = frame, x, y, photons, sx, sy, bg, lpx, lpy, ellipticity, net_gradient  <br/>\n",
    "*Output file:* DeepSTORM2D file csv, header = ,frame,x [nm],y [nm],Photon #,Sigma [nm]; frame idx starts at 1 <br/>\n",
    "\n",
    "(3) Split tif movie & corresponding localization file at defined frame. <br/>\n",
    "*Input file:* Tif movie & csv file (Picasso or DeepSTORM2D format). <br/>\n",
    "*Parameter split at frame:* Number of frames of the first file. <br/>\n",
    "*Output file:* Two tif movies & csv files, split at defined frame. <br/>\n",
    "\n",
    "(4) Merge multiple movies & localization files. <br/>\n",
    "*Input files:* Define multiple paths to movies and their localization files, adjust the number of files by deactivating \"hide codecell\" and adjusting the variable \"n_measurements\". Picasso or DeepSTORM2D csv formats are possible, but no mixing. <br/>\n",
    "*Output file:* Tif movie with frames of movies stacked and localization file with continous frame numbering. <br/>\n",
    "\n",
    "(5) Split into single frames. <br/>\n",
    "*Input file:* Tif movie & csv file  (Picasso or DeepSTORM2D format). <br/>\n",
    "*Output files:* Single frames of tif movies with corresponding csv file saved in defined directory. <br/>"
   ]
  },
  {
   "cell_type": "code",
   "execution_count": 1,
   "metadata": {},
   "outputs": [],
   "source": [
    "from ImageBinner.widgets import widgetsAddOns, loadAddOns\n",
    "from ImageBinner.tools import addOns\n",
    "from ImageBinner.save import saveAddOns\n",
    "import os\n",
    "import warnings\n",
    "warnings.filterwarnings(\"ignore\")"
   ]
  },
  {
   "cell_type": "markdown",
   "metadata": {
    "heading_collapsed": true
   },
   "source": [
    "## Convert localization file Picasso csv &rarr; DeepSTORM2D format"
   ]
  },
  {
   "cell_type": "markdown",
   "metadata": {
    "hidden": true
   },
   "source": [
    "### Load"
   ]
  },
  {
   "cell_type": "code",
   "execution_count": 2,
   "metadata": {
    "hidden": true
   },
   "outputs": [
    {
     "data": {
      "application/vnd.jupyter.widget-view+json": {
       "model_id": "b10e368fb4844e1aaf97c52260c1fa87",
       "version_major": 2,
       "version_minor": 0
      },
      "text/plain": [
       "Text(value='', description='Path to localizations ', placeholder='Insert path', style=DescriptionStyle(descrip…"
      ]
     },
     "metadata": {},
     "output_type": "display_data"
    },
    {
     "data": {
      "application/vnd.jupyter.widget-view+json": {
       "model_id": "f9b2f7e2c25749b98a5e6a7d42536d5b",
       "version_major": 2,
       "version_minor": 0
      },
      "text/plain": [
       "Button(description='browse', style=ButtonStyle(), tooltip='browse for file')"
      ]
     },
     "metadata": {},
     "output_type": "display_data"
    }
   ],
   "source": [
    "loc_conv_widget = widgetsAddOns.DefineFiles(\"localizations\", title=\"Import *.csv file\", filetype=(\"csv files\", \"*.csv\"), idx=\"\")\n",
    "loc_conv_widget.file_button.on_click(loc_conv_widget.open_file)\n",
    "loc_conv_widget.file_text_box.observe(loc_conv_widget.change_file_path_box)\n",
    "display(loc_conv_widget.file_text_box, loc_conv_widget.file_button)"
   ]
  },
  {
   "cell_type": "markdown",
   "metadata": {
    "hidden": true
   },
   "source": [
    "### Convert & Save"
   ]
  },
  {
   "cell_type": "code",
   "execution_count": 3,
   "metadata": {
    "hidden": true
   },
   "outputs": [
    {
     "data": {
      "application/vnd.jupyter.widget-view+json": {
       "model_id": "705d73b0cadd4b3cbd1ee22647ae62b2",
       "version_major": 2,
       "version_minor": 0
      },
      "text/plain": [
       "Button(description='convert & save', style=ButtonStyle(), tooltip='convert localization file')"
      ]
     },
     "metadata": {},
     "output_type": "display_data"
    }
   ],
   "source": [
    "def run(event):\n",
    "    widget_run.create_clear_output()\n",
    "    display(widget_run.run_convert_button)\n",
    "    if (loc_conv_widget.file_text_box.value):\n",
    "        converter.convert(loc_conv_widget.file_text_box.value)\n",
    "        display(converter.converted_file)\n",
    "        saveAddOns.save_convert_file(loc_conv_widget.file_text_box.value, converter.converted_file)\n",
    "    else:\n",
    "        print(\"Please define a file to convert in the loading section.\")\n",
    "        \n",
    "converter = addOns.Converter()\n",
    "widget_run = widgetsAddOns.RunAnalysis()\n",
    "display(widget_run.run_convert_button)\n",
    "widget_run.run_convert_button.on_click(run)"
   ]
  },
  {
   "cell_type": "markdown",
   "metadata": {
    "heading_collapsed": true
   },
   "source": [
    "## Convert localization file Picasso hdf5 &rarr; DeepSTORM2D format"
   ]
  },
  {
   "cell_type": "markdown",
   "metadata": {
    "hidden": true
   },
   "source": [
    "### Load"
   ]
  },
  {
   "cell_type": "code",
   "execution_count": 4,
   "metadata": {
    "hidden": true
   },
   "outputs": [
    {
     "data": {
      "application/vnd.jupyter.widget-view+json": {
       "model_id": "6f9160fb67164dbf8b7e35a6b4679989",
       "version_major": 2,
       "version_minor": 0
      },
      "text/plain": [
       "Text(value='', description='Path to localizations ', placeholder='Insert path', style=DescriptionStyle(descrip…"
      ]
     },
     "metadata": {},
     "output_type": "display_data"
    },
    {
     "data": {
      "application/vnd.jupyter.widget-view+json": {
       "model_id": "d86ad1c7a1d24994922858c6d5a99e0d",
       "version_major": 2,
       "version_minor": 0
      },
      "text/plain": [
       "Button(description='browse', style=ButtonStyle(), tooltip='browse for file')"
      ]
     },
     "metadata": {},
     "output_type": "display_data"
    }
   ],
   "source": [
    "loc_conv_widget_h5 = widgetsAddOns.DefineFiles(\"localizations\", title=\"Import *.hdf5 file\", filetype=(\"hdf5 files\", \"*.hdf5\"), idx=\"\")\n",
    "loc_conv_widget_h5.file_button.on_click(loc_conv_widget_h5.open_file)\n",
    "loc_conv_widget_h5.file_text_box.observe(loc_conv_widget_h5.change_file_path_box)\n",
    "display(loc_conv_widget_h5.file_text_box, loc_conv_widget_h5.file_button)"
   ]
  },
  {
   "cell_type": "markdown",
   "metadata": {
    "hidden": true
   },
   "source": [
    "### Convert & Save"
   ]
  },
  {
   "cell_type": "code",
   "execution_count": 5,
   "metadata": {
    "hidden": true
   },
   "outputs": [
    {
     "data": {
      "application/vnd.jupyter.widget-view+json": {
       "model_id": "a4c2cf94982d425fbbdee8efc1065a3d",
       "version_major": 2,
       "version_minor": 0
      },
      "text/plain": [
       "Button(description='convert & save', style=ButtonStyle(), tooltip='convert localization file')"
      ]
     },
     "metadata": {},
     "output_type": "display_data"
    }
   ],
   "source": [
    "def run(event):\n",
    "    widget_run_h5.create_clear_output()\n",
    "    display(widget_run_h5.run_convert_button)\n",
    "    if (loc_conv_widget_h5.file_text_box.value):\n",
    "        converter_h5.convert(loc_conv_widget_h5.file_text_box.value)\n",
    "        display(converter_h5.converted_file)\n",
    "        saveAddOns.save_convert_file(loc_conv_widget_h5.file_text_box.value, converter_h5.converted_file)\n",
    "    else:\n",
    "        print(\"Please define a file to convert in the loading section.\")\n",
    "        \n",
    "converter_h5 = addOns.ConverterH5()\n",
    "widget_run_h5 = widgetsAddOns.RunAnalysis()\n",
    "display(widget_run_h5.run_convert_button)\n",
    "widget_run_h5.run_convert_button.on_click(run)"
   ]
  },
  {
   "cell_type": "markdown",
   "metadata": {
    "hidden": true
   },
   "source": [
    "### Save"
   ]
  },
  {
   "cell_type": "markdown",
   "metadata": {
    "heading_collapsed": true
   },
   "source": [
    "## Split movie & localization file at defined frame"
   ]
  },
  {
   "cell_type": "markdown",
   "metadata": {
    "hidden": true
   },
   "source": [
    "### Load"
   ]
  },
  {
   "cell_type": "code",
   "execution_count": 6,
   "metadata": {
    "hidden": true
   },
   "outputs": [
    {
     "data": {
      "application/vnd.jupyter.widget-view+json": {
       "model_id": "8abda924765f4ac4bc4b147f1d17cb54",
       "version_major": 2,
       "version_minor": 0
      },
      "text/plain": [
       "Text(value='', description='Path to movie ', placeholder='Insert path', style=DescriptionStyle(description_wid…"
      ]
     },
     "metadata": {},
     "output_type": "display_data"
    },
    {
     "data": {
      "application/vnd.jupyter.widget-view+json": {
       "model_id": "05d02ebf39ba426d9174da930dc5e4f2",
       "version_major": 2,
       "version_minor": 0
      },
      "text/plain": [
       "Button(description='browse', style=ButtonStyle(), tooltip='browse for file')"
      ]
     },
     "metadata": {},
     "output_type": "display_data"
    },
    {
     "data": {
      "application/vnd.jupyter.widget-view+json": {
       "model_id": "644145c46956495dbbf5408feeb52147",
       "version_major": 2,
       "version_minor": 0
      },
      "text/plain": [
       "Text(value='', description='Path to localizations ', placeholder='Insert path', style=DescriptionStyle(descrip…"
      ]
     },
     "metadata": {},
     "output_type": "display_data"
    },
    {
     "data": {
      "application/vnd.jupyter.widget-view+json": {
       "model_id": "90b55432c15f4146b91816acec9d569e",
       "version_major": 2,
       "version_minor": 0
      },
      "text/plain": [
       "Button(description='browse', style=ButtonStyle(), tooltip='browse for file')"
      ]
     },
     "metadata": {},
     "output_type": "display_data"
    }
   ],
   "source": [
    "movie_split_widget = widgetsAddOns.DefineFiles(\"movie\", title=\"Import *.tif file\", filetype=(\"tif files\", \"*.tif\"), idx=\"\")\n",
    "loc_split_widget = widgetsAddOns.DefineFiles(\"localizations\", title=\"Import *.csv file\", filetype=(\"csv files\", \"*.csv\"), idx=\"\")\n",
    "movie_split_widget.file_button.on_click(movie_split_widget.open_file)\n",
    "movie_split_widget.file_text_box.observe(movie_split_widget.change_file_path_box)\n",
    "loc_split_widget.file_button.on_click(loc_split_widget.open_file)\n",
    "loc_split_widget.file_text_box.observe(loc_split_widget.change_file_path_box)\n",
    "display(movie_split_widget.file_text_box, movie_split_widget.file_button, loc_split_widget.file_text_box, loc_split_widget.file_button)"
   ]
  },
  {
   "cell_type": "markdown",
   "metadata": {
    "hidden": true
   },
   "source": [
    "### Parameters"
   ]
  },
  {
   "cell_type": "code",
   "execution_count": 7,
   "metadata": {
    "hidden": true
   },
   "outputs": [
    {
     "data": {
      "application/vnd.jupyter.widget-view+json": {
       "model_id": "26f9d816cb984bb6b04fbfd1e6e7c1ff",
       "version_major": 2,
       "version_minor": 0
      },
      "text/plain": [
       "Text(value='', description='Split at frame', placeholder='Insert frame idx', style=DescriptionStyle(descriptio…"
      ]
     },
     "metadata": {},
     "output_type": "display_data"
    }
   ],
   "source": [
    "widget_split_params = widgetsAddOns.ParametersSplit()\n",
    "display(widget_split_params.frame_idx)"
   ]
  },
  {
   "cell_type": "markdown",
   "metadata": {
    "hidden": true
   },
   "source": [
    "### Split"
   ]
  },
  {
   "cell_type": "code",
   "execution_count": 8,
   "metadata": {
    "hidden": true,
    "scrolled": false
   },
   "outputs": [
    {
     "data": {
      "application/vnd.jupyter.widget-view+json": {
       "model_id": "50099e4c18724679af9ff92c25d2ea5e",
       "version_major": 2,
       "version_minor": 0
      },
      "text/plain": [
       "Button(description='split', style=ButtonStyle(), tooltip='split data at frame')"
      ]
     },
     "metadata": {},
     "output_type": "display_data"
    }
   ],
   "source": [
    "def run(event):\n",
    "    widget_split_run.create_clear_output()\n",
    "    display(widget_split_run.run_split_button)\n",
    "    data_split.load_data(movie_split_widget.file_text_box.value, loc_split_widget.file_text_box.value)\n",
    "    if len(data_split.loc_file[\"frame\"].unique()) != data_split.movie.shape[0]:\n",
    "        print(\"Defined movie and localization file differ in length, please make sure that they correspond.\")\n",
    "    else:\n",
    "        split.split(data_split.movie, data_split.loc_file, int(widget_split_params.frame_idx.value))\n",
    "data_split = loadAddOns.DataSplit()\n",
    "split = addOns.Splitter()\n",
    "widget_split_run = widgetsAddOns.RunAnalysis()\n",
    "display(widget_split_run.run_split_button)\n",
    "widget_split_run.run_split_button.on_click(run)"
   ]
  },
  {
   "cell_type": "markdown",
   "metadata": {
    "hidden": true
   },
   "source": [
    "### Save"
   ]
  },
  {
   "cell_type": "code",
   "execution_count": 9,
   "metadata": {
    "hidden": true,
    "scrolled": false
   },
   "outputs": [
    {
     "data": {
      "application/vnd.jupyter.widget-view+json": {
       "model_id": "66bde7cbc3f14bbea6b67727d05401c4",
       "version_major": 2,
       "version_minor": 0
      },
      "text/plain": [
       "Button(description='save', style=ButtonStyle(), tooltip='save the results')"
      ]
     },
     "metadata": {},
     "output_type": "display_data"
    }
   ],
   "source": [
    "def save_analysis(event):\n",
    "    widget_split_save.create_clear_output()\n",
    "    display(widget_split_save.save_button)\n",
    "    saveAddOns.save_split_files(movie_split_widget.file_text_box.value, loc_split_widget.file_text_box.value, split.split_movies, split.split_locs, int(widget_split_params.frame_idx.value))\n",
    "\n",
    "widget_split_save = widgetsAddOns.SaveResults()\n",
    "display(widget_split_save.save_button)\n",
    "widget_split_save.save_button.on_click(save_analysis)"
   ]
  },
  {
   "cell_type": "markdown",
   "metadata": {
    "heading_collapsed": true
   },
   "source": [
    "## Merge multiple movies & localization files"
   ]
  },
  {
   "cell_type": "code",
   "execution_count": 10,
   "metadata": {
    "hidden": true
   },
   "outputs": [
    {
     "name": "stdout",
     "output_type": "stream",
     "text": [
      "measurement 1\n"
     ]
    },
    {
     "data": {
      "application/vnd.jupyter.widget-view+json": {
       "model_id": "c5f9b7cb2b394aafa2f8807f95650eaa",
       "version_major": 2,
       "version_minor": 0
      },
      "text/plain": [
       "Text(value='', description='Path to movie 1', placeholder='Insert path', style=DescriptionStyle(description_wi…"
      ]
     },
     "metadata": {},
     "output_type": "display_data"
    },
    {
     "data": {
      "application/vnd.jupyter.widget-view+json": {
       "model_id": "4a4edfef777247c384d3afbc0a234ffe",
       "version_major": 2,
       "version_minor": 0
      },
      "text/plain": [
       "Button(description='browse', style=ButtonStyle(), tooltip='browse for file')"
      ]
     },
     "metadata": {},
     "output_type": "display_data"
    },
    {
     "data": {
      "application/vnd.jupyter.widget-view+json": {
       "model_id": "ba4da92dd9fb40d1947ad8134abe5000",
       "version_major": 2,
       "version_minor": 0
      },
      "text/plain": [
       "Text(value='', description='Path to localizations 1', placeholder='Insert path', style=DescriptionStyle(descri…"
      ]
     },
     "metadata": {},
     "output_type": "display_data"
    },
    {
     "data": {
      "application/vnd.jupyter.widget-view+json": {
       "model_id": "62e17739728e427facba4cd220181182",
       "version_major": 2,
       "version_minor": 0
      },
      "text/plain": [
       "Button(description='browse', style=ButtonStyle(), tooltip='browse for file')"
      ]
     },
     "metadata": {},
     "output_type": "display_data"
    },
    {
     "name": "stdout",
     "output_type": "stream",
     "text": [
      "measurement 2\n"
     ]
    },
    {
     "data": {
      "application/vnd.jupyter.widget-view+json": {
       "model_id": "27dd88dd288846d28a0e31b222b1d26d",
       "version_major": 2,
       "version_minor": 0
      },
      "text/plain": [
       "Text(value='', description='Path to movie 2', placeholder='Insert path', style=DescriptionStyle(description_wi…"
      ]
     },
     "metadata": {},
     "output_type": "display_data"
    },
    {
     "data": {
      "application/vnd.jupyter.widget-view+json": {
       "model_id": "7f28b1ce4d2b46689112d21c4120b166",
       "version_major": 2,
       "version_minor": 0
      },
      "text/plain": [
       "Button(description='browse', style=ButtonStyle(), tooltip='browse for file')"
      ]
     },
     "metadata": {},
     "output_type": "display_data"
    },
    {
     "data": {
      "application/vnd.jupyter.widget-view+json": {
       "model_id": "15f5c37b5c08403d9ce78cea40f07233",
       "version_major": 2,
       "version_minor": 0
      },
      "text/plain": [
       "Text(value='', description='Path to localizations 2', placeholder='Insert path', style=DescriptionStyle(descri…"
      ]
     },
     "metadata": {},
     "output_type": "display_data"
    },
    {
     "data": {
      "application/vnd.jupyter.widget-view+json": {
       "model_id": "1a61cddfd7e44d52ba28dede6efe8a55",
       "version_major": 2,
       "version_minor": 0
      },
      "text/plain": [
       "Button(description='browse', style=ButtonStyle(), tooltip='browse for file')"
      ]
     },
     "metadata": {},
     "output_type": "display_data"
    }
   ],
   "source": [
    "n_measurements = 2  # vary the number of measurements here!\n",
    "movie_merge_widgets, loc_merge_widgets = [], []\n",
    "for i in range(1, n_measurements+1):\n",
    "    print(\"measurement\", i)\n",
    "    movie_widget = widgetsAddOns.DefineFiles(\"movie\", title=\"Import *.tif file\", filetype=(\"tif files\", \"*.tif\"), idx=i)\n",
    "    loc_widget = widgetsAddOns.DefineFiles(\"localizations\", title=\"Import *.csv file\", filetype=(\"csv files\", \"*.csv\"), idx=i)\n",
    "    movie_widget.file_button.on_click(movie_widget.open_file)\n",
    "    movie_widget.file_text_box.observe(movie_widget.change_file_path_box)\n",
    "    loc_widget.file_button.on_click(loc_widget.open_file)\n",
    "    loc_widget.file_text_box.observe(loc_widget.change_file_path_box)\n",
    "    movie_merge_widgets.append(movie_widget)\n",
    "    loc_merge_widgets.append(loc_widget)\n",
    "    display(movie_widget.file_text_box, movie_widget.file_button, loc_widget.file_text_box, loc_widget.file_button)"
   ]
  },
  {
   "cell_type": "code",
   "execution_count": 11,
   "metadata": {
    "hidden": true,
    "scrolled": false
   },
   "outputs": [
    {
     "data": {
      "application/vnd.jupyter.widget-view+json": {
       "model_id": "eaeeeab8c6b34338b325ef4e2e21661f",
       "version_major": 2,
       "version_minor": 0
      },
      "text/plain": [
       "Button(description='merge', style=ButtonStyle(), tooltip='merge files')"
      ]
     },
     "metadata": {},
     "output_type": "display_data"
    }
   ],
   "source": [
    "def run(event):\n",
    "    widget_merge_run.create_clear_output()\n",
    "    display(widget_merge_run.run_merge_button)\n",
    "    movie_dirs = [widget.file_text_box.value for widget in movie_merge_widgets if widget.file_text_box.value]\n",
    "    loc_dirs = [widget.file_text_box.value for widget in loc_merge_widgets if widget.file_text_box.value]\n",
    "    data_merge.load_data(movie_dirs, loc_dirs)\n",
    "    shapes = [movie.shape[1:] for movie in data_merge.movies]\n",
    "    if all(x==shapes[0] for x in shapes):\n",
    "        merge.merge(data_merge.movies, data_merge.loc_files)\n",
    "    else:\n",
    "        print(\"All movies must be of equal width and height.\") \n",
    "\n",
    "data_merge = loadAddOns.DataMerge()\n",
    "merge = addOns.Merger()\n",
    "widget_merge_run = widgetsAddOns.RunAnalysis()\n",
    "display(widget_merge_run.run_merge_button)\n",
    "widget_merge_run.run_merge_button.on_click(run)"
   ]
  },
  {
   "cell_type": "code",
   "execution_count": 12,
   "metadata": {
    "hidden": true,
    "scrolled": true
   },
   "outputs": [
    {
     "data": {
      "application/vnd.jupyter.widget-view+json": {
       "model_id": "ecd9f17b48c54ed1b0969d4c18ff5c08",
       "version_major": 2,
       "version_minor": 0
      },
      "text/plain": [
       "Text(value='', description='Filename', placeholder='name of folder', style=DescriptionStyle(description_width=…"
      ]
     },
     "metadata": {},
     "output_type": "display_data"
    },
    {
     "data": {
      "application/vnd.jupyter.widget-view+json": {
       "model_id": "af538d291a9846d781f59275842892fe",
       "version_major": 2,
       "version_minor": 0
      },
      "text/plain": [
       "Text(value='', description='Directory', placeholder='Directory to save', style=DescriptionStyle(description_wi…"
      ]
     },
     "metadata": {},
     "output_type": "display_data"
    },
    {
     "data": {
      "application/vnd.jupyter.widget-view+json": {
       "model_id": "e1e55bbdc7da44a593307bc97e6943ad",
       "version_major": 2,
       "version_minor": 0
      },
      "text/plain": [
       "Button(description='browse', style=ButtonStyle(), tooltip='browse for directory')"
      ]
     },
     "metadata": {},
     "output_type": "display_data"
    }
   ],
   "source": [
    "widget_merge_save = widgetsAddOns.SaveResults()\n",
    "display(widget_merge_save.box_filename, widget_merge_save.dir_box, widget_merge_save.dir_button)\n",
    "widget_merge_save.dir_button.on_click(widget_merge_save.open_dir)\n",
    "widget_merge_save.dir_box.observe(widget_merge_save.change_dir_box)"
   ]
  },
  {
   "cell_type": "code",
   "execution_count": 13,
   "metadata": {
    "hidden": true,
    "scrolled": true
   },
   "outputs": [
    {
     "data": {
      "application/vnd.jupyter.widget-view+json": {
       "model_id": "960d4814f848433588199326a96dd94f",
       "version_major": 2,
       "version_minor": 0
      },
      "text/plain": [
       "Button(description='save', style=ButtonStyle(), tooltip='save the results')"
      ]
     },
     "metadata": {},
     "output_type": "display_data"
    }
   ],
   "source": [
    "display(widget_merge_save.save_button)\n",
    "def save_merge(event):\n",
    "    widget_merge_save.create_clear_output()\n",
    "    display(widget_merge_save.save_button)   \n",
    "    saveAddOns.save_merge_files(widget_merge_save.dir_box.value, widget_merge_save.box_filename.value, merge.merged_movies, merge.merged_locs)\n",
    "widget_merge_save.save_button.on_click(save_merge)"
   ]
  },
  {
   "cell_type": "markdown",
   "metadata": {
    "heading_collapsed": true
   },
   "source": [
    "## Split into single frames"
   ]
  },
  {
   "cell_type": "code",
   "execution_count": 14,
   "metadata": {
    "hidden": true
   },
   "outputs": [
    {
     "data": {
      "application/vnd.jupyter.widget-view+json": {
       "model_id": "762ddbbe367843adbaa59c7cf23797c8",
       "version_major": 2,
       "version_minor": 0
      },
      "text/plain": [
       "Text(value='', description='Path to movie ', placeholder='Insert path', style=DescriptionStyle(description_wid…"
      ]
     },
     "metadata": {},
     "output_type": "display_data"
    },
    {
     "data": {
      "application/vnd.jupyter.widget-view+json": {
       "model_id": "97752bea7e6142e7a0e73a4dcd998123",
       "version_major": 2,
       "version_minor": 0
      },
      "text/plain": [
       "Button(description='browse', style=ButtonStyle(), tooltip='browse for file')"
      ]
     },
     "metadata": {},
     "output_type": "display_data"
    },
    {
     "data": {
      "application/vnd.jupyter.widget-view+json": {
       "model_id": "11fa5bbcf34e4f2da4faefc5d3bec0a8",
       "version_major": 2,
       "version_minor": 0
      },
      "text/plain": [
       "Text(value='', description='Path to localizations ', placeholder='Insert path', style=DescriptionStyle(descrip…"
      ]
     },
     "metadata": {},
     "output_type": "display_data"
    },
    {
     "data": {
      "application/vnd.jupyter.widget-view+json": {
       "model_id": "c7c4653a7fcb4dcaa150b0aed07f98e3",
       "version_major": 2,
       "version_minor": 0
      },
      "text/plain": [
       "Button(description='browse', style=ButtonStyle(), tooltip='browse for file')"
      ]
     },
     "metadata": {},
     "output_type": "display_data"
    }
   ],
   "source": [
    "movie_single_split_widget = widgetsAddOns.DefineFiles(\"movie\", title=\"Import *.tif file\", filetype=(\"tif files\", \"*.tif\"), idx=\"\")\n",
    "loc_single_split_widget = widgetsAddOns.DefineFiles(\"localizations\", title=\"Import *.csv file\", filetype=(\"csv files\", \"*.csv\"), idx=\"\")\n",
    "movie_single_split_widget.file_button.on_click(movie_single_split_widget.open_file)\n",
    "movie_single_split_widget.file_text_box.observe(movie_single_split_widget.change_file_path_box)\n",
    "loc_single_split_widget.file_button.on_click(loc_single_split_widget.open_file)\n",
    "loc_single_split_widget.file_text_box.observe(loc_single_split_widget.change_file_path_box)\n",
    "display(movie_single_split_widget.file_text_box, movie_single_split_widget.file_button, loc_single_split_widget.file_text_box, loc_single_split_widget.file_button)"
   ]
  },
  {
   "cell_type": "code",
   "execution_count": 15,
   "metadata": {
    "hidden": true,
    "scrolled": true
   },
   "outputs": [
    {
     "data": {
      "application/vnd.jupyter.widget-view+json": {
       "model_id": "8e17794c9ef5431db8544834d7d754d7",
       "version_major": 2,
       "version_minor": 0
      },
      "text/plain": [
       "Button(description='split', style=ButtonStyle(), tooltip='split data at every frame')"
      ]
     },
     "metadata": {},
     "output_type": "display_data"
    }
   ],
   "source": [
    "def run_single_split(event):\n",
    "    widget_single_split_run.create_clear_output()\n",
    "    display(widget_single_split_run.run_single_split_button)\n",
    "    data_single_split.load_data(movie_single_split_widget.file_text_box.value, loc_single_split_widget.file_text_box.value)\n",
    "    if len(data_single_split.loc_file[\"frame\"].unique()) != data_single_split.movie.shape[0]:\n",
    "        print(\"Defined movie and localization file differ in length, please make sure that they correspond.\")\n",
    "    else:\n",
    "        single_split.split(data_single_split.movie, data_single_split.loc_file)\n",
    "        \n",
    "data_single_split = loadAddOns.DataSplit()\n",
    "single_split = addOns.SingleSplitter()\n",
    "widget_single_split_run = widgetsAddOns.RunAnalysis()\n",
    "display(widget_single_split_run.run_single_split_button)\n",
    "widget_single_split_run.run_single_split_button.on_click(run_single_split)"
   ]
  },
  {
   "cell_type": "code",
   "execution_count": 16,
   "metadata": {
    "hidden": true
   },
   "outputs": [
    {
     "data": {
      "application/vnd.jupyter.widget-view+json": {
       "model_id": "bc25dd3d020c4199880f5e627c37ba06",
       "version_major": 2,
       "version_minor": 0
      },
      "text/plain": [
       "Text(value='', description='Directory', placeholder='Directory to save', style=DescriptionStyle(description_wi…"
      ]
     },
     "metadata": {},
     "output_type": "display_data"
    },
    {
     "data": {
      "application/vnd.jupyter.widget-view+json": {
       "model_id": "a70efc68e84d428da93274e2bda7542a",
       "version_major": 2,
       "version_minor": 0
      },
      "text/plain": [
       "Button(description='browse', style=ButtonStyle(), tooltip='browse for directory')"
      ]
     },
     "metadata": {},
     "output_type": "display_data"
    }
   ],
   "source": [
    "widget_single_split_save = widgetsAddOns.SaveResults()\n",
    "display(widget_single_split_save.dir_box, widget_single_split_save.dir_button)\n",
    "widget_single_split_save.dir_button.on_click(widget_single_split_save.open_dir)\n",
    "widget_single_split_save.dir_box.observe(widget_single_split_save.change_dir_box)"
   ]
  },
  {
   "cell_type": "code",
   "execution_count": 17,
   "metadata": {
    "hidden": true,
    "scrolled": true
   },
   "outputs": [
    {
     "data": {
      "application/vnd.jupyter.widget-view+json": {
       "model_id": "03ea3715b7f44126b28131a14535090d",
       "version_major": 2,
       "version_minor": 0
      },
      "text/plain": [
       "Button(description='save', style=ButtonStyle(), tooltip='save the results')"
      ]
     },
     "metadata": {},
     "output_type": "display_data"
    }
   ],
   "source": [
    "display(widget_single_split_save.save_button)\n",
    "def save_single_split(event):\n",
    "    widget_single_split_save.create_clear_output()\n",
    "    display(widget_single_split_save.save_button)   \n",
    "    saveAddOns.save_single_split_files(widget_single_split_save.dir_box.value, os.path.splitext(os.path.split(loc_single_split_widget.file_text_box.value)[1])[0], single_split.single_frame_movies, single_split.single_frame_locs)\n",
    "widget_single_split_save.save_button.on_click(save_single_split)"
   ]
  }
 ],
 "metadata": {
  "hide_input": true,
  "kernelspec": {
   "display_name": "Python 3 (ipykernel)",
   "language": "python",
   "name": "python3"
  },
  "language_info": {
   "codemirror_mode": {
    "name": "ipython",
    "version": 3
   },
   "file_extension": ".py",
   "mimetype": "text/x-python",
   "name": "python",
   "nbconvert_exporter": "python",
   "pygments_lexer": "ipython3",
   "version": "3.7.11"
  }
 },
 "nbformat": 4,
 "nbformat_minor": 2
}
