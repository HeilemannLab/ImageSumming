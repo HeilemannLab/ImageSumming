{
 "cells": [
  {
   "cell_type": "markdown",
   "metadata": {},
   "source": [
    "# DeepSTORM2D Add Ons\n",
    "(1) Convert Picasso csv file to DeepSTORM2D csv format <br/>\n",
    "*Input file:* Picasso localization file csv, header = frame, x [nm], y [nm], sigma [nm], intensity [photon], offset [photon], bkgstd [photon], uncertainty_xy [nm]. <br/>\n",
    "*Output file:* DeepSTORM2D file csv, header = ,frame,x [nm],y [nm],Photon #,Sigma [nm]; frame idx starts at 1. <br/>\n",
    "\n",
    "(2) Convert Picasso hdf5 file to DeepSTORM2D csv format <br/>\n",
    "*Input file:* Picasso localization file hdf5, header = frame, x, y, photons, sx, sy, bg, lpx, lpy, ellipticity, net_gradient.  <br/>\n",
    "*Output file:* DeepSTORM2D file csv, header = ,frame,x [nm],y [nm],Photon #,Sigma [nm]; frame idx starts at 1. <br/>\n",
    "\n",
    "(3) Split tif movie & corresponding localization file at defined frame <br/>\n",
    "*Input file:* Tif movie & csv file (Picasso or DeepSTORM2D format). <br/>\n",
    "*Parameter split at frame:* Number of frames of the first file. <br/>\n",
    "*Output file:* Two tif movies & csv files, split at defined frame. <br/>\n",
    "\n",
    "(4) Merge multiple movies & localization files <br/>\n",
    "*Input files:* Define multiple paths to movies and their localization files, adjust the number of files by deactivating \"hide codecell\" and adjusting the variable \"n_measurements\". Picasso or DeepSTORM2D csv formats are possible, but no mixing. <br/>\n",
    "*Output file:* Tif movie with frames of movies stacked and localization file with continous frame numbering. <br/>\n",
    "\n",
    "(5) Split into single frames <br/>\n",
    "*Input file:* Tif movie & csv file  (Picasso or DeepSTORM2D format). <br/>\n",
    "*Output files:* Single frames of tif movies with corresponding csv file saved in defined directory. <br/>\n",
    "\n",
    "(6) Sum frames to create high density movie <br/>\n",
    "*Input file:* Tif movie. <br/>\n",
    "*Parameter camera offset:* Camera offset in px intensitiy. The n summed frames are corrected for multiple camera offsets by subtracting the value n-1 times. <br/>\n",
    "*Parameter number of summing frames:* Define how many frames should be summed to create a high density frame. <br/>\n",
    "*Output files:* Summed frames, each frame corresponds to a high density frame, containing summed information from n frames. \\\\  <br/>"
   ]
  },
  {
   "cell_type": "code",
   "execution_count": 1,
   "metadata": {},
   "outputs": [],
   "source": [
    "from ImageBinner.widgets import widgetsAddOns, loadAddOns\n",
    "from ImageBinner.tools import addOns\n",
    "from ImageBinner.save import saveAddOns\n",
    "import os\n",
    "import warnings\n",
    "warnings.filterwarnings(\"ignore\")"
   ]
  },
  {
   "cell_type": "markdown",
   "metadata": {},
   "source": [
    "## Convert localization file Picasso csv &rarr; DeepSTORM2D format"
   ]
  },
  {
   "cell_type": "markdown",
   "metadata": {},
   "source": [
    "### Load"
   ]
  },
  {
   "cell_type": "code",
   "execution_count": 2,
   "metadata": {},
   "outputs": [
    {
     "data": {
      "application/vnd.jupyter.widget-view+json": {
       "model_id": "42aedccc8ee04a9a827920f45ee5a3fe",
       "version_major": 2,
       "version_minor": 0
      },
      "text/plain": [
       "Text(value='', description='Path to localizations ', placeholder='Insert path', style=TextStyle(description_wi…"
      ]
     },
     "metadata": {},
     "output_type": "display_data"
    },
    {
     "data": {
      "application/vnd.jupyter.widget-view+json": {
       "model_id": "a28689e5a020438a92d83e11b2bfe15b",
       "version_major": 2,
       "version_minor": 0
      },
      "text/plain": [
       "Button(description='browse', style=ButtonStyle(), tooltip='browse for file')"
      ]
     },
     "metadata": {},
     "output_type": "display_data"
    }
   ],
   "source": [
    "loc_conv_widget = widgetsAddOns.DefineFiles(\"localizations\", title=\"Import *.csv file\", filetype=(\"csv files\", \"*.csv\"), idx=\"\")\n",
    "loc_conv_widget.file_button.on_click(loc_conv_widget.open_file)\n",
    "loc_conv_widget.file_text_box.observe(loc_conv_widget.change_file_path_box)\n",
    "display(loc_conv_widget.file_text_box, loc_conv_widget.file_button)"
   ]
  },
  {
   "cell_type": "markdown",
   "metadata": {},
   "source": [
    "### Convert & Save"
   ]
  },
  {
   "cell_type": "code",
   "execution_count": 3,
   "metadata": {},
   "outputs": [
    {
     "data": {
      "application/vnd.jupyter.widget-view+json": {
       "model_id": "85c9841d2c284a45908923f98f865f75",
       "version_major": 2,
       "version_minor": 0
      },
      "text/plain": [
       "Button(description='convert & save', style=ButtonStyle(), tooltip='convert localization file')"
      ]
     },
     "metadata": {},
     "output_type": "display_data"
    }
   ],
   "source": [
    "def run(event):\n",
    "    widget_run.create_clear_output()\n",
    "    display(widget_run.run_button)\n",
    "    if (loc_conv_widget.file_text_box.value):\n",
    "        converter.convert(loc_conv_widget.file_text_box.value)\n",
    "        display(converter.converted_file)\n",
    "        saveAddOns.save_convert_file(loc_conv_widget.file_text_box.value, converter.converted_file)\n",
    "    else:\n",
    "        print(\"Please define a file to convert in the loading section.\")\n",
    "        \n",
    "converter = addOns.Converter()\n",
    "widget_run = widgetsAddOns.RunAnalysis(\"convert & save\", \"convert localization file\")\n",
    "display(widget_run.run_button)\n",
    "widget_run.run_button.on_click(run)"
   ]
  },
  {
   "cell_type": "markdown",
   "metadata": {},
   "source": [
    "## Convert localization file Picasso hdf5 &rarr; DeepSTORM2D format"
   ]
  },
  {
   "cell_type": "markdown",
   "metadata": {},
   "source": [
    "### Load"
   ]
  },
  {
   "cell_type": "code",
   "execution_count": 4,
   "metadata": {},
   "outputs": [
    {
     "data": {
      "application/vnd.jupyter.widget-view+json": {
       "model_id": "e116b11a252548f3ae75d309e4dfa5c5",
       "version_major": 2,
       "version_minor": 0
      },
      "text/plain": [
       "Text(value='', description='Path to localizations ', placeholder='Insert path', style=TextStyle(description_wi…"
      ]
     },
     "metadata": {},
     "output_type": "display_data"
    },
    {
     "data": {
      "application/vnd.jupyter.widget-view+json": {
       "model_id": "051b52e722934de4b8d880faccd0e652",
       "version_major": 2,
       "version_minor": 0
      },
      "text/plain": [
       "Button(description='browse', style=ButtonStyle(), tooltip='browse for file')"
      ]
     },
     "metadata": {},
     "output_type": "display_data"
    }
   ],
   "source": [
    "loc_conv_widget_h5 = widgetsAddOns.DefineFiles(\"localizations\", title=\"Import *.hdf5 file\", filetype=(\"hdf5 files\", \"*.hdf5\"), idx=\"\")\n",
    "loc_conv_widget_h5.file_button.on_click(loc_conv_widget_h5.open_file)\n",
    "loc_conv_widget_h5.file_text_box.observe(loc_conv_widget_h5.change_file_path_box)\n",
    "display(loc_conv_widget_h5.file_text_box, loc_conv_widget_h5.file_button)"
   ]
  },
  {
   "cell_type": "markdown",
   "metadata": {},
   "source": [
    "### Convert & Save"
   ]
  },
  {
   "cell_type": "code",
   "execution_count": 5,
   "metadata": {},
   "outputs": [
    {
     "data": {
      "application/vnd.jupyter.widget-view+json": {
       "model_id": "69de232fd5d345c38ed032fcf339c3db",
       "version_major": 2,
       "version_minor": 0
      },
      "text/plain": [
       "Button(description='convert & save', style=ButtonStyle(), tooltip='convert localization file')"
      ]
     },
     "metadata": {},
     "output_type": "display_data"
    }
   ],
   "source": [
    "def run(event):\n",
    "    widget_run_h5.create_clear_output()\n",
    "    display(widget_run_h5.run_button)\n",
    "    if (loc_conv_widget_h5.file_text_box.value):\n",
    "        converter_h5.convert(loc_conv_widget_h5.file_text_box.value)\n",
    "        display(converter_h5.converted_file)\n",
    "        saveAddOns.save_convert_file(loc_conv_widget_h5.file_text_box.value, converter_h5.converted_file)\n",
    "    else:\n",
    "        print(\"Please define a file to convert in the loading section.\")\n",
    "        \n",
    "converter_h5 = addOns.ConverterH5()\n",
    "widget_run_h5 = widgetsAddOns.RunAnalysis(\"convert & save\", \"convert localization file\")\n",
    "display(widget_run_h5.run_button)\n",
    "widget_run_h5.run_button.on_click(run)"
   ]
  },
  {
   "cell_type": "markdown",
   "metadata": {},
   "source": [
    "### Save"
   ]
  },
  {
   "cell_type": "markdown",
   "metadata": {},
   "source": [
    "## Split movie & localization file at defined frame"
   ]
  },
  {
   "cell_type": "markdown",
   "metadata": {},
   "source": [
    "### Load"
   ]
  },
  {
   "cell_type": "code",
   "execution_count": 6,
   "metadata": {},
   "outputs": [
    {
     "data": {
      "application/vnd.jupyter.widget-view+json": {
       "model_id": "e055b8518d0e47249ebfeb638ca58144",
       "version_major": 2,
       "version_minor": 0
      },
      "text/plain": [
       "Text(value='', description='Path to movie ', placeholder='Insert path', style=TextStyle(description_width='ini…"
      ]
     },
     "metadata": {},
     "output_type": "display_data"
    },
    {
     "data": {
      "application/vnd.jupyter.widget-view+json": {
       "model_id": "e8df0539a6a4480fbb92133afdf7cb49",
       "version_major": 2,
       "version_minor": 0
      },
      "text/plain": [
       "Button(description='browse', style=ButtonStyle(), tooltip='browse for file')"
      ]
     },
     "metadata": {},
     "output_type": "display_data"
    },
    {
     "data": {
      "application/vnd.jupyter.widget-view+json": {
       "model_id": "faca0e679a3a4f52b10a1f6e932b5ed9",
       "version_major": 2,
       "version_minor": 0
      },
      "text/plain": [
       "Text(value='', description='Path to localizations ', placeholder='Insert path', style=TextStyle(description_wi…"
      ]
     },
     "metadata": {},
     "output_type": "display_data"
    },
    {
     "data": {
      "application/vnd.jupyter.widget-view+json": {
       "model_id": "af4ddd74f03f4728bc2e2f5a8d0100be",
       "version_major": 2,
       "version_minor": 0
      },
      "text/plain": [
       "Button(description='browse', style=ButtonStyle(), tooltip='browse for file')"
      ]
     },
     "metadata": {},
     "output_type": "display_data"
    }
   ],
   "source": [
    "movie_split_widget = widgetsAddOns.DefineFiles(\"movie\", title=\"Import *.tif file\", filetype=(\"tif files\", \"*.tif\"), idx=\"\")\n",
    "loc_split_widget = widgetsAddOns.DefineFiles(\"localizations\", title=\"Import *.csv file\", filetype=(\"csv files\", \"*.csv\"), idx=\"\")\n",
    "movie_split_widget.file_button.on_click(movie_split_widget.open_file)\n",
    "movie_split_widget.file_text_box.observe(movie_split_widget.change_file_path_box)\n",
    "loc_split_widget.file_button.on_click(loc_split_widget.open_file)\n",
    "loc_split_widget.file_text_box.observe(loc_split_widget.change_file_path_box)\n",
    "display(movie_split_widget.file_text_box, movie_split_widget.file_button, loc_split_widget.file_text_box, loc_split_widget.file_button)"
   ]
  },
  {
   "cell_type": "markdown",
   "metadata": {},
   "source": [
    "### Parameters"
   ]
  },
  {
   "cell_type": "code",
   "execution_count": 7,
   "metadata": {},
   "outputs": [
    {
     "data": {
      "application/vnd.jupyter.widget-view+json": {
       "model_id": "dac0290f1a504e27b7d2bf6904fcf695",
       "version_major": 2,
       "version_minor": 0
      },
      "text/plain": [
       "Text(value='', description='Split at frame', placeholder='Insert frame idx', style=TextStyle(description_width…"
      ]
     },
     "metadata": {},
     "output_type": "display_data"
    }
   ],
   "source": [
    "widget_split_params = widgetsAddOns.ParameterBox(\"Split at frame\", \"Insert frame idx\")\n",
    "display(widget_split_params.value_box)"
   ]
  },
  {
   "cell_type": "markdown",
   "metadata": {},
   "source": [
    "### Split"
   ]
  },
  {
   "cell_type": "code",
   "execution_count": 8,
   "metadata": {
    "scrolled": false
   },
   "outputs": [
    {
     "data": {
      "application/vnd.jupyter.widget-view+json": {
       "model_id": "d8ca8fb70e9841dcac9e3412e2e04d9d",
       "version_major": 2,
       "version_minor": 0
      },
      "text/plain": [
       "Button(description='split', style=ButtonStyle(), tooltip='split data at frame')"
      ]
     },
     "metadata": {},
     "output_type": "display_data"
    }
   ],
   "source": [
    "def run(event):\n",
    "    widget_split_run.create_clear_output()\n",
    "    display(widget_split_run.run_button)\n",
    "    data_split.load_data(movie_split_widget.file_text_box.value, loc_split_widget.file_text_box.value)\n",
    "    if len(data_split.loc_file[\"frame\"].unique()) != data_split.movie.shape[0]:\n",
    "        print(\"Defined movie and localization file differ in length, please make sure that they correspond.\")\n",
    "    else:\n",
    "        split.split(data_split.movie, data_split.loc_file, int(widget_split_params.value_box.value))\n",
    "data_split = loadAddOns.DataSplit()\n",
    "split = addOns.Splitter()\n",
    "widget_split_run = widgetsAddOns.RunAnalysis(\"split\", \"split data at frame\")\n",
    "display(widget_split_run.run_button)\n",
    "widget_split_run.run_button.on_click(run)"
   ]
  },
  {
   "cell_type": "markdown",
   "metadata": {},
   "source": [
    "### Save"
   ]
  },
  {
   "cell_type": "code",
   "execution_count": 9,
   "metadata": {
    "scrolled": false
   },
   "outputs": [
    {
     "data": {
      "application/vnd.jupyter.widget-view+json": {
       "model_id": "09db73f1fdc142898596647607582a49",
       "version_major": 2,
       "version_minor": 0
      },
      "text/plain": [
       "Button(description='save', style=ButtonStyle(), tooltip='save the results')"
      ]
     },
     "metadata": {},
     "output_type": "display_data"
    }
   ],
   "source": [
    "def save_analysis(event):\n",
    "    widget_split_save.create_clear_output()\n",
    "    display(widget_split_save.save_button)\n",
    "    saveAddOns.save_split_files(movie_split_widget.file_text_box.value, loc_split_widget.file_text_box.value, split.split_movies, split.split_locs, int(widget_split_params.value_box.value))\n",
    "\n",
    "widget_split_save = widgetsAddOns.SaveResults()\n",
    "display(widget_split_save.save_button)\n",
    "widget_split_save.save_button.on_click(save_analysis)"
   ]
  },
  {
   "cell_type": "markdown",
   "metadata": {},
   "source": [
    "## Merge multiple movies & localization files"
   ]
  },
  {
   "cell_type": "code",
   "execution_count": 10,
   "metadata": {},
   "outputs": [
    {
     "name": "stdout",
     "output_type": "stream",
     "text": [
      "measurement 1\n"
     ]
    },
    {
     "data": {
      "application/vnd.jupyter.widget-view+json": {
       "model_id": "894b0dd9acc7481499f662e7908bb7d3",
       "version_major": 2,
       "version_minor": 0
      },
      "text/plain": [
       "Text(value='', description='Path to movie 1', placeholder='Insert path', style=TextStyle(description_width='in…"
      ]
     },
     "metadata": {},
     "output_type": "display_data"
    },
    {
     "data": {
      "application/vnd.jupyter.widget-view+json": {
       "model_id": "44f91f8316f040d6a3fc534efa12479e",
       "version_major": 2,
       "version_minor": 0
      },
      "text/plain": [
       "Button(description='browse', style=ButtonStyle(), tooltip='browse for file')"
      ]
     },
     "metadata": {},
     "output_type": "display_data"
    },
    {
     "data": {
      "application/vnd.jupyter.widget-view+json": {
       "model_id": "9d1d11acdf014175a1f554cb54118daf",
       "version_major": 2,
       "version_minor": 0
      },
      "text/plain": [
       "Text(value='', description='Path to localizations 1', placeholder='Insert path', style=TextStyle(description_w…"
      ]
     },
     "metadata": {},
     "output_type": "display_data"
    },
    {
     "data": {
      "application/vnd.jupyter.widget-view+json": {
       "model_id": "2a226bbac8434621a95b3229c0886569",
       "version_major": 2,
       "version_minor": 0
      },
      "text/plain": [
       "Button(description='browse', style=ButtonStyle(), tooltip='browse for file')"
      ]
     },
     "metadata": {},
     "output_type": "display_data"
    },
    {
     "name": "stdout",
     "output_type": "stream",
     "text": [
      "measurement 2\n"
     ]
    },
    {
     "data": {
      "application/vnd.jupyter.widget-view+json": {
       "model_id": "21b399ea229645d2bbae3a08f67d866a",
       "version_major": 2,
       "version_minor": 0
      },
      "text/plain": [
       "Text(value='', description='Path to movie 2', placeholder='Insert path', style=TextStyle(description_width='in…"
      ]
     },
     "metadata": {},
     "output_type": "display_data"
    },
    {
     "data": {
      "application/vnd.jupyter.widget-view+json": {
       "model_id": "0515f8cf188b4f578ff7f3c2659385cf",
       "version_major": 2,
       "version_minor": 0
      },
      "text/plain": [
       "Button(description='browse', style=ButtonStyle(), tooltip='browse for file')"
      ]
     },
     "metadata": {},
     "output_type": "display_data"
    },
    {
     "data": {
      "application/vnd.jupyter.widget-view+json": {
       "model_id": "89233f13ac4f46f2a1029b0cf4c68d80",
       "version_major": 2,
       "version_minor": 0
      },
      "text/plain": [
       "Text(value='', description='Path to localizations 2', placeholder='Insert path', style=TextStyle(description_w…"
      ]
     },
     "metadata": {},
     "output_type": "display_data"
    },
    {
     "data": {
      "application/vnd.jupyter.widget-view+json": {
       "model_id": "dd64514c10f64dd3b8e02f2fcb7e2833",
       "version_major": 2,
       "version_minor": 0
      },
      "text/plain": [
       "Button(description='browse', style=ButtonStyle(), tooltip='browse for file')"
      ]
     },
     "metadata": {},
     "output_type": "display_data"
    }
   ],
   "source": [
    "n_measurements = 2  # vary the number of measurements here!\n",
    "movie_merge_widgets, loc_merge_widgets = [], []\n",
    "for i in range(1, n_measurements+1):\n",
    "    print(\"measurement\", i)\n",
    "    movie_widget = widgetsAddOns.DefineFiles(\"movie\", title=\"Import *.tif file\", filetype=(\"tif files\", \"*.tif\"), idx=i)\n",
    "    loc_widget = widgetsAddOns.DefineFiles(\"localizations\", title=\"Import *.csv file\", filetype=(\"csv files\", \"*.csv\"), idx=i)\n",
    "    movie_widget.file_button.on_click(movie_widget.open_file)\n",
    "    movie_widget.file_text_box.observe(movie_widget.change_file_path_box)\n",
    "    loc_widget.file_button.on_click(loc_widget.open_file)\n",
    "    loc_widget.file_text_box.observe(loc_widget.change_file_path_box)\n",
    "    movie_merge_widgets.append(movie_widget)\n",
    "    loc_merge_widgets.append(loc_widget)\n",
    "    display(movie_widget.file_text_box, movie_widget.file_button, loc_widget.file_text_box, loc_widget.file_button)"
   ]
  },
  {
   "cell_type": "code",
   "execution_count": 11,
   "metadata": {
    "scrolled": false
   },
   "outputs": [
    {
     "data": {
      "application/vnd.jupyter.widget-view+json": {
       "model_id": "a548cf4b2089465c966daf0234d3904b",
       "version_major": 2,
       "version_minor": 0
      },
      "text/plain": [
       "Button(description='merge', style=ButtonStyle(), tooltip='merge files')"
      ]
     },
     "metadata": {},
     "output_type": "display_data"
    }
   ],
   "source": [
    "def run(event):\n",
    "    widget_merge_run.create_clear_output()\n",
    "    display(widget_merge_run.run_button)\n",
    "    movie_dirs = [widget.file_text_box.value for widget in movie_merge_widgets if widget.file_text_box.value]\n",
    "    loc_dirs = [widget.file_text_box.value for widget in loc_merge_widgets if widget.file_text_box.value]\n",
    "    data_merge.load_data(movie_dirs, loc_dirs)\n",
    "    shapes = [movie.shape[1:] for movie in data_merge.movies]\n",
    "    if all(x==shapes[0] for x in shapes):\n",
    "        merge.merge(data_merge.movies, data_merge.loc_files)\n",
    "    else:\n",
    "        print(\"All movies must be of equal width and height.\") \n",
    "\n",
    "data_merge = loadAddOns.DataMerge()\n",
    "merge = addOns.Merger()\n",
    "widget_merge_run = widgetsAddOns.RunAnalysis(\"merge\", \"merge files\")\n",
    "display(widget_merge_run.run_button)\n",
    "widget_merge_run.run_button.on_click(run)"
   ]
  },
  {
   "cell_type": "code",
   "execution_count": 12,
   "metadata": {
    "scrolled": true
   },
   "outputs": [
    {
     "data": {
      "application/vnd.jupyter.widget-view+json": {
       "model_id": "e4534ca76fb0414e9e2617e11150a007",
       "version_major": 2,
       "version_minor": 0
      },
      "text/plain": [
       "Text(value='', description='Filename', placeholder='name of folder', style=TextStyle(description_width='initia…"
      ]
     },
     "metadata": {},
     "output_type": "display_data"
    },
    {
     "data": {
      "application/vnd.jupyter.widget-view+json": {
       "model_id": "91184982246f488d8abb4a4198712106",
       "version_major": 2,
       "version_minor": 0
      },
      "text/plain": [
       "Text(value='', description='Directory', placeholder='Directory to save', style=TextStyle(description_width='in…"
      ]
     },
     "metadata": {},
     "output_type": "display_data"
    },
    {
     "data": {
      "application/vnd.jupyter.widget-view+json": {
       "model_id": "f68bd497e41e4102bbe81ce134c4a3e5",
       "version_major": 2,
       "version_minor": 0
      },
      "text/plain": [
       "Button(description='browse', style=ButtonStyle(), tooltip='browse for directory')"
      ]
     },
     "metadata": {},
     "output_type": "display_data"
    }
   ],
   "source": [
    "widget_merge_save = widgetsAddOns.SaveResults()\n",
    "display(widget_merge_save.box_filename, widget_merge_save.dir_box, widget_merge_save.dir_button)\n",
    "widget_merge_save.dir_button.on_click(widget_merge_save.open_dir)\n",
    "widget_merge_save.dir_box.observe(widget_merge_save.change_dir_box)"
   ]
  },
  {
   "cell_type": "code",
   "execution_count": 13,
   "metadata": {
    "scrolled": true
   },
   "outputs": [
    {
     "data": {
      "application/vnd.jupyter.widget-view+json": {
       "model_id": "19e8d40b7f9948c18f697b7ec7992376",
       "version_major": 2,
       "version_minor": 0
      },
      "text/plain": [
       "Button(description='save', style=ButtonStyle(), tooltip='save the results')"
      ]
     },
     "metadata": {},
     "output_type": "display_data"
    }
   ],
   "source": [
    "display(widget_merge_save.save_button)\n",
    "def save_merge(event):\n",
    "    widget_merge_save.create_clear_output()\n",
    "    display(widget_merge_save.save_button)   \n",
    "    saveAddOns.save_merge_files(widget_merge_save.dir_box.value, widget_merge_save.box_filename.value, merge.merged_movies, merge.merged_locs)\n",
    "widget_merge_save.save_button.on_click(save_merge)"
   ]
  },
  {
   "cell_type": "markdown",
   "metadata": {},
   "source": [
    "## Split into single frames"
   ]
  },
  {
   "cell_type": "code",
   "execution_count": 14,
   "metadata": {},
   "outputs": [
    {
     "data": {
      "application/vnd.jupyter.widget-view+json": {
       "model_id": "3e07d399d5c74ccea7a3849d702c7304",
       "version_major": 2,
       "version_minor": 0
      },
      "text/plain": [
       "Text(value='', description='Path to movie ', placeholder='Insert path', style=TextStyle(description_width='ini…"
      ]
     },
     "metadata": {},
     "output_type": "display_data"
    },
    {
     "data": {
      "application/vnd.jupyter.widget-view+json": {
       "model_id": "fa02a3f38f33420ba08fb8d1486804c2",
       "version_major": 2,
       "version_minor": 0
      },
      "text/plain": [
       "Button(description='browse', style=ButtonStyle(), tooltip='browse for file')"
      ]
     },
     "metadata": {},
     "output_type": "display_data"
    },
    {
     "data": {
      "application/vnd.jupyter.widget-view+json": {
       "model_id": "ac2e32ea3388447a96c8ab3115738a32",
       "version_major": 2,
       "version_minor": 0
      },
      "text/plain": [
       "Text(value='', description='Path to localizations ', placeholder='Insert path', style=TextStyle(description_wi…"
      ]
     },
     "metadata": {},
     "output_type": "display_data"
    },
    {
     "data": {
      "application/vnd.jupyter.widget-view+json": {
       "model_id": "d5754e04c3d540a8aaf2ec678c8cba07",
       "version_major": 2,
       "version_minor": 0
      },
      "text/plain": [
       "Button(description='browse', style=ButtonStyle(), tooltip='browse for file')"
      ]
     },
     "metadata": {},
     "output_type": "display_data"
    }
   ],
   "source": [
    "movie_single_split_widget = widgetsAddOns.DefineFiles(\"movie\", title=\"Import *.tif file\", filetype=(\"tif files\", \"*.tif\"), idx=\"\")\n",
    "loc_single_split_widget = widgetsAddOns.DefineFiles(\"localizations\", title=\"Import *.csv file\", filetype=(\"csv files\", \"*.csv\"), idx=\"\")\n",
    "movie_single_split_widget.file_button.on_click(movie_single_split_widget.open_file)\n",
    "movie_single_split_widget.file_text_box.observe(movie_single_split_widget.change_file_path_box)\n",
    "loc_single_split_widget.file_button.on_click(loc_single_split_widget.open_file)\n",
    "loc_single_split_widget.file_text_box.observe(loc_single_split_widget.change_file_path_box)\n",
    "display(movie_single_split_widget.file_text_box, movie_single_split_widget.file_button, loc_single_split_widget.file_text_box, loc_single_split_widget.file_button)"
   ]
  },
  {
   "cell_type": "code",
   "execution_count": 15,
   "metadata": {
    "scrolled": true
   },
   "outputs": [
    {
     "data": {
      "application/vnd.jupyter.widget-view+json": {
       "model_id": "078e2baa4b7b4f1785d86086d96083d3",
       "version_major": 2,
       "version_minor": 0
      },
      "text/plain": [
       "Button(description='split', style=ButtonStyle(), tooltip='split data at every frame')"
      ]
     },
     "metadata": {},
     "output_type": "display_data"
    }
   ],
   "source": [
    "def run_single_split(event):\n",
    "    widget_single_split_run.create_clear_output()\n",
    "    display(widget_single_split_run.run_button)\n",
    "    data_single_split.load_data(movie_single_split_widget.file_text_box.value, loc_single_split_widget.file_text_box.value)\n",
    "    if len(data_single_split.loc_file[\"frame\"].unique()) != data_single_split.movie.shape[0]:\n",
    "        print(\"Defined movie and localization file differ in length, please make sure that they correspond.\")\n",
    "    else:\n",
    "        single_split.split(data_single_split.movie, data_single_split.loc_file)\n",
    "        \n",
    "data_single_split = loadAddOns.DataSplit()\n",
    "single_split = addOns.SingleSplitter()\n",
    "widget_single_split_run = widgetsAddOns.RunAnalysis(\"split\", \"split data at every frame\")\n",
    "display(widget_single_split_run.run_button)\n",
    "widget_single_split_run.run_button.on_click(run_single_split)"
   ]
  },
  {
   "cell_type": "code",
   "execution_count": 16,
   "metadata": {},
   "outputs": [
    {
     "data": {
      "application/vnd.jupyter.widget-view+json": {
       "model_id": "93c568c4c48e46e1811582de7a273a6e",
       "version_major": 2,
       "version_minor": 0
      },
      "text/plain": [
       "Text(value='', description='Directory', placeholder='Directory to save', style=TextStyle(description_width='in…"
      ]
     },
     "metadata": {},
     "output_type": "display_data"
    },
    {
     "data": {
      "application/vnd.jupyter.widget-view+json": {
       "model_id": "f1e3230805a24101895eb5f7fab920ac",
       "version_major": 2,
       "version_minor": 0
      },
      "text/plain": [
       "Button(description='browse', style=ButtonStyle(), tooltip='browse for directory')"
      ]
     },
     "metadata": {},
     "output_type": "display_data"
    }
   ],
   "source": [
    "widget_single_split_save = widgetsAddOns.SaveResults()\n",
    "display(widget_single_split_save.dir_box, widget_single_split_save.dir_button)\n",
    "widget_single_split_save.dir_button.on_click(widget_single_split_save.open_dir)\n",
    "widget_single_split_save.dir_box.observe(widget_single_split_save.change_dir_box)"
   ]
  },
  {
   "cell_type": "code",
   "execution_count": 17,
   "metadata": {
    "scrolled": true
   },
   "outputs": [
    {
     "data": {
      "application/vnd.jupyter.widget-view+json": {
       "model_id": "6beab009746542d881c89f1b4dd53bce",
       "version_major": 2,
       "version_minor": 0
      },
      "text/plain": [
       "Button(description='save', style=ButtonStyle(), tooltip='save the results')"
      ]
     },
     "metadata": {},
     "output_type": "display_data"
    }
   ],
   "source": [
    "display(widget_single_split_save.save_button)\n",
    "def save_single_split(event):\n",
    "    widget_single_split_save.create_clear_output()\n",
    "    display(widget_single_split_save.save_button)   \n",
    "    saveAddOns.save_single_split_files(widget_single_split_save.dir_box.value, os.path.splitext(os.path.split(loc_single_split_widget.file_text_box.value)[1])[0], single_split.single_frame_movies, single_split.single_frame_locs)\n",
    "widget_single_split_save.save_button.on_click(save_single_split)"
   ]
  },
  {
   "cell_type": "markdown",
   "metadata": {},
   "source": [
    "## Sum frames to create high density movie"
   ]
  },
  {
   "cell_type": "markdown",
   "metadata": {},
   "source": [
    "### Load"
   ]
  },
  {
   "cell_type": "code",
   "execution_count": 18,
   "metadata": {},
   "outputs": [
    {
     "data": {
      "application/vnd.jupyter.widget-view+json": {
       "model_id": "34da269dd3a74cefa59829d7e3c1e453",
       "version_major": 2,
       "version_minor": 0
      },
      "text/plain": [
       "Text(value='', description='Path to tif movie ', placeholder='Insert path', style=TextStyle(description_width=…"
      ]
     },
     "metadata": {},
     "output_type": "display_data"
    },
    {
     "data": {
      "application/vnd.jupyter.widget-view+json": {
       "model_id": "3a6c19d85f0a4b9e8ce2b1fe8ffa332d",
       "version_major": 2,
       "version_minor": 0
      },
      "text/plain": [
       "Button(description='browse', style=ButtonStyle(), tooltip='browse for file')"
      ]
     },
     "metadata": {},
     "output_type": "display_data"
    }
   ],
   "source": [
    "widget_load_sum = widgetsAddOns.DefineFiles(\"tif movie\", title=\"Import *.tif file\", filetype=(\"tif files\", \"*.tif\"), idx=\"\")\n",
    "widget_load_sum.file_button.on_click(widget_load_sum.open_file)\n",
    "widget_load_sum.file_text_box.observe(widget_load_sum.change_file_path_box)\n",
    "display(widget_load_sum.file_text_box, widget_load_sum.file_button)"
   ]
  },
  {
   "cell_type": "markdown",
   "metadata": {},
   "source": [
    "### Parameter\n",
    "*Camera offset:* Camera offset in px intensitiy. The n summed frames are corrected for multiple camera offsets by subtracting the value n-1 times.\n",
    "*Number of summing frames:* Define how many frames should be summed to create a high density frame. "
   ]
  },
  {
   "cell_type": "code",
   "execution_count": 19,
   "metadata": {},
   "outputs": [
    {
     "data": {
      "application/vnd.jupyter.widget-view+json": {
       "model_id": "a8a41cac6bc843d1a08156a41560e773",
       "version_major": 2,
       "version_minor": 0
      },
      "text/plain": [
       "Text(value='', description='Camera offset [px intensity]', placeholder='Insert value', style=TextStyle(descrip…"
      ]
     },
     "metadata": {},
     "output_type": "display_data"
    },
    {
     "data": {
      "application/vnd.jupyter.widget-view+json": {
       "model_id": "782c852c6e73470d84f44dbe9dc791c6",
       "version_major": 2,
       "version_minor": 0
      },
      "text/plain": [
       "Text(value='', description='Number of frames to sum together', placeholder='Insert value', style=TextStyle(des…"
      ]
     },
     "metadata": {},
     "output_type": "display_data"
    }
   ],
   "source": [
    "widget_sum_params_camera = widgetsAddOns.ParameterBox(\"Camera offset [px intensity]\", \"Insert value\")\n",
    "widget_sum_params_sum = widgetsAddOns.ParameterBox(\"Number of frames to sum together\", \"Insert value\")\n",
    "display(widget_sum_params_camera.value_box)\n",
    "display(widget_sum_params_sum.value_box)"
   ]
  },
  {
   "cell_type": "markdown",
   "metadata": {},
   "source": [
    "### Save"
   ]
  },
  {
   "cell_type": "code",
   "execution_count": 20,
   "metadata": {
    "scrolled": false
   },
   "outputs": [
    {
     "data": {
      "application/vnd.jupyter.widget-view+json": {
       "model_id": "a123ab39a8624061bcc36f4e526e1c5d",
       "version_major": 2,
       "version_minor": 0
      },
      "text/plain": [
       "Button(description='sum & save', style=ButtonStyle(), tooltip='sum frames to one')"
      ]
     },
     "metadata": {},
     "output_type": "display_data"
    }
   ],
   "source": [
    "def run(event):\n",
    "    widget_sum_run.create_clear_output()\n",
    "    display(widget_sum_run.run_button)\n",
    "    if (widget_load_sum.file_text_box.value):\n",
    "        movie = loader_sum.load_movie(widget_load_sum.file_text_box.value)\n",
    "        summer.sum_movie(loader_sum.movie, int(widget_sum_params_sum.value_box.value), int(widget_sum_params_camera.value_box.value))\n",
    "        save_path = os.path.splitext(widget_load_sum.file_text_box.value)[0] + \"_n_sum\" + widget_sum_params_sum.value_box.value + \"_offset\" + widget_sum_params_camera.value_box.value + \".tif\"\n",
    "        saveAddOns.save_sum_frames(save_path, summer.summed_frames)\n",
    "    else:\n",
    "        print(\"Please define a file in the loading section.\")\n",
    "\n",
    "loader_sum = loadAddOns.SumFrames()\n",
    "summer = addOns.SumFrames()\n",
    "widget_sum_run = widgetsAddOns.RunAnalysis(\"sum & save\", \"sum frames to one\")\n",
    "display(widget_sum_run.run_button)\n",
    "widget_sum_run.run_button.on_click(run)"
   ]
  }
 ],
 "metadata": {
  "hide_input": true,
  "kernelspec": {
   "display_name": "Python 3 (ipykernel)",
   "language": "python",
   "name": "python3"
  },
  "language_info": {
   "codemirror_mode": {
    "name": "ipython",
    "version": 3
   },
   "file_extension": ".py",
   "mimetype": "text/x-python",
   "name": "python",
   "nbconvert_exporter": "python",
   "pygments_lexer": "ipython3",
   "version": "3.10.8"
  }
 },
 "nbformat": 4,
 "nbformat_minor": 2
}
