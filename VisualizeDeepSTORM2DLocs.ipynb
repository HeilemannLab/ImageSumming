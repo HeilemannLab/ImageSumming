{
 "cells": [
  {
   "cell_type": "markdown",
   "metadata": {},
   "source": [
    "# Visualize Localizations\n",
    "\n",
    "Goal:\n",
    "- Visualize DeepSTORM prediction output (widefield image, predicted image, found localizations).\n",
    "- Compare ground truth and found localizations.\n",
    "- Filter localizations based on confidence threshold and save them as new localization file, ready to be rendered as a high-resolution image in ThunderSTORM.\n",
    "\n",
    "*Prediction directory:* Define the directory to test file single frames and localization files (prediciton output of DeepSTORM2D, sec 6.1), optionally this directory contains the ground truth localization file.<br/>\n",
    "*Confidence threshold:* All localizations below this threshold will be filtered out. If no filtering should be applied, set the value to 0.<br/>\n",
    "*Save:* The localizations are filtered by the confidence threshold and saved as new csv file.<br/>"
   ]
  },
  {
   "cell_type": "code",
   "execution_count": 1,
   "metadata": {},
   "outputs": [],
   "source": [
    "from ImageBinner.widgets import widgetsVisLocs, loadVisLocs\n",
    "from ImageBinner.tools import visLocs\n",
    "from ImageBinner.save import saveVisLocs\n",
    "import ipywidgets as widgets\n",
    "from ipywidgets import interact\n",
    "import matplotlib.pyplot as plt\n",
    "from mpl_toolkits.axes_grid1 import make_axes_locatable\n",
    "import plotly\n",
    "import plotly.graph_objects as go\n",
    "import plotly.io as pio\n",
    "import numpy as np"
   ]
  },
  {
   "cell_type": "markdown",
   "metadata": {},
   "source": [
    "### Load"
   ]
  },
  {
   "cell_type": "code",
   "execution_count": 2,
   "metadata": {
    "scrolled": false
   },
   "outputs": [
    {
     "data": {
      "application/vnd.jupyter.widget-view+json": {
       "model_id": "da96ba4667ef4764b2ccce1f5997d0ed",
       "version_major": 2,
       "version_minor": 0
      },
      "text/plain": [
       "Text(value='', description='Prediction', placeholder='directory to be searched in', style=DescriptionStyle(des…"
      ]
     },
     "metadata": {},
     "output_type": "display_data"
    },
    {
     "data": {
      "application/vnd.jupyter.widget-view+json": {
       "model_id": "981f805325fb4d36ace1ad7acec64c3e",
       "version_major": 2,
       "version_minor": 0
      },
      "text/plain": [
       "Button(description='browse', style=ButtonStyle(), tooltip='browse for directory')"
      ]
     },
     "metadata": {},
     "output_type": "display_data"
    }
   ],
   "source": [
    "prediction_dir = widgetsVisLocs.DefineDirectory(\"Prediction\", value=r\"\")\n",
    "prediction_dir.dir_button.on_click(prediction_dir.open_dir)\n",
    "prediction_dir.dir_box.observe(prediction_dir.change_dir_box)\n",
    "display(prediction_dir.dir_box, prediction_dir.dir_button)"
   ]
  },
  {
   "cell_type": "markdown",
   "metadata": {},
   "source": [
    "### Parameters"
   ]
  },
  {
   "cell_type": "code",
   "execution_count": 3,
   "metadata": {},
   "outputs": [
    {
     "data": {
      "application/vnd.jupyter.widget-view+json": {
       "model_id": "5657379bdf294400866cb920042da2c1",
       "version_major": 2,
       "version_minor": 0
      },
      "text/plain": [
       "Text(value='107', description='Pixel size [nm]', placeholder='Insert pixel size', style=DescriptionStyle(descr…"
      ]
     },
     "metadata": {},
     "output_type": "display_data"
    }
   ],
   "source": [
    "widget_parameters = widgetsVisLocs.Parameters(107, 0)  # adjust the default parameters\n",
    "display(widget_parameters.pixel_size)"
   ]
  },
  {
   "cell_type": "markdown",
   "metadata": {},
   "source": [
    "### Display"
   ]
  },
  {
   "cell_type": "code",
   "execution_count": 4,
   "metadata": {
    "scrolled": false
   },
   "outputs": [
    {
     "data": {
      "application/vnd.jupyter.widget-view+json": {
       "model_id": "6678a2cf7d9f48a084e9bc1ff52d442c",
       "version_major": 2,
       "version_minor": 0
      },
      "text/plain": [
       "Button(description='load & display', style=ButtonStyle(), tooltip='display input data')"
      ]
     },
     "metadata": {},
     "output_type": "display_data"
    }
   ],
   "source": [
    "def scroll_in_time(frame, show_single=True):\n",
    "    fig, (ax1, ax2) = plt.subplots(1,2)\n",
    "    fig.tight_layout()\n",
    "    movie_idx = int(widget_parameters.display_movie_idx.value)-1\n",
    "    fig.set_size_inches(14, 14, forward=True)\n",
    "    ax1.imshow(data.movies[movie_idx][frame-1], interpolation=\"nearest\", cmap = \"gray\")\n",
    "    ax2.imshow(data.movies[movie_idx][frame-1], interpolation=\"nearest\", cmap = \"gray\")\n",
    "    x, y = imageBinner.xy_loc_vis(data.loc_files[movie_idx][data.loc_files[movie_idx][\"frame\"] == frame], int(widget_parameters.pixel_size.value))\n",
    "    ax2.scatter(x=x, y=y, marker=\"x\")\n",
    "    ax2.set_xlim([-0.5, data.movies[movie_idx].shape[1]-0.5])\n",
    "    ax2.set_ylim([data.movies[movie_idx].shape[2]-0.5, -0.5])\n",
    "    ax1.axis(\"off\"); ax2.axis(\"off\")\n",
    "    plt.show()\n",
    "    if show_single:\n",
    "        display(data.loc_files[movie_idx][data.loc_files[movie_idx][\"frame\"] == frame])\n",
    "\n",
    "\n",
    "def scroll_in_time(frame):\n",
    "    if len(data.gt_locs):\n",
    "        # Show WIDEFIELD, PREDICTED, GT LOCS, PRED LOCS\n",
    "        fig, axs = plt.subplots(2,2)\n",
    "        fig.tight_layout()\n",
    "        fig.set_size_inches(14, 14, forward=True)\n",
    "        axs[0, 0].imshow(data.gt_tifs[frame-1], interpolation=\"nearest\", cmap = \"gray\")\n",
    "        axs[0, 1].imshow(data.predicted_stack[frame-1], interpolation=\"nearest\", cmap = \"gray\", vmin=0, vmax=1)\n",
    "        axs[1, 0].imshow(data.gt_tifs[frame-1] ,interpolation=\"nearest\", cmap = \"gray\")\n",
    "        x, y = visLocs.xy_loc_vis(data.gt_locs[data.gt_locs[\"frame\"] == frame], int(widget_parameters.pixel_size.value))\n",
    "        axs[1, 0].scatter(x=x, y=y, marker=\"x\", s=3)\n",
    "        axs[1, 1].imshow(data.predicted_stack[frame-1] ,interpolation=\"nearest\", cmap = \"gray\")\n",
    "        x, y = visLocs.xy_loc_vis(data.predicted_locs[data.predicted_locs[\"frame\"] == frame], int(widget_parameters.pixel_size.value))\n",
    "        cm = plt.cm.get_cmap(\"plasma\")\n",
    "        sc = axs[1, 1].scatter(x=x, y=y, c=list(data.predicted_locs[data.predicted_locs[\"frame\"] == frame][\"confidence [a.u]\"]), vmin=0, vmax=1, cmap=cm, marker=\"x\", s=3)  # c=ds_locs[\"confidence [a.u]\"]\n",
    "        divider = make_axes_locatable(axs[1, 1])\n",
    "        cax = divider.append_axes(\"right\", size=\"5%\", pad=0.1)\n",
    "        fig.colorbar(sc, ax=axs[1, 1], cax=cax)\n",
    "        axs[1, 1].set_xlim(-0.5, data.gt_tifs[frame-1].shape[1]-0.5)\n",
    "        axs[1, 1].set_ylim(data.gt_tifs[frame-1].shape[0]-0.5, -0.5)\n",
    "        axs[0, 0].axis(\"off\"); axs[0, 1].axis(\"off\"); axs[1, 0].axis(\"off\"); axs[1, 1].axis(\"off\"); \n",
    "        axs[0, 0].title.set_text(\"Widefield image\")\n",
    "        axs[0, 1].title.set_text(\"Predicted image\")\n",
    "        axs[1, 0].title.set_text(\"Widefield image & gt localizations\")\n",
    "        axs[1, 1].title.set_text(\"Predicted image & predicted localizations\")\n",
    "    else:\n",
    "        # Show WIDEFIELD, PREDICTED, PRED LOCS\n",
    "        fig, axs = plt.subplots(2,2)\n",
    "        fig.tight_layout()\n",
    "        fig.set_size_inches(14, 14, forward=True)\n",
    "        axs[0, 0].imshow(data.gt_tifs[frame-1], interpolation=\"nearest\", cmap = \"gray\")\n",
    "        axs[0, 1].imshow(data.predicted_stack[frame-1], interpolation=\"nearest\", cmap = \"gray\", vmin=0, vmax=1)\n",
    "        axs[1, 1].imshow(data.predicted_stack[frame-1] ,interpolation=\"nearest\", cmap = \"gray\")\n",
    "        x, y = visLocs.xy_loc_vis(data.predicted_locs[data.predicted_locs[\"frame\"] == frame], int(widget_parameters.pixel_size.value))\n",
    "        cm = plt.cm.get_cmap(\"plasma\")\n",
    "        sc = axs[1, 1].scatter(x=x, y=y, c=list(data.predicted_locs[data.predicted_locs[\"frame\"] == frame][\"confidence [a.u]\"]), vmin=0, vmax=1, cmap=cm, marker=\"x\", s=3)  # c=ds_locs[\"confidence [a.u]\"]\n",
    "        divider = make_axes_locatable(axs[1, 1])\n",
    "        cax = divider.append_axes(\"right\", size=\"5%\", pad=0.1)\n",
    "        fig.colorbar(sc, ax=axs[1, 1], cax=cax)\n",
    "        axs[1, 1].set_xlim(-0.5, data.gt_tifs[frame-1].shape[1]-0.5)\n",
    "        axs[1, 1].set_ylim(data.gt_tifs[frame-1].shape[0]-0.5, -0.5)\n",
    "        axs[0, 0].axis(\"off\"); axs[0, 1].axis(\"off\"); axs[1, 0].axis(\"off\"); axs[1, 1].axis(\"off\"); \n",
    "        axs[0, 0].title.set_text(\"Widefield image\")\n",
    "        axs[0, 1].title.set_text(\"Predicted image\")\n",
    "        axs[1, 1].title.set_text(\"Predicted image & predicted localizations\")\n",
    "    plt.show()\n",
    "\n",
    "\n",
    "def get_px_vals_prediction_stacked(predicted_tif, filter_threshold=0, n_bins=None, n_px=500000):\n",
    "    predicted_flat = data.predicted_stack.flatten()\n",
    "    predicted_filtermask= predicted_flat > filter_threshold\n",
    "    predicted_filtered = predicted_flat[predicted_filtermask]\n",
    "    np.random.shuffle(predicted_filtered)\n",
    "    predicted_filtered = predicted_filtered[:n_px]\n",
    "    fig = go.Figure(data=[go.Histogram(x=predicted_filtered, histnorm=\"probability\", nbinsx=n_bins)])  \n",
    "    fig.update_layout(template=\"plotly_white\", title=\"Pixel values of predicted image (per frame)\", xaxis_title=\"pixel value [a.u]\", yaxis_title=\"Probability\")\n",
    "    fig.show()\n",
    "\n",
    "def run(event):\n",
    "    widget_run.create_clear_output()\n",
    "    display(widget_run.run_load_button)\n",
    "    data.get_files(prediction_dir.dir_box.value)\n",
    "    interact(scroll_in_time, frame=widgets.IntSlider(min=1, max=data.gt_tifs.shape[0], step=1, value=0, continuous_update=False))\n",
    "    print(\"*\"*100)\n",
    "    visLocs.vis_wf_predicted_images(data.widefield_tif, data.predicted_tif)\n",
    "    visLocs.confidence_hist(data.predicted_locs)\n",
    "    visLocs.vis_density(data.gt_tifs.shape, data.gt_locs ,data.predicted_locs, int(widget_parameters.pixel_size.value))\n",
    "    # adjust the number of bins (n_bins=integer), the filter threshold (everything below is ignored, float) and the number of processed px values (n_px=integer)\n",
    "    get_px_vals_prediction_stacked(data.predicted_stack, filter_threshold=0, n_bins=None, n_px=500000)\n",
    "    \n",
    "data = loadVisLocs.LoadFiles()\n",
    "widget_run = widgetsVisLocs.RunAnalysis()\n",
    "display(widget_run.run_load_button)\n",
    "widget_run.run_load_button.on_click(run)"
   ]
  },
  {
   "cell_type": "markdown",
   "metadata": {},
   "source": [
    "### Filter & Save"
   ]
  },
  {
   "cell_type": "markdown",
   "metadata": {},
   "source": [
    "Filter out localizations below confidence threshold [0,1] and save as new csv file."
   ]
  },
  {
   "cell_type": "code",
   "execution_count": 5,
   "metadata": {
    "scrolled": false
   },
   "outputs": [
    {
     "data": {
      "application/vnd.jupyter.widget-view+json": {
       "model_id": "8faf740e8c224fbc98d8db7c2699220e",
       "version_major": 2,
       "version_minor": 0
      },
      "text/plain": [
       "Text(value='0', description='Confidence threshold', placeholder='locs below are filtered out', style=Descripti…"
      ]
     },
     "metadata": {},
     "output_type": "display_data"
    }
   ],
   "source": [
    "display(widget_parameters.confidence_threshold)"
   ]
  },
  {
   "cell_type": "code",
   "execution_count": 6,
   "metadata": {
    "scrolled": false
   },
   "outputs": [
    {
     "data": {
      "application/vnd.jupyter.widget-view+json": {
       "model_id": "aea686719cbc4954ba31435c765142d1",
       "version_major": 2,
       "version_minor": 0
      },
      "text/plain": [
       "Button(description='save', style=ButtonStyle(), tooltip='save the results')"
      ]
     },
     "metadata": {},
     "output_type": "display_data"
    }
   ],
   "source": [
    "widget_save = widgetsVisLocs.SaveResults()\n",
    "display(widget_save.save_button)\n",
    "\n",
    "def save_analysis(event):\n",
    "    widget_save.create_clear_output()\n",
    "    display(widget_save.save_button)\n",
    "    saveVisLocs.save(prediction_dir.dir_box.value, float(widget_parameters.confidence_threshold.value), data.predicted_locs)\n",
    "\n",
    "widget_save.save_button.on_click(save_analysis)"
   ]
  }
 ],
 "metadata": {
  "hide_input": true,
  "kernelspec": {
   "display_name": "Python 3",
   "language": "python",
   "name": "python3"
  },
  "language_info": {
   "codemirror_mode": {
    "name": "ipython",
    "version": 3
   },
   "file_extension": ".py",
   "mimetype": "text/x-python",
   "name": "python",
   "nbconvert_exporter": "python",
   "pygments_lexer": "ipython3",
   "version": "3.7.6"
  }
 },
 "nbformat": 4,
 "nbformat_minor": 2
}
