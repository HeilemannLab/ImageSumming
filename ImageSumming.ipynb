{
 "cells": [
  {
   "cell_type": "markdown",
   "metadata": {},
   "source": [
    "# Image umming\n",
    "\n",
    "Goal: Define movies & localization files of multiple measurements, cut patches and randomly sum them.\n",
    "\n",
    "Localization file:\n",
    "- Picasso localization file csv, header = frame, x [nm], y [nm], sigma [nm], intensity [photon], offset [photon], bkgstd [photon], uncertainty_xy [nm]\n",
    "- DeepSTORM2D file format, header = ,frame,x [nm],y [nm],Photon #,Sigma [nm]\n",
    "\n",
    "Movie: Tif file with one-multiple frames.\n",
    "\n",
    "Save: Randomly summed patches as tif movie, each patch is a frame and corresponding localization file as csv in DeepSTORM2D format."
   ]
  },
  {
   "cell_type": "code",
   "execution_count": 1,
   "metadata": {},
   "outputs": [],
   "source": [
    "import ipywidgets as widgets\n",
    "from ipywidgets import interact\n",
    "import matplotlib.pyplot as plt\n",
    "import matplotlib.patches as plt_patches\n",
    "import warnings\n",
    "warnings.filterwarnings(\"ignore\")\n",
    "from ImageBinner.widgets import widgetsImageBinner, loadImageBinner\n",
    "from ImageBinner.tools import imageBinner\n",
    "from ImageBinner.save import saveImageBinner"
   ]
  },
  {
   "cell_type": "markdown",
   "metadata": {},
   "source": [
    "### Load"
   ]
  },
  {
   "cell_type": "markdown",
   "metadata": {},
   "source": [
    "Define the paths to the movie (tif) and localization (csv) files of multiple measurements. The number of loading measurement widgets can be adjusted with \"n_measurements\" in the code. Empty widgets are ignored."
   ]
  },
  {
   "cell_type": "code",
   "execution_count": 2,
   "metadata": {
    "scrolled": false
   },
   "outputs": [
    {
     "name": "stdout",
     "output_type": "stream",
     "text": [
      "measurement 1\n"
     ]
    },
    {
     "data": {
      "application/vnd.jupyter.widget-view+json": {
       "model_id": "44558073213e47bb857b0e3946c2e1b7",
       "version_major": 2,
       "version_minor": 0
      },
      "text/plain": [
       "Text(value='', description='Path to movie 1', placeholder='Insert path', style=DescriptionStyle(description_wi…"
      ]
     },
     "metadata": {},
     "output_type": "display_data"
    },
    {
     "data": {
      "application/vnd.jupyter.widget-view+json": {
       "model_id": "2f5dd38ef2824779904555de0fd35542",
       "version_major": 2,
       "version_minor": 0
      },
      "text/plain": [
       "Button(description='browse', style=ButtonStyle(), tooltip='browse for file')"
      ]
     },
     "metadata": {},
     "output_type": "display_data"
    },
    {
     "data": {
      "application/vnd.jupyter.widget-view+json": {
       "model_id": "34c1e5b37935477980c6885bae08cd38",
       "version_major": 2,
       "version_minor": 0
      },
      "text/plain": [
       "Text(value='', description='Path to localizations 1', placeholder='Insert path', style=DescriptionStyle(descri…"
      ]
     },
     "metadata": {},
     "output_type": "display_data"
    },
    {
     "data": {
      "application/vnd.jupyter.widget-view+json": {
       "model_id": "5dca3dfb18764503ac0711ff8c7bb830",
       "version_major": 2,
       "version_minor": 0
      },
      "text/plain": [
       "Button(description='browse', style=ButtonStyle(), tooltip='browse for file')"
      ]
     },
     "metadata": {},
     "output_type": "display_data"
    },
    {
     "name": "stdout",
     "output_type": "stream",
     "text": [
      "measurement 2\n"
     ]
    },
    {
     "data": {
      "application/vnd.jupyter.widget-view+json": {
       "model_id": "703d749b83a846238ae475c8211b5c57",
       "version_major": 2,
       "version_minor": 0
      },
      "text/plain": [
       "Text(value='', description='Path to movie 2', placeholder='Insert path', style=DescriptionStyle(description_wi…"
      ]
     },
     "metadata": {},
     "output_type": "display_data"
    },
    {
     "data": {
      "application/vnd.jupyter.widget-view+json": {
       "model_id": "7f327de6f92345b9bb74c2856816bb77",
       "version_major": 2,
       "version_minor": 0
      },
      "text/plain": [
       "Button(description='browse', style=ButtonStyle(), tooltip='browse for file')"
      ]
     },
     "metadata": {},
     "output_type": "display_data"
    },
    {
     "data": {
      "application/vnd.jupyter.widget-view+json": {
       "model_id": "9290ea4a526a4075a6ed32907b84482e",
       "version_major": 2,
       "version_minor": 0
      },
      "text/plain": [
       "Text(value='', description='Path to localizations 2', placeholder='Insert path', style=DescriptionStyle(descri…"
      ]
     },
     "metadata": {},
     "output_type": "display_data"
    },
    {
     "data": {
      "application/vnd.jupyter.widget-view+json": {
       "model_id": "7170cb6016d54fc2a595764aad984c9b",
       "version_major": 2,
       "version_minor": 0
      },
      "text/plain": [
       "Button(description='browse', style=ButtonStyle(), tooltip='browse for file')"
      ]
     },
     "metadata": {},
     "output_type": "display_data"
    }
   ],
   "source": [
    "n_measurements = 2  # vary the number of measurements here!\n",
    "movie_widgets, localization_widgets = [], []\n",
    "for i in range(1, n_measurements+1):\n",
    "    print(\"measurement\", i)\n",
    "    movie_widget = widgetsImageBinner.DefineFiles(\"movie\", title=\"Import *.tif file\", filetype=(\"tif files\", \"*.tif\"), idx=i)\n",
    "    loc_widget = widgetsImageBinner.DefineFiles(\"localizations\", title=\"Import *.csv file\", filetype=(\"csv files\", \"*.csv\"), idx=i)\n",
    "    movie_widget.file_button.on_click(movie_widget.open_file)\n",
    "    movie_widget.file_text_box.observe(movie_widget.change_file_path_box)\n",
    "    loc_widget.file_button.on_click(loc_widget.open_file)\n",
    "    loc_widget.file_text_box.observe(loc_widget.change_file_path_box)\n",
    "    movie_widgets.append(movie_widget)\n",
    "    localization_widgets.append(loc_widget)\n",
    "    display(movie_widget.file_text_box, movie_widget.file_button, loc_widget.file_text_box, loc_widget.file_button)"
   ]
  },
  {
   "cell_type": "markdown",
   "metadata": {},
   "source": [
    "### Parameters"
   ]
  },
  {
   "cell_type": "code",
   "execution_count": 3,
   "metadata": {
    "scrolled": false
   },
   "outputs": [
    {
     "data": {
      "application/vnd.jupyter.widget-view+json": {
       "model_id": "42b81c41e0b4447f82dd5c43bfe3de56",
       "version_major": 2,
       "version_minor": 0
      },
      "text/plain": [
       "Text(value='107', description='Pixel size [nm]', placeholder='Insert pixel size', style=DescriptionStyle(descr…"
      ]
     },
     "metadata": {},
     "output_type": "display_data"
    },
    {
     "data": {
      "application/vnd.jupyter.widget-view+json": {
       "model_id": "12645153bd154359a85c43b504e590c0",
       "version_major": 2,
       "version_minor": 0
      },
      "text/plain": [
       "Text(value='100', description='Camera offset [px intensity]', placeholder='Insert average camera offset', styl…"
      ]
     },
     "metadata": {},
     "output_type": "display_data"
    },
    {
     "data": {
      "application/vnd.jupyter.widget-view+json": {
       "model_id": "f5332357c33b4b0e849fe8f94efa2bb1",
       "version_major": 2,
       "version_minor": 0
      },
      "text/plain": [
       "Text(value='30', description='Patch size [px]', placeholder='Insert k', style=DescriptionStyle(description_wid…"
      ]
     },
     "metadata": {},
     "output_type": "display_data"
    },
    {
     "data": {
      "application/vnd.jupyter.widget-view+json": {
       "model_id": "31a75ec8610c4f51858220a7dd37406a",
       "version_major": 2,
       "version_minor": 0
      },
      "text/plain": [
       "Text(value='200', description='Number of patches created', placeholder='Insert bin size', style=DescriptionSty…"
      ]
     },
     "metadata": {},
     "output_type": "display_data"
    },
    {
     "data": {
      "application/vnd.jupyter.widget-view+json": {
       "model_id": "0ad675ab7c574596907b4d35146b38ef",
       "version_major": 2,
       "version_minor": 0
      },
      "text/plain": [
       "Text(value='100', description='Number of summed patches created', placeholder='Insert the amount of summed pat…"
      ]
     },
     "metadata": {},
     "output_type": "display_data"
    },
    {
     "data": {
      "application/vnd.jupyter.widget-view+json": {
       "model_id": "69cccd69983b419d8625c47a111d9968",
       "version_major": 2,
       "version_minor": 0
      },
      "text/plain": [
       "Text(value='10', description='Number of images per patch', placeholder='Insert the amount of images to be summ…"
      ]
     },
     "metadata": {},
     "output_type": "display_data"
    },
    {
     "data": {
      "application/vnd.jupyter.widget-view+json": {
       "model_id": "74259521128d4ac191bd029a456f1d8a",
       "version_major": 2,
       "version_minor": 0
      },
      "text/plain": [
       "Text(value='2', description='Min emitters per patch', placeholder='Min emitters per patch to be used in summin…"
      ]
     },
     "metadata": {},
     "output_type": "display_data"
    }
   ],
   "source": [
    "widget_parameters = widgetsImageBinner.Parameters(107, 100, 30, 200, 100, 10, 2, 1, n_measurements)  # adjust the default parameters\n",
    "display(widget_parameters.pixel_size, widget_parameters.camera_noise, widget_parameters.patch_size, widget_parameters.n_patches, widget_parameters.n_binned_patches, widget_parameters.bin_size, widget_parameters.min_emitters_per_patch)"
   ]
  },
  {
   "cell_type": "markdown",
   "metadata": {},
   "source": [
    "## Input"
   ]
  },
  {
   "cell_type": "code",
   "execution_count": 4,
   "metadata": {
    "scrolled": false
   },
   "outputs": [
    {
     "data": {
      "application/vnd.jupyter.widget-view+json": {
       "model_id": "885489b01d334f7f8d27417cd4e158e2",
       "version_major": 2,
       "version_minor": 0
      },
      "text/plain": [
       "Dropdown(description='Measurement', options=(1, 2), style=DescriptionStyle(description_width='initial'), value…"
      ]
     },
     "metadata": {},
     "output_type": "display_data"
    },
    {
     "data": {
      "application/vnd.jupyter.widget-view+json": {
       "model_id": "df7bd4ac16f04600acec8da44a9ee860",
       "version_major": 2,
       "version_minor": 0
      },
      "text/plain": [
       "Button(description='load & display', style=ButtonStyle(), tooltip='display input data')"
      ]
     },
     "metadata": {},
     "output_type": "display_data"
    }
   ],
   "source": [
    "def scroll_in_time(frame, show_single=True):\n",
    "    fig, (ax1, ax2) = plt.subplots(1,2)\n",
    "    fig.tight_layout()\n",
    "    movie_idx = int(widget_parameters.display_movie_idx.value)-1\n",
    "    fig.set_size_inches(14, 14, forward=True)\n",
    "    ax1.imshow(data.movies[movie_idx][frame-1], interpolation=\"nearest\", cmap = \"gray\")\n",
    "    ax2.imshow(data.movies[movie_idx][frame-1], interpolation=\"nearest\", cmap = \"gray\")\n",
    "    x, y = imageBinner.xy_loc_vis(data.loc_files[movie_idx][data.loc_files[movie_idx][\"frame\"] == frame], int(widget_parameters.pixel_size.value))\n",
    "    ax2.scatter(x=x, y=y, marker=\"x\")\n",
    "    ax2.set_xlim([-0.5, data.movies[movie_idx].shape[1]-0.5])\n",
    "    ax2.set_ylim([data.movies[movie_idx].shape[2]-0.5, -0.5])\n",
    "    ax1.axis(\"off\"); ax2.axis(\"off\")\n",
    "    plt.show()\n",
    "    if show_single:\n",
    "        display(data.loc_files[movie_idx][data.loc_files[movie_idx][\"frame\"] == frame])\n",
    "\n",
    "def run_input(event):\n",
    "    widget_run.create_clear_output()\n",
    "    display(widget_parameters.display_movie_idx, widget_run.run_input)\n",
    "    movie_dirs = [widget.file_text_box.value for widget in movie_widgets if widget.file_text_box.value]\n",
    "    loc_dirs = [widget.file_text_box.value for widget in localization_widgets if widget.file_text_box.value]\n",
    "    data.load_data(movie_dirs[:min(len(movie_dirs), len(loc_dirs))], loc_dirs[:min(len(movie_dirs), len(loc_dirs))])\n",
    "    movie_idx = int(widget_parameters.display_movie_idx.value)-1\n",
    "    movies_dim = imageBinner.get_dimensions(data.movies)\n",
    "    if data.loc_files and data.movies:\n",
    "        print(\"Movie \" + str(movie_idx+1) + \" dimensions: \" + str(movies_dim[movie_idx][1])+\"x\"+str(movies_dim[movie_idx][2])+\" with \"+str(movies_dim[movie_idx][0])+\" frames\\n\")\n",
    "        print(\"Choose a frame with its localizations to display:\")\n",
    "        if movies_dim[movie_idx][0] > 1:\n",
    "            interact(scroll_in_time, frame=widgets.IntSlider(min=1, max=movies_dim[movie_idx][0], step=1, value=0, continuous_update=False))\n",
    "        else:\n",
    "            fig = plt.figure(figsize=(6,6))\n",
    "            plt.imshow(data.movies[movie_idx], interpolation=\"nearest\", cmap = \"gray\")\n",
    "            plt.title(\"Training source\")\n",
    "            plt.axis(\"off\")\n",
    "        print(\"Input densities: \")\n",
    "        imageBinner.vis_input_density(movies_dim, data.loc_files, int(widget_parameters.pixel_size.value))\n",
    "    else:\n",
    "        print(\"Please define the files of at least one measurement (movie-tif, localizations-csv).\")\n",
    "\n",
    "data = loadImageBinner.Data()\n",
    "widget_run = widgetsImageBinner.RunAnalysis()\n",
    "display(widget_parameters.display_movie_idx, widget_run.run_input)\n",
    "widget_run.run_input.on_click(run_input)"
   ]
  },
  {
   "cell_type": "markdown",
   "metadata": {},
   "source": [
    "## Patches"
   ]
  },
  {
   "cell_type": "code",
   "execution_count": 5,
   "metadata": {
    "scrolled": false
   },
   "outputs": [
    {
     "data": {
      "application/vnd.jupyter.widget-view+json": {
       "model_id": "605cf70359934237af39c21683a88406",
       "version_major": 2,
       "version_minor": 0
      },
      "text/plain": [
       "Button(description='create', style=ButtonStyle(), tooltip='create patches')"
      ]
     },
     "metadata": {},
     "output_type": "display_data"
    }
   ],
   "source": [
    "def scroll_in_time_patch(frame, show_single=True):\n",
    "    fig, (ax1, ax2) = plt.subplots(1,2)\n",
    "    fig.tight_layout()\n",
    "    fig.set_size_inches(12, 12, forward=True)\n",
    "    ax1.imshow(patches.random_patches_binned[frame-1], interpolation=\"nearest\", cmap = \"gray\")\n",
    "    ax2.imshow(patches.random_patches_binned[frame-1], interpolation=\"nearest\", cmap = \"gray\")\n",
    "    x, y = imageBinner.xy_loc_vis(patches.random_locs_binned[frame-1], int(widget_parameters.pixel_size.value))\n",
    "    ax2.scatter(x=x, y=y, marker=\"x\")\n",
    "    ax2.set_xlim(-0.5, int(widget_parameters.patch_size.value)-0.5)\n",
    "    ax2.set_ylim(int(widget_parameters.patch_size.value)-0.5, -0.5)\n",
    "    ax1.axis(\"off\"); ax2.axis(\"off\")\n",
    "    plt.show()\n",
    "    display(patches.random_locs_binned[frame-1])\n",
    "    if show_single:\n",
    "        show_single_frames(frame)\n",
    "        \n",
    "def show_single_frames(frame):\n",
    "    patch_idx = patches.random_patches_binned_idx[frame-1]   \n",
    "    for i in patch_idx:\n",
    "        fig, (ax1, ax2, ax3) = plt.subplots(1,3)\n",
    "        fig.tight_layout()\n",
    "        fig.set_size_inches(10, 10, forward=True)\n",
    "        ax1.imshow(patches.random_patches[i], interpolation=\"nearest\", cmap = \"gray\")\n",
    "        # single patch\n",
    "        x, y = imageBinner.xy_loc_vis(patches.random_locs[i], int(widget_parameters.pixel_size.value))\n",
    "        ax1.set_xlim(-0.5, int(widget_parameters.patch_size.value)-0.5)\n",
    "        ax1.set_ylim(int(widget_parameters.patch_size.value)-0.5, -0.5)\n",
    "        ax1.scatter(x=x, y=y, marker=\"x\")\n",
    "        # final patch (=summed image)\n",
    "        ax2.imshow(patches.random_patches_binned[frame-1], interpolation=\"nearest\", cmap = \"gray\")\n",
    "        x, y = imageBinner.xy_loc_vis(patches.random_locs_binned[frame-1], int(widget_parameters.pixel_size.value))\n",
    "        ax2.set_xlim(-0.5, int(widget_parameters.patch_size.value)-0.5)\n",
    "        ax2.set_ylim(int(widget_parameters.patch_size.value)-0.5, -0.5)\n",
    "        ax2.scatter(x=x, y=y, marker=\"x\")\n",
    "        # full frame + window\n",
    "        movie_idx = patches.random_patches_idx[i][0] - 1\n",
    "        frame_idx = patches.random_patches_idx[i][1]\n",
    "        ax3.imshow(data.movies[movie_idx][frame_idx-1], interpolation=\"nearest\", cmap = \"gray\")\n",
    "        rect = plt_patches.Rectangle((patches.random_patch_nm[i][1], patches.random_patch_nm[i][0]), int(widget_parameters.patch_size.value), int(widget_parameters.patch_size.value), linewidth=1, edgecolor='darkorange', facecolor='none')\n",
    "        ax3.add_patch(rect)\n",
    "        x, y = imageBinner.xy_loc_vis(data.loc_files[movie_idx][data.loc_files[movie_idx][\"frame\"] == frame_idx], int(widget_parameters.pixel_size.value))\n",
    "        ax3.set_xlim([-0.5, data.movies[movie_idx].shape[1]-0.5])\n",
    "        ax3.set_ylim([data.movies[movie_idx].shape[2]-0.5, -0.5])\n",
    "        ax3.scatter(x=x, y=y, marker=\"x\")\n",
    "        ax1.axis(\"off\"); ax2.axis(\"off\"); ax3.axis(\"off\")\n",
    "        plt.show()\n",
    "        display(patches.random_locs[i])\n",
    "\n",
    "def run_patches(event):\n",
    "    widget_run.create_clear_output()\n",
    "    display(widget_run.run_patches)\n",
    "    patches.create_patches(int(widget_parameters.n_patches.value), data.movies, data.loc_files,\n",
    "                           int(widget_parameters.patch_size.value), int(widget_parameters.n_binned_patches.value),\n",
    "                           int(widget_parameters.bin_size.value), int(widget_parameters.min_emitters_per_patch.value),\n",
    "                           int(widget_parameters.pixel_size.value), int(widget_parameters.camera_noise.value),\n",
    "                           augmentation=False)\n",
    "    print(\"Patch dimensions: \" + str(patches.random_patches_binned[0].shape[0])+\"x\"+str(patches.random_patches_binned[0].shape[1])+\" with \"+str(len(patches.random_patches_binned))+\" frames\\n\")\n",
    "    print(\"Choose a patch with its localizations to display (1 patch = 1 frame):\")\n",
    "    interact(scroll_in_time_patch, frame=widgets.IntSlider(min=1, max=patches.random_patches_binned.shape[0], step=1, value=0, continuous_update=False))\n",
    "    imageBinner.vis_patch_density(patches.random_locs_binned, int(widget_parameters.patch_size.value), int(widget_parameters.pixel_size.value))\n",
    "\n",
    "patches = imageBinner.GetPatches()\n",
    "display(widget_run.run_patches)\n",
    "widget_run.run_patches.on_click(run_patches)"
   ]
  },
  {
   "cell_type": "markdown",
   "metadata": {},
   "source": [
    "### Save"
   ]
  },
  {
   "cell_type": "markdown",
   "metadata": {},
   "source": [
    "The created patches and corresponding localization file will be saved as *.tif and *.csv under the chosen directory."
   ]
  },
  {
   "cell_type": "code",
   "execution_count": 6,
   "metadata": {},
   "outputs": [
    {
     "data": {
      "application/vnd.jupyter.widget-view+json": {
       "model_id": "595c187224554e7588c59c738942910c",
       "version_major": 2,
       "version_minor": 0
      },
      "text/plain": [
       "Text(value='', description='Filename', placeholder='name of folder', style=DescriptionStyle(description_width=…"
      ]
     },
     "metadata": {},
     "output_type": "display_data"
    },
    {
     "data": {
      "application/vnd.jupyter.widget-view+json": {
       "model_id": "51d2ea29fd894111bc7f6bd2f968cbb4",
       "version_major": 2,
       "version_minor": 0
      },
      "text/plain": [
       "Text(value='', description='Directory', placeholder='Directory to save', style=DescriptionStyle(description_wi…"
      ]
     },
     "metadata": {},
     "output_type": "display_data"
    },
    {
     "data": {
      "application/vnd.jupyter.widget-view+json": {
       "model_id": "df152bb1cf464264978ae81478d0ee76",
       "version_major": 2,
       "version_minor": 0
      },
      "text/plain": [
       "Button(description='browse', style=ButtonStyle(), tooltip='browse for directory')"
      ]
     },
     "metadata": {},
     "output_type": "display_data"
    }
   ],
   "source": [
    "widget_save = widgetsImageBinner.SaveResults()\n",
    "display(widget_save.box_filename, widget_save.dir_box, widget_save.dir_button)\n",
    "widget_save.dir_button.on_click(widget_save.open_dir)\n",
    "widget_save.dir_box.observe(widget_save.change_dir_box)"
   ]
  },
  {
   "cell_type": "code",
   "execution_count": 7,
   "metadata": {
    "scrolled": false
   },
   "outputs": [
    {
     "data": {
      "application/vnd.jupyter.widget-view+json": {
       "model_id": "54126e3160c24269826fbab174290ef3",
       "version_major": 2,
       "version_minor": 0
      },
      "text/plain": [
       "Button(description='save', style=ButtonStyle(), tooltip='save the results')"
      ]
     },
     "metadata": {},
     "output_type": "display_data"
    }
   ],
   "source": [
    "display(widget_save.save_button)\n",
    "def save_analysis(event):\n",
    "    widget_save.create_clear_output()\n",
    "    display(widget_save.save_button)   \n",
    "    saveImageBinner.save(widget_save.dir_box.value, widget_save.box_filename.value, patches.random_patches_binned, patches.random_locs_binned)\n",
    "    print(\"Results are saved.\")\n",
    "    \n",
    "widget_save.save_button.on_click(save_analysis)"
   ]
  }
 ],
 "metadata": {
  "hide_input": true,
  "kernelspec": {
   "display_name": "Python 3 (ipykernel)",
   "language": "python",
   "name": "python3"
  },
  "language_info": {
   "codemirror_mode": {
    "name": "ipython",
    "version": 3
   },
   "file_extension": ".py",
   "mimetype": "text/x-python",
   "name": "python",
   "nbconvert_exporter": "python",
   "pygments_lexer": "ipython3",
   "version": "3.9.7"
  }
 },
 "nbformat": 4,
 "nbformat_minor": 2
}
